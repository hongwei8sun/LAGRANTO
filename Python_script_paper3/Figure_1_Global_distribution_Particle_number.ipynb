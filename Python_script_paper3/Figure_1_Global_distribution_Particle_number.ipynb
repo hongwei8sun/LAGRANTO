{
 "cells": [
  {
   "cell_type": "code",
   "execution_count": 1,
   "id": "b5cd0d6a",
   "metadata": {},
   "outputs": [],
   "source": [
    "import numpy as np\n",
    "import math\n",
    "\n",
    "import matplotlib.pyplot as plt\n",
    "import cartopy.crs as crs\n",
    "import cartopy.feature as cfeature\n",
    "import matplotlib.colors as colors\n",
    "from matplotlib.cm import get_cmap\n",
    "from matplotlib import ticker\n",
    "import matplotlib.gridspec as gridspec\n",
    "\n",
    "from cartopy import config\n",
    "import cartopy.crs as ccrs\n",
    "from cartopy.mpl.ticker import LongitudeFormatter, LatitudeFormatter\n",
    "from cartopy.util import add_cyclic_point\n",
    "\n",
    "from IPython.display import Image\n",
    "from datetime import date\n",
    "\n",
    "from tqdm import tqdm\n",
    "import os "
   ]
  },
  {
   "cell_type": "code",
   "execution_count": 2,
   "id": "a6a54490",
   "metadata": {},
   "outputs": [
    {
     "name": "stdout",
     "output_type": "stream",
     "text": [
      "['2000', '2001', '2002', '2003', '2004', '2005', '2006', '2007', '2008', '2009']\n",
      "['01', '02', '03', '04', '05', '06', '07', '08', '09', '10', '11', '12']\n",
      "['01', '04', '07', '10', '13', '16', '19', '22', '25', '28']\n"
     ]
    }
   ],
   "source": [
    "Years = [\"2000\",\"2001\",\"2002\",\"2003\",\"2004\",\"2005\",\"2006\",\"2007\",\"2008\",\"2009\"]\n",
    "N_year = len(Years)\n",
    "\n",
    "Months = []\n",
    "for imon in range(1,13): ### shw\n",
    "    Months.append(str(imon).zfill(2))\n",
    "    \n",
    "Days = []\n",
    "for iday in range(1,30,3):\n",
    "    Days.append(str(iday).zfill(2))\n",
    "    \n",
    "print(Years)\n",
    "print(Months)\n",
    "print(Days)"
   ]
  },
  {
   "cell_type": "code",
   "execution_count": 3,
   "id": "cfcba991",
   "metadata": {},
   "outputs": [
    {
     "data": {
      "text/plain": [
       "(array([-90, -84, -78, -72, -66, -60, -54, -48, -42, -36, -30, -24, -18,\n",
       "        -12,  -6,   0,   6,  12,  18,  24,  30,  36,  42,  48,  54,  60,\n",
       "         66,  72,  78,  84,  90]),\n",
       " array([-180, -170, -160, -150, -140, -130, -120, -110, -100,  -90,  -80,\n",
       "         -70,  -60,  -50,  -40,  -30,  -20,  -10,    0,   10,   20,   30,\n",
       "          40,   50,   60,   70,   80,   90,  100,  110,  120,  130,  140,\n",
       "         150,  160,  170,  180]),\n",
       " array([-87, -81, -75, -69, -63, -57, -51, -45, -39, -33, -27, -21, -15,\n",
       "         -9,  -3,   3,   9,  15,  21,  27,  33,  39,  45,  51,  57,  63,\n",
       "         69,  75,  81,  87]),\n",
       " array([-175, -165, -155, -145, -135, -125, -115, -105,  -95,  -85,  -75,\n",
       "         -65,  -55,  -45,  -35,  -25,  -15,   -5,    5,   15,   25,   35,\n",
       "          45,   55,   65,   75,   85,   95,  105,  115,  125,  135,  145,\n",
       "         155,  165,  175]),\n",
       " 30,\n",
       " 36,\n",
       " 180)"
      ]
     },
     "execution_count": 3,
     "metadata": {},
     "output_type": "execute_result"
    }
   ],
   "source": [
    "Lats_edge = np.arange(-90,91,6)\n",
    "Lons_edge = np.arange(-180,181,10)\n",
    "\n",
    "Lats_mid = np.arange(-87,90,6)\n",
    "Lons_mid = np.arange(-175,180,10)\n",
    "Levs = [100, 75, 65, 55, 40, 30]\n",
    "Heights = [16, 18, 19, 20, 22, 24]\n",
    "# [100, 75, 55, 40, 30]\n",
    "\n",
    "\n",
    "N_lat = len(Lats_mid)\n",
    "N_lon = len(Lons_mid)\n",
    "N_lev = len(Levs) # 16, 18, 19, 20, 22, 24 km\n",
    "\n",
    "Lats_edge, Lons_edge, Lats_mid, Lons_mid, N_lat, N_lon, Lons_edge[-1]"
   ]
  },
  {
   "cell_type": "code",
   "execution_count": 4,
   "id": "0c00d91b",
   "metadata": {},
   "outputs": [
    {
     "name": "stderr",
     "output_type": "stream",
     "text": [
      "100%|██████████| 10/10 [06:30<00:00, 39.02s/it]"
     ]
    },
    {
     "name": "stdout",
     "output_type": "stream",
     "text": [
      "7905599\n"
     ]
    },
    {
     "name": "stderr",
     "output_type": "stream",
     "text": [
      "\n"
     ]
    }
   ],
   "source": [
    "# count the particle (injected at different height) number in each grid cell\n",
    "N_day = 20*366\n",
    "Num_2D = np.zeros((N_lat, N_lon, N_lev, N_day)) \n",
    "\n",
    "\n",
    "for i_year in tqdm(range(N_year)):\n",
    "    # File = open('/n/home12/hongwei/Paper_2/Plot_python/Num_Concnt/Num_Concnt_2000_'+Years[i_year]+'.txt', 'r')\n",
    "        \n",
    "    # total\n",
    "    File = open('/n/home12/hongwei/Paper_3_QBO/Particle_Number_Within_15deg/Num_Concnt_data/Num_Concnt_2000_'+Years[i_year]+'.txt', 'r')\n",
    "\n",
    "    # lower stratosphere: below 50hPa\n",
    "#     File = open('/n/home12/hongwei/Paper_3_QBO/Particle_Number/Num_Concnt_data/Num_Concnt_lower_2000_'+Years[i_year]+'.txt', 'r')\n",
    "\n",
    "    # higher stratosphere: below 50hPa\n",
    "#     File = open('/n/home12/hongwei/Paper_3_QBO/Particle_Number/Num_Concnt_data/Num_Concnt_upper_2000_'+Years[i_year]+'.txt', 'r')\n",
    "    \n",
    "    \n",
    "    Lines = File.readlines()\n",
    "    \n",
    "\n",
    "    NUMs = np.zeros((N_lon*N_lat*N_day, N_lev))\n",
    "    \n",
    "    ii = 0\n",
    "    for line in Lines:\n",
    "        a = line.split(',')\n",
    "        # NUMs[ii,0] = float(a[3])\n",
    "        # NUMs[ii,1] = float(a[4])\n",
    "        # NUMs[ii,2] = float(a[5])\n",
    "        # NUMs[ii,3] = float(a[6])\n",
    "        # NUMs[ii,4] = float(a[7])\n",
    "        # NUMs[ii,5] = float(a[8])\n",
    "        for iz in range(N_lev):\n",
    "            NUMs[ii,iz] = float(a[iz+3])\n",
    "        ii = ii+1\n",
    "    \n",
    "\n",
    "    Num_2D_temp = np.zeros((N_lat, N_lon, N_lev, N_day)) \n",
    "    for i_day in range(N_day):\n",
    "        for ix in range(N_lon):\n",
    "            for iy in range(N_lat):\n",
    "                ii = i_day*(N_lat*N_lon) + ix*N_lat + iy\n",
    "                Num_2D_temp[iy, ix, :, i_day] = NUMs[ii,:]\n",
    "               \n",
    "            \n",
    "    Num_2D = Num_2D + Num_2D_temp\n",
    "    \n",
    "print(ii)"
   ]
  },
  {
   "cell_type": "code",
   "execution_count": null,
   "id": "35d43495",
   "metadata": {},
   "outputs": [],
   "source": [
    "# change (-20,20) to (20,-20)\n",
    "\n",
    "print(\"LAT Before: \", Lats_mid)\n",
    "\n",
    "if Lats_mid[0]<Lats_mid[-1]:\n",
    "    Lats_edge = Lats_edge[::-1]\n",
    "    Lats_mid = Lats_mid[::-1]\n",
    "    Num_2D[:, :, :, :] = Num_2D[::-1, :, :, :]\n",
    "\n",
    "print(\"LAT After: \", Lats_mid)"
   ]
  },
  {
   "cell_type": "code",
   "execution_count": null,
   "id": "b374e379",
   "metadata": {},
   "outputs": [],
   "source": [
    "# monthly data\n",
    "# To simplify, assume all months have 30 days\n",
    "\n",
    "N_month = 20*12\n",
    "\n",
    "Num_2D_month = np.zeros((N_lat, N_lon, N_lev, N_month))\n",
    "\n",
    "for i_mon in range(N_month):\n",
    "    Num_2D_month[:,:,:,i_mon] = np.mean(Num_2D[:,:,:,i_mon*30:(i_mon+1)*30], axis=3)"
   ]
  }
 ],
 "metadata": {
  "kernelspec": {
   "display_name": "Python 3 (ipykernel)",
   "language": "python",
   "name": "python3"
  },
  "language_info": {
   "codemirror_mode": {
    "name": "ipython",
    "version": 3
   },
   "file_extension": ".py",
   "mimetype": "text/x-python",
   "name": "python",
   "nbconvert_exporter": "python",
   "pygments_lexer": "ipython3",
   "version": "3.11.8"
  }
 },
 "nbformat": 4,
 "nbformat_minor": 5
}
