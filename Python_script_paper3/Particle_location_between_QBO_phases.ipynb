{
 "cells": [
  {
   "cell_type": "code",
   "execution_count": 1,
   "id": "5fe0e73c",
   "metadata": {},
   "outputs": [],
   "source": [
    "from mpl_toolkits.basemap import Basemap\n",
    "from netCDF4 import Dataset\n",
    "import numpy as np\n",
    "\n",
    "# from matplotlib.mlab import bivariate_normal\n",
    "\n",
    "import cartopy.crs as ccrs\n",
    "import xarray as xr\n",
    "\n",
    "import math\n",
    "\n",
    "import matplotlib.pyplot as plt\n",
    "import cartopy.crs as crs\n",
    "import cartopy.feature as cfeature\n",
    "import matplotlib.colors as colors\n",
    "from matplotlib.cm import get_cmap\n",
    "from matplotlib import ticker\n",
    "import matplotlib.gridspec as gridspec\n",
    "from matplotlib.ticker import EngFormatter, StrMethodFormatter\n",
    "\n",
    "from cartopy import config\n",
    "import cartopy.crs as ccrs\n",
    "from cartopy.mpl.ticker import LongitudeFormatter, LatitudeFormatter\n",
    "from cartopy.util import add_cyclic_point\n",
    "\n",
    "from IPython.display import Image\n",
    "\n",
    "from tqdm import tqdm\n",
    "import os "
   ]
  },
  {
   "cell_type": "code",
   "execution_count": 2,
   "id": "b337a689",
   "metadata": {},
   "outputs": [
    {
     "name": "stdout",
     "output_type": "stream",
     "text": [
      "['2000', '2002', '2003', '2004', '2005', '2006', '2007', '2008', '2009']\n",
      "['01', '02', '03', '04', '05', '06', '07', '08', '09', '10', '11', '12']\n",
      "['01', '04', '07', '10', '13', '16', '19', '22', '25', '28']\n"
     ]
    }
   ],
   "source": [
    "Years = [\"2000\",\"2002\",\"2003\",\"2004\",\"2005\",\"2006\",\"2007\",\"2008\",\"2009\"]\n",
    "\n",
    "Months = []\n",
    "for imon in range(1,13,1): ### shw\n",
    "    Months.append(str(imon).zfill(2))\n",
    "    \n",
    "Days = []\n",
    "for iday in range(1,29,3):\n",
    "    Days.append(str(iday).zfill(2))\n",
    "    \n",
    "print(Years)\n",
    "print(Months)\n",
    "print(Days)"
   ]
  },
  {
   "cell_type": "code",
   "execution_count": 3,
   "id": "8875d16d",
   "metadata": {},
   "outputs": [],
   "source": [
    "Pressure = [100, 75, 65, 55, 47, 40, 30] # hPa\n",
    "Height   = [16,  17.92, 18.87, 20, 21.05, 22.1, 24] # km"
   ]
  },
  {
   "cell_type": "code",
   "execution_count": 5,
   "id": "c3608ba8",
   "metadata": {},
   "outputs": [
    {
     "name": "stdout",
     "output_type": "stream",
     "text": [
      "(6, 21, 24, 10, 12, 9)\n"
     ]
    }
   ],
   "source": [
    "Nx = 24\n",
    "Ny = 21\n",
    "Nz = 6\n",
    "N_parcel = Nx*Ny*Nz\n",
    "# if Nx*Ny*Nz!=N_parcel: print('ERROR: parcel number is wrong!')\n",
    "    \n",
    "N_year  = len(Years)\n",
    "N_month = len(Months)\n",
    "N_day   = len(Days)\n",
    "\n",
    "lifetime   = np.zeros((Nz, Ny, Nx, N_day, N_month, N_year))\n",
    "lifetime_N = np.zeros((Nz, Ny, Nx, N_day, N_month, N_year))\n",
    "lifetime_S = np.zeros((Nz, Ny, Nx, N_day, N_month, N_year))\n",
    "LON = np.zeros((Nz, Ny, Nx, N_day, N_month, N_year))\n",
    "LAT = np.zeros((Nz, Ny, Nx, N_day, N_month, N_year))\n",
    "\n",
    "print(lifetime.shape)\n",
    "\n",
    "\n",
    "Nz1 = 6\n",
    "lifetime1   = np.zeros((Nz, Ny, Nx, N_day, N_month, N_year))\n",
    "lifetime1_N = np.zeros((Nz, Ny, Nx, N_day, N_month, N_year))\n",
    "lifetime1_S = np.zeros((Nz, Ny, Nx, N_day, N_month, N_year))\n",
    "LON1 = np.zeros((Nz, Ny, Nx, N_day, N_month, N_year))\n",
    "LAT1 = np.zeros((Nz, Ny, Nx, N_day, N_month, N_year))\n",
    "\n",
    "\n",
    "LON0s = np.zeros((Nz, Ny, Nx, N_day, N_month, N_year))\n",
    "LAT0s = np.zeros((Nz, Ny, Nx, N_day, N_month, N_year))\n",
    "LEV0s = np.zeros((Nz, Ny, Nx, N_day, N_month, N_year))\n",
    "\n",
    "LON3s = np.zeros((Nz, Ny, Nx, N_day, N_month, N_year))\n",
    "LAT3s = np.zeros((Nz, Ny, Nx, N_day, N_month, N_year))\n",
    "LEV3s = np.zeros((Nz, Ny, Nx, N_day, N_month, N_year))\n",
    "\n",
    "LON6s = np.zeros((Nz, Ny, Nx, N_day, N_month, N_year))\n",
    "LAT6s = np.zeros((Nz, Ny, Nx, N_day, N_month, N_year))\n",
    "LEV6s = np.zeros((Nz, Ny, Nx, N_day, N_month, N_year))\n",
    "\n",
    "\n",
    "if Nz!=Nz1: print(\"Error: Nz!=Nz1!!!\")    "
   ]
  },
  {
   "cell_type": "code",
   "execution_count": 54,
   "id": "764847ef",
   "metadata": {},
   "outputs": [
    {
     "name": "stderr",
     "output_type": "stream",
     "text": [
      "\r",
      "  0%|          | 0/12 [00:00<?, ?it/s]"
     ]
    },
    {
     "name": "stdout",
     "output_type": "stream",
     "text": [
      "/n/home12/hongwei/Paper_3_QBO/6_monthly_location/xyz_20000101.txt\n"
     ]
    },
    {
     "name": "stderr",
     "output_type": "stream",
     "text": [
      "100%|██████████| 12/12 [00:03<00:00,  3.97it/s]\n",
      "100%|██████████| 12/12 [00:03<00:00,  3.97it/s]\n",
      "100%|██████████| 12/12 [00:03<00:00,  3.97it/s]\n",
      "100%|██████████| 12/12 [00:03<00:00,  3.91it/s]\n",
      "100%|██████████| 12/12 [00:03<00:00,  3.98it/s]\n",
      "100%|██████████| 12/12 [00:03<00:00,  3.89it/s]\n",
      "100%|██████████| 12/12 [00:03<00:00,  3.97it/s]\n",
      "100%|██████████| 12/12 [00:02<00:00,  4.03it/s]\n",
      "100%|██████████| 12/12 [00:03<00:00,  3.98it/s]\n"
     ]
    }
   ],
   "source": [
    "# 6-monthly locations: for first 6 altitude injections\n",
    "\n",
    "directory1 = '/n/home12/hongwei/Paper_3_QBO/6_monthly_location/'\n",
    "filename1 = \"xyz_\"+Years[0]+Months[0]+Days[0]+\".txt\"\n",
    "print(directory1+filename1)\n",
    "\n",
    "for i_year in range(N_year):\n",
    "    for i_month in tqdm(range(N_month)):\n",
    "        for i_day in range(N_day):\n",
    "            filename2 = \"Lifetime_\"+Years[i_year]+Months[i_month]+Days[i_day]+\".txt\"\n",
    "            File2 = open(directory1+filename1, 'r')\n",
    "        \n",
    "            Lines2 = File2.readlines()\n",
    "\n",
    "            # Strips the newline character\n",
    "            Lon0 = []\n",
    "            Lat0 = []\n",
    "            Lev0 = []\n",
    "            \n",
    "            Lon3 = []\n",
    "            Lat3 = []\n",
    "            Lev3 = [] \n",
    "            \n",
    "            Lon6 = []\n",
    "            Lat6 = []\n",
    "            Lev6 = []            \n",
    "            for line2 in Lines2:\n",
    "                a2 = line2.split(',')\n",
    "                \n",
    "                Lon0.append(float(a2[0]))\n",
    "                Lat0.append(float(a2[1]))\n",
    "                Lev0.append(float(a2[2]))\n",
    "\n",
    "                Lon3.append(float(a2[9]))\n",
    "                Lat3.append(float(a2[10]))\n",
    "                Lev3.append(float(a2[11]))                \n",
    "                \n",
    "                Lon6.append(float(a2[-3]))\n",
    "                Lat6.append(float(a2[-2]))\n",
    "                Lev6.append(float(a2[-1]))                \n",
    "\n",
    "    \n",
    "            i = 0\n",
    "            for ix in range(Nx):\n",
    "                for iy in range(Ny):\n",
    "                    for iz in range(Nz1):\n",
    "                        \n",
    "                        LON0s[iz,iy,ix,i_day,i_month,i_year] = Lon0[i_parcel]\n",
    "                        LAT0s[iz,iy,ix,i_day,i_month,i_year] = Lat0[i_parcel]\n",
    "                        LEV0s[iz,iy,ix,i_day,i_month,i_year] = Lev0[i_parcel]\n",
    "                        \n",
    "                        LON3s[iz,iy,ix,i_day,i_month,i_year] = Lon3[i_parcel]\n",
    "                        LAT3s[iz,iy,ix,i_day,i_month,i_year] = Lat3[i_parcel]\n",
    "                        LEV3s[iz,iy,ix,i_day,i_month,i_year] = Lev3[i_parcel]                        \n",
    "                        \n",
    "                        LON6s[iz,iy,ix,i_day,i_month,i_year] = Lon6[i_parcel]\n",
    "                        LAT6s[iz,iy,ix,i_day,i_month,i_year] = Lat6[i_parcel]\n",
    "                        LEV6s[iz,iy,ix,i_day,i_month,i_year] = Lev6[i_parcel]\n",
    "                        \n",
    "                        i = i+1\n",
    "                        "
   ]
  },
  {
   "cell_type": "markdown",
   "id": "0f2e68f6",
   "metadata": {},
   "source": [
    "QBO West: 2000.1, 2002.3, 2004.4, 2006.7, 2008.6, \n",
    "\n",
    "QBO East: 2001.5, 2003.9, 2005.7, 2007.6, "
   ]
  },
  {
   "cell_type": "code",
   "execution_count": 49,
   "id": "f809e404",
   "metadata": {},
   "outputs": [],
   "source": [
    "Year_W = [0,2,4,6,8]\n",
    "Month_W = [0,2,3,6,5]\n",
    "\n",
    "Year_E = [1,3,5,7]\n",
    "Month_E = [4,8,6,5]"
   ]
  },
  {
   "cell_type": "code",
   "execution_count": 59,
   "id": "14646970",
   "metadata": {},
   "outputs": [
    {
     "name": "stdout",
     "output_type": "stream",
     "text": [
      "0 0 4 1\n",
      "(21,) (21,)\n"
     ]
    }
   ],
   "source": [
    "Year_idx = 0\n",
    "Month_idx = 0\n",
    "print(Month_W[0],Year_W[0], Month_E[0],Year_E[0])\n",
    "\n",
    "Lon_W_3mon = LON0s[2,:,10,0,Month_W[0],Year_W[0]]\n",
    "Lat_W_3mon = LAT0s[2,:,10,0,Month_W[0],Year_W[0]]\n",
    "Lev_W_3mon = LEV0s[2,:,10,0,Month_W[0],Year_W[0]]\n",
    "\n",
    "Lon_E_3mon = LON0s[2,:,10,0,Month_E[0],Year_E[0]]\n",
    "Lat_E_3mon = LAT0s[2,:,10,0,Month_E[0],Year_E[0]]\n",
    "Lev_E_3mon = LEV0s[2,:,10,0,Month_E[0],Year_E[0]]\n",
    "\n",
    "print(Lev_W_3mon.shape, Lev_E_3mon.shape)\n",
    "\n",
    "\n",
    "# Lon_W_3mon_mean = np.mean(Lon_W_3mon, axis=(1,2))\n",
    "# Lat_W_3mon_mean = np.mean(Lat_W_3mon, axis=(1,2))\n",
    "# Lev_W_3mon_mean = np.mean(Lev_W_3mon, axis=(1,2))\n",
    "\n",
    "# Lon_E_3mon_mean = np.mean(Lon_E_3mon, axis=(1,2))\n",
    "# Lat_E_3mon_mean = np.mean(Lat_E_3mon, axis=(1,2))\n",
    "# Lev_E_3mon_mean = np.mean(Lev_E_3mon, axis=(1,2))\n",
    "\n",
    "# print(Lev_E_3mon_mean.shape, Lev_W_3mon_mean.shape)"
   ]
  },
  {
   "cell_type": "code",
   "execution_count": 60,
   "id": "bf184d76",
   "metadata": {},
   "outputs": [
    {
     "data": {
      "text/plain": [
       "array([0., 0., 0., 0., 0., 0., 0., 0., 0., 0., 0., 0., 0., 0., 0., 0., 0.,\n",
       "       0., 0., 0., 0.])"
      ]
     },
     "execution_count": 60,
     "metadata": {},
     "output_type": "execute_result"
    },
    {
     "data": {
      "image/png": "[encoded data removed]",
      "text/plain": [
       "<Figure size 432x288 with 1 Axes>"
      ]
     },
     "metadata": {
      "needs_background": "light"
     },
     "output_type": "display_data"
    }
   ],
   "source": [
    "plt.plot(Lat_W_3mon_mean, 'r-')\n",
    "plt.plot(Lat_E_3mon_mean, 'b--')\n",
    "Lat_W_3mon_mean - Lat_E_3mon_mean"
   ]
  },
  {
   "cell_type": "code",
   "execution_count": null,
   "id": "a1a4f94a",
   "metadata": {},
   "outputs": [],
   "source": []
  },
  {
   "cell_type": "code",
   "execution_count": 61,
   "id": "6a864e67",
   "metadata": {},
   "outputs": [
    {
     "data": {
      "text/plain": [
       "array([0., 0., 0., 0., 0., 0., 0., 0., 0., 0., 0., 0., 0., 0., 0., 0., 0.,\n",
       "       0., 0., 0., 0.])"
      ]
     },
     "execution_count": 61,
     "metadata": {},
     "output_type": "execute_result"
    },
    {
     "data": {
      "image/png": "[encoded data removed]",
      "text/plain": [
       "<Figure size 432x288 with 1 Axes>"
      ]
     },
     "metadata": {
      "needs_background": "light"
     },
     "output_type": "display_data"
    }
   ],
   "source": [
    "plt.plot(Lev_W_3mon, 'r-')\n",
    "plt.plot(Lev_E_3mon, 'b--')\n",
    "Lev_W_3mon_mean - Lev_E_3mon_mean"
   ]
  },
  {
   "cell_type": "code",
   "execution_count": 62,
   "id": "6b4a2936",
   "metadata": {},
   "outputs": [
    {
     "data": {
      "text/plain": [
       "(array([18.04, 18.04, 18.04, 18.04, 18.04, 18.04, 18.04, 18.04, 18.04]),\n",
       " array([152.86, 152.86, 152.86, 152.86, 152.86, 152.86, 152.86, 152.86,\n",
       "        152.86]))"
      ]
     },
     "execution_count": 62,
     "metadata": {},
     "output_type": "execute_result"
    }
   ],
   "source": [
    "LAT3s[0,0,0,0,0,:], LON3s[0,0,0,0,0,:]"
   ]
  },
  {
   "cell_type": "code",
   "execution_count": null,
   "id": "6a07be52",
   "metadata": {},
   "outputs": [],
   "source": []
  }
 ],
 "metadata": {
  "kernelspec": {
   "display_name": "Python [conda env:.conda-SUNenv]",
   "language": "python",
   "name": "conda-env-.conda-SUNenv-py"
  },
  "language_info": {
   "codemirror_mode": {
    "name": "ipython",
    "version": 3
   },
   "file_extension": ".py",
   "mimetype": "text/x-python",
   "name": "python",
   "nbconvert_exporter": "python",
   "pygments_lexer": "ipython3",
   "version": "3.8.5"
  }
 },
 "nbformat": 4,
 "nbformat_minor": 5
}
