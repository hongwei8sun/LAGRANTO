{
 "cells": [
  {
   "cell_type": "code",
   "execution_count": 1,
   "id": "88fc2f26",
   "metadata": {},
   "outputs": [],
   "source": [
    "from mpl_toolkits.basemap import Basemap\n",
    "from netCDF4 import Dataset\n",
    "import numpy as np\n",
    "\n",
    "# from matplotlib.mlab import bivariate_normal\n",
    "\n",
    "import cartopy.crs as ccrs\n",
    "import xarray as xr\n",
    "import pandas as pd\n",
    "\n",
    "import math\n",
    "\n",
    "import matplotlib.pyplot as plt\n",
    "import cartopy.crs as crs\n",
    "import cartopy.feature as cfeature\n",
    "import matplotlib.colors as colors\n",
    "from matplotlib.cm import get_cmap\n",
    "from matplotlib import ticker\n",
    "import matplotlib.gridspec as gridspec\n",
    "from matplotlib.ticker import EngFormatter, StrMethodFormatter\n",
    "\n",
    "from cartopy import config\n",
    "import cartopy.crs as ccrs\n",
    "from cartopy.mpl.ticker import LongitudeFormatter, LatitudeFormatter\n",
    "from cartopy.util import add_cyclic_point\n",
    "\n",
    "from IPython.display import Image\n",
    "\n",
    "from tqdm import tqdm\n",
    "import os "
   ]
  },
  {
   "cell_type": "code",
   "execution_count": 2,
   "id": "48ae4739",
   "metadata": {},
   "outputs": [
    {
     "name": "stdout",
     "output_type": "stream",
     "text": [
      "['2000', '2001', '2002', '2003', '2004', '2005', '2006', '2007', '2008', '2009']\n",
      "['01', '02', '03', '04', '05', '06', '07', '08', '09', '10', '11', '12']\n",
      "['01', '04', '07', '10', '13', '16', '19', '22', '25', '28']\n"
     ]
    }
   ],
   "source": [
    "Years = [\"2000\",\"2001\",\"2002\",\"2003\",\"2004\",\"2005\",\"2006\",\"2007\",\"2008\",\"2009\"]\n",
    "# Years = [\"2009\"]\n",
    "\n",
    "Months = []\n",
    "for imon in range(1,13): ### shw\n",
    "    Months.append(str(imon).zfill(2))\n",
    "    \n",
    "Days = []\n",
    "for iday in range(1,29,3):\n",
    "    Days.append(str(iday).zfill(2))\n",
    "    \n",
    "print(Years)\n",
    "print(Months)\n",
    "print(Days)"
   ]
  },
  {
   "cell_type": "code",
   "execution_count": 3,
   "id": "8713227d",
   "metadata": {},
   "outputs": [],
   "source": [
    "Pressure = [100, 75, 65, 55, 40, 30] # hPa\n",
    "Height   = [16,  17.92, 18.87, 20, 22.1, 24] # km\n"
   ]
  },
  {
   "cell_type": "code",
   "execution_count": 4,
   "id": "44d8731a",
   "metadata": {},
   "outputs": [
    {
     "name": "stdout",
     "output_type": "stream",
     "text": [
      "(6, 21, 24, 10, 12, 10)\n"
     ]
    }
   ],
   "source": [
    "Nx = 24\n",
    "Ny = 21\n",
    "Nz = 6\n",
    "N_parcel = Nx*Ny*Nz\n",
    "# if Nx*Ny*Nz!=N_parcel: print('ERROR: parcel number is wrong!')\n",
    "    \n",
    "N_year  = len(Years)\n",
    "N_month = len(Months)\n",
    "N_day   = len(Days)\n",
    "\n",
    "\n",
    "# tropical exiting locations\n",
    "LON1 = np.zeros((Nz, Ny, Nx, N_day, N_month, N_year))\n",
    "LAT1 = np.zeros((Nz, Ny, Nx, N_day, N_month, N_year))\n",
    "LEV1 = np.zeros((Nz, Ny, Nx, N_day, N_month, N_year))\n",
    "\n",
    "LON1_exit = np.zeros((Nz, Ny, Nx, N_day, N_month, N_year))\n",
    "LAT1_exit = np.zeros((Nz, Ny, Nx, N_day, N_month, N_year))\n",
    "LEV1_exit = np.zeros((Nz, Ny, Nx, N_day, N_month, N_year))\n",
    "print(LON1_exit.shape)\n",
    "\n",
    "\n",
    "# tropopause sink locations + lifetime\n",
    "LON2 = np.zeros((Nz, Ny, Nx, N_day, N_month, N_year))\n",
    "LAT2 = np.zeros((Nz, Ny, Nx, N_day, N_month, N_year))\n",
    "LEV2 = np.zeros((Nz, Ny, Nx, N_day, N_month, N_year))\n",
    "\n",
    "lifetime2   = np.zeros((Nz, Ny, Nx, N_day, N_month, N_year))\n",
    "lifetime2_N = np.zeros((Nz, Ny, Nx, N_day, N_month, N_year))\n",
    "lifetime2_S = np.zeros((Nz, Ny, Nx, N_day, N_month, N_year))\n",
    "\n",
    "LON2_sink = np.zeros((Nz, Ny, Nx, N_day, N_month, N_year))\n",
    "LAT2_sink = np.zeros((Nz, Ny, Nx, N_day, N_month, N_year))\n",
    "LEV2_sink = np.zeros((Nz, Ny, Nx, N_day, N_month, N_year))"
   ]
  },
  {
   "cell_type": "code",
   "execution_count": 5,
   "id": "7c4f1ec1",
   "metadata": {},
   "outputs": [
    {
     "name": "stdout",
     "output_type": "stream",
     "text": [
      "./Exiting_Pressure_data/Exiting_Press_20000101.txt\n"
     ]
    },
    {
     "name": "stderr",
     "output_type": "stream",
     "text": [
      "100%|██████████| 12/12 [00:03<00:00,  3.35it/s]\n",
      "100%|██████████| 12/12 [00:03<00:00,  3.41it/s]\n",
      "100%|██████████| 12/12 [00:03<00:00,  3.75it/s]\n",
      "100%|██████████| 12/12 [00:03<00:00,  3.35it/s]\n",
      "100%|██████████| 12/12 [00:03<00:00,  3.50it/s]\n",
      "100%|██████████| 12/12 [00:03<00:00,  3.27it/s]\n",
      "100%|██████████| 12/12 [00:03<00:00,  3.36it/s]\n",
      "100%|██████████| 12/12 [00:03<00:00,  3.22it/s]\n",
      "100%|██████████| 12/12 [00:03<00:00,  3.58it/s]\n",
      "100%|██████████| 12/12 [00:03<00:00,  3.37it/s]\n"
     ]
    }
   ],
   "source": [
    "# for tropical exiting locations\n",
    "\n",
    "directory1 = './Exiting_Pressure_data/'\n",
    "filename1 = \"Exiting_Press_\"+Years[0]+Months[0]+Days[0]+\".txt\"\n",
    "print(directory1+filename1)\n",
    "\n",
    "for i_year in range(N_year):\n",
    "    for i_month in tqdm(range(N_month)):\n",
    "        for i_day in range(N_day):\n",
    "            filename1 = \"Exiting_Press_\"+Years[i_year]+Months[i_month]+Days[i_day]+\".txt\"\n",
    "            File1 = open(directory1+filename1, 'r')\n",
    "        \n",
    "            Lines1 = File1.readlines()\n",
    "\n",
    "            # Strips the newline character\n",
    "            data   = []\n",
    "            data_N = []\n",
    "            data_S = []\n",
    "            Longitude = []\n",
    "            Latitude  = []\n",
    "            Press     = []\n",
    "            Longitude_final = []\n",
    "            Latitude_final  = []\n",
    "            Press_final = []\n",
    "            for line1 in Lines1:\n",
    "                a1 = line1.split(',')\n",
    "                # tropical lifetime\n",
    "                data.append(float(a1[0]))\n",
    "                data_N.append(float(a1[1]))\n",
    "                data_S.append(float(a1[2]))\n",
    "                # injection location\n",
    "                Longitude.append(float(a1[3]))\n",
    "                Latitude.append(float(a1[4]))\n",
    "                Press.append(float(a1[5]))\n",
    "                # tropical exiting locations\n",
    "                Longitude_final.append(float(a1[6]))\n",
    "                Latitude_final.append(float(a1[7]))\n",
    "                Press_final.append(float(a1[8]))\n",
    "            \n",
    "    \n",
    "            i = 0\n",
    "            for ix in range(Nx):\n",
    "                for iy in range(Ny):\n",
    "                    for iz in range(Nz):\n",
    "                        \n",
    "                        LON1[iz,iy,ix,i_day,i_month,i_year] = Longitude[i]\n",
    "                        LAT1[iz,iy,ix,i_day,i_month,i_year] = Latitude[i]\n",
    "                        LEV1[iz,iy,ix,i_day,i_month,i_year] = Press[i]\n",
    "                        \n",
    "                        LON1_exit[iz,iy,ix,i_day,i_month,i_year] = Longitude_final[i]\n",
    "                        LAT1_exit[iz,iy,ix,i_day,i_month,i_year] = Latitude_final[i]\n",
    "                        LEV1_exit[iz,iy,ix,i_day,i_month,i_year] = Press_final[i]                        \n",
    "                        \n",
    "                        i = i+1"
   ]
  },
  {
   "cell_type": "code",
   "execution_count": 6,
   "id": "6e938067",
   "metadata": {},
   "outputs": [
    {
     "name": "stderr",
     "output_type": "stream",
     "text": [
      "\r",
      "  0%|          | 0/12 [00:00<?, ?it/s]"
     ]
    },
    {
     "name": "stdout",
     "output_type": "stream",
     "text": [
      "/n/home12/hongwei/Paper_3_QBO/Lifetime_New_Tropopause/Lifetime/Lifetime_20000101.txt\n"
     ]
    },
    {
     "name": "stderr",
     "output_type": "stream",
     "text": [
      "100%|██████████| 12/12 [00:04<00:00,  2.82it/s]\n",
      "100%|██████████| 12/12 [00:04<00:00,  2.93it/s]\n",
      "100%|██████████| 12/12 [00:04<00:00,  2.83it/s]\n",
      "100%|██████████| 12/12 [00:04<00:00,  2.99it/s]\n",
      "100%|██████████| 12/12 [00:03<00:00,  3.01it/s]\n",
      "100%|██████████| 12/12 [00:03<00:00,  3.20it/s]\n",
      "100%|██████████| 12/12 [00:03<00:00,  3.02it/s]\n",
      "100%|██████████| 12/12 [00:03<00:00,  3.01it/s]\n",
      "100%|██████████| 12/12 [00:04<00:00,  2.85it/s]\n",
      "100%|██████████| 12/12 [00:03<00:00,  3.01it/s]\n"
     ]
    }
   ],
   "source": [
    "# for tropopause sink locations\n",
    "\n",
    "directory1 = '/n/home12/hongwei/Paper_3_QBO/Lifetime_New_Tropopause/Lifetime/'\n",
    "filename1 = \"Lifetime_\"+Years[0]+Months[0]+Days[0]+\".txt\"\n",
    "print(directory1+filename1)\n",
    "\n",
    "for i_year in range(N_year):\n",
    "    for i_month in tqdm(range(N_month)):\n",
    "        for i_day in range(N_day):\n",
    "            filename1 = \"Lifetime_\"+Years[i_year]+Months[i_month]+Days[i_day]+\".txt\"\n",
    "            File1 = open(directory1+filename1, 'r')\n",
    "        \n",
    "            Lines1 = File1.readlines()\n",
    "\n",
    "            # Strips the newline character\n",
    "            data   = []\n",
    "            data_N = []\n",
    "            data_S = []\n",
    "            Longitude = []\n",
    "            Latitude  = []\n",
    "            Press     = []\n",
    "            Longitude_final = []\n",
    "            Latitude_final  = []\n",
    "            Press_final = []\n",
    "            for line1 in Lines1:\n",
    "                a1 = line1.split(',')\n",
    "                # stratospheric lifetime\n",
    "                data.append(float(a1[0]))\n",
    "                data_N.append(float(a1[1]))\n",
    "                data_S.append(float(a1[2]))\n",
    "                # injection location\n",
    "                Longitude.append(float(a1[3]))\n",
    "                Latitude.append(float(a1[4]))\n",
    "                Press.append(float(a1[5]))\n",
    "                # tropopause sink locations\n",
    "                Longitude_final.append(float(a1[6]))\n",
    "                Latitude_final.append(float(a1[7]))\n",
    "                Press_final.append(float(a1[8]))\n",
    "            \n",
    "    \n",
    "            i = 0\n",
    "            for ix in range(Nx):\n",
    "                for iy in range(Ny):\n",
    "                    for iz in range(Nz):\n",
    "                        \n",
    "                        lifetime2[iz,iy,ix,i_day,i_month,i_year]   = data[i]\n",
    "                        lifetime2_N[iz,iy,ix,i_day,i_month,i_year] = data_N[i]\n",
    "                        lifetime2_S[iz,iy,ix,i_day,i_month,i_year] = data_S[i]\n",
    "                        \n",
    "                        LON2[iz,iy,ix,i_day,i_month,i_year] = Longitude[i]\n",
    "                        LAT2[iz,iy,ix,i_day,i_month,i_year] = Latitude[i]\n",
    "                        LEV2[iz,iy,ix,i_day,i_month,i_year] = Press[i]\n",
    "                        \n",
    "                        LON2_sink[iz,iy,ix,i_day,i_month,i_year] = Longitude_final[i]\n",
    "                        LAT2_sink[iz,iy,ix,i_day,i_month,i_year] = Latitude_final[i]\n",
    "                        LEV2_sink[iz,iy,ix,i_day,i_month,i_year] = Press_final[i]                        \n",
    "                        \n",
    "                        i = i+1"
   ]
  },
  {
   "cell_type": "markdown",
   "id": "ec30f7da",
   "metadata": {},
   "source": [
    "## Number flux from tropics to mid-lat "
   ]
  },
  {
   "cell_type": "code",
   "execution_count": 7,
   "id": "d967ca67",
   "metadata": {},
   "outputs": [
    {
     "data": {
      "text/plain": [
       "48288"
      ]
     },
     "execution_count": 7,
     "metadata": {},
     "output_type": "execute_result"
    }
   ],
   "source": [
    "# LEV1_exit = np.zeros((Nz, Ny, Nx, N_day, N_month, N_year))\n",
    "\n",
    "iz = 2\n",
    "\n",
    "# LEV1_exit2 = LEV1_exit[iz,:,:,:,:,5:10]\n",
    "# print(LEV1_exit2.shape)\n",
    "\n",
    "Num1 = []\n",
    "Num2 = []\n",
    "\n",
    "Num3 = []\n",
    "Num4 = []\n",
    "\n",
    "P_ref = 50\n",
    "for iyr in range(5,10,1):\n",
    "    for imon in range(N_month):\n",
    "        for iday in range(N_day):\n",
    "            \n",
    "            LEV1_exit_1d = LEV1_exit[iz,:,:,iday,imon,iyr].flatten()\n",
    "            LAT1_exit_1d = LAT1_exit[iz,:,:,iday,imon,iyr].flatten()\n",
    "            \n",
    "            idx1 = [idx for idx, val in enumerate(LEV1_exit_1d) if val < P_ref]\n",
    "            idx2 = [idx for idx, val in enumerate(LEV1_exit_1d) if val >= P_ref]\n",
    "            \n",
    "            idx3 = [idx for idx, val in enumerate(LAT1_exit_1d) if abs(val) < 29.9]\n",
    "            idx4 = [idx for idx, val in enumerate(LAT1_exit_1d) if abs(val) > 29.9]\n",
    "            \n",
    "            Num1.append(len(idx1))\n",
    "            Num2.append(len(idx2))\n",
    "            \n",
    "            Num3.append(len(idx3))\n",
    "            Num4.append(len(idx4))            \n",
    "            \n",
    "np.sum(Num1)"
   ]
  },
  {
   "cell_type": "code",
   "execution_count": 8,
   "id": "093a6891",
   "metadata": {},
   "outputs": [
    {
     "data": {
      "text/plain": [
       "(80.48, 423.52, 0.1596825396825397, 0.8403174603174602, 504.0)"
      ]
     },
     "execution_count": 8,
     "metadata": {},
     "output_type": "execute_result"
    }
   ],
   "source": [
    "total = np.mean(Num1)+np.mean(Num2)\n",
    "\n",
    "np.mean(Num1), np.mean(Num2), np.mean(Num1)/total, np.mean(Num2)/total, np.mean(Num1)+np.mean(Num2)"
   ]
  },
  {
   "cell_type": "markdown",
   "id": "cce678ec",
   "metadata": {},
   "source": [
    "### Sink in the tropical tropopause"
   ]
  },
  {
   "cell_type": "code",
   "execution_count": 9,
   "id": "2b1f0b13",
   "metadata": {},
   "outputs": [
    {
     "data": {
      "text/plain": [
       "(5.796666666666667, 498.2033333333333)"
      ]
     },
     "execution_count": 9,
     "metadata": {},
     "output_type": "execute_result"
    }
   ],
   "source": [
    "np.mean(Num3), np.mean(Num4)"
   ]
  },
  {
   "cell_type": "code",
   "execution_count": 10,
   "id": "21b1af5a",
   "metadata": {},
   "outputs": [
    {
     "data": {
      "text/plain": [
       "[335]"
      ]
     },
     "execution_count": 10,
     "metadata": {},
     "output_type": "execute_result"
    }
   ],
   "source": [
    "idx3"
   ]
  },
  {
   "cell_type": "markdown",
   "id": "ad680200",
   "metadata": {},
   "source": [
    "## Different lat vs. tropical exiting pressure"
   ]
  },
  {
   "cell_type": "code",
   "execution_count": 11,
   "id": "5b75eebe",
   "metadata": {},
   "outputs": [
    {
     "data": {
      "text/plain": [
       "48288"
      ]
     },
     "execution_count": 11,
     "metadata": {},
     "output_type": "execute_result"
    }
   ],
   "source": [
    "# LEV1_exit = np.zeros((Nz, Ny, Nx, N_day, N_month, N_year))\n",
    "\n",
    "iz = 2\n",
    "\n",
    "# LEV1_exit2 = LEV1_exit[iz,:,:,:,:,5:10]\n",
    "# print(LEV1_exit2.shape)\n",
    "\n",
    "Num11 = np.zeros((Ny,5*N_month*N_day))\n",
    "Num22 = np.zeros((Ny,5*N_month*N_day))\n",
    "\n",
    "Num33 = np.zeros((Ny,5*N_month*N_day))\n",
    "Num44 = np.zeros((Ny,5*N_month*N_day))\n",
    "\n",
    "P_ref = 50\n",
    "it = 0\n",
    "for iyr in range(5,10,1):\n",
    "    for imon in range(N_month):\n",
    "        for iday in range(N_day):\n",
    "            for iy in range(Ny):\n",
    "            \n",
    "                LEV1_exit_1d = LEV1_exit[iz,iy,:,iday,imon,iyr].flatten()\n",
    "                LAT1_exit_1d = LAT1_exit[iz,iy,:,iday,imon,iyr].flatten()\n",
    "            \n",
    "                idx11 = [idx for idx, val in enumerate(LEV1_exit_1d) if val < P_ref]\n",
    "                idx22 = [idx for idx, val in enumerate(LEV1_exit_1d) if val >= P_ref]\n",
    "            \n",
    "                idx33 = [idx for idx, val in enumerate(LAT1_exit_1d) if abs(val) < 29.9]\n",
    "                idx44 = [idx for idx, val in enumerate(LAT1_exit_1d) if abs(val) > 29.9]\n",
    "            \n",
    "                Num11[iy,it] = len(idx11)\n",
    "                Num22[iy,it] = len(idx22)\n",
    "            \n",
    "                Num33[iy,it] = len(idx33)\n",
    "                Num44[iy,it] = len(idx44)  \n",
    "                \n",
    "            it = it+1\n",
    "            \n",
    "np.sum(Num1)"
   ]
  },
  {
   "cell_type": "code",
   "execution_count": 12,
   "id": "fea610a0",
   "metadata": {},
   "outputs": [
    {
     "data": {
      "text/plain": [
       "(600, 600)"
      ]
     },
     "execution_count": 12,
     "metadata": {},
     "output_type": "execute_result"
    }
   ],
   "source": [
    "it, 5*N_month*N_day"
   ]
  },
  {
   "cell_type": "code",
   "execution_count": 13,
   "id": "46a145fe",
   "metadata": {},
   "outputs": [
    {
     "data": {
      "image/png": "[encoded data removed]",
      "text/plain": [
       "<Figure size 432x288 with 1 Axes>"
      ]
     },
     "metadata": {
      "needs_background": "light"
     },
     "output_type": "display_data"
    }
   ],
   "source": [
    "Num11_mean = np.mean(Num11,axis=1)\n",
    "Num22_mean = np.mean(Num22,axis=1)\n",
    "total_mean = Num11_mean + Num22_mean\n",
    "\n",
    "LATs = np.arange(-30,31,3)\n",
    "\n",
    "plt.plot(LATs, 100*Num22_mean/total_mean, 'b-', label=f'Tropical exit below {P_ref}');\n",
    "plt.plot(LATs, 100*Num11_mean/total_mean, 'r-', label=f'Tropical exit above {P_ref}')\n",
    "\n",
    "plt.xlabel(\"Injection lat\")\n",
    "plt.ylabel(\"Number percent [%]\")\n",
    "plt.legend();"
   ]
  },
  {
   "cell_type": "code",
   "execution_count": 14,
   "id": "230d2669",
   "metadata": {},
   "outputs": [
    {
     "data": {
      "text/plain": [
       "array([24., 24., 24., 24., 24., 24., 24., 24., 24., 24., 24., 24., 24.,\n",
       "       24., 24., 24., 24., 24., 24., 24., 24.])"
      ]
     },
     "execution_count": 14,
     "metadata": {},
     "output_type": "execute_result"
    }
   ],
   "source": [
    "Num11_mean + Num22_mean\n"
   ]
  },
  {
   "cell_type": "markdown",
   "id": "317145e4",
   "metadata": {},
   "source": [
    "## Tropical exiting lev: annual change"
   ]
  },
  {
   "cell_type": "code",
   "execution_count": 27,
   "id": "8fbcb3c8",
   "metadata": {},
   "outputs": [
    {
     "name": "stdout",
     "output_type": "stream",
     "text": [
      "18.87 65\n",
      "Stratospheric lifetime: 3.2 year (Higher than 50 hPa), 1.4 year (Lower than 50 hPa)\n",
      "Particle number: 0.16431712962962963 year (Higher than 50 hPa), 0.8356828703703704 year (Lower than 50 hPa)\n"
     ]
    },
    {
     "data": {
      "image/png": "[encoded data removed]",
      "text/plain": [
       "<Figure size 600x400 with 1 Axes>"
      ]
     },
     "metadata": {
      "needs_background": "light"
     },
     "output_type": "display_data"
    }
   ],
   "source": [
    "iz = 2\n",
    "\n",
    "P_ref = 50\n",
    "\n",
    "print(Height[iz], Pressure[iz])\n",
    "\n",
    "LEV1_exit_1d = LEV1_exit[iz,:,:,:,:,:].flatten()\n",
    "lifetime2_1d = lifetime2[iz,:,:,:,:,:].flatten()\n",
    "LAT2_sink_1d = LAT2_sink[iz,:,:,:,:,:].flatten()\n",
    "\n",
    "fig = plt.figure(dpi=100)\n",
    "\n",
    "plt.hist(LEV1_exit_1d, bins=40, label=\"LEV\", orientation='horizontal')\n",
    "plt.ylim(0,100)\n",
    "plt.xlim(0,150000)\n",
    "plt.gca().invert_yaxis()\n",
    "\n",
    "plt.plot([0,150000], [P_ref,P_ref],  'k--')\n",
    "\n",
    "plt.title(f\"{Height[iz]:.0f} km ({Pressure[iz]} hPa)\")\n",
    "plt.xlabel(\"Number of particle\")\n",
    "plt.ylabel(\"Tropical exiting pressure (hPa)\");\n",
    "\n",
    "\n",
    "\n",
    "idx1 = [idx for idx, val in enumerate(LEV1_exit_1d) if val < P_ref]\n",
    "idx2 = [idx for idx, val in enumerate(LEV1_exit_1d) if val >= P_ref]\n",
    "\n",
    "print(f\"Stratospheric lifetime: {np.mean(lifetime2_1d[idx1])/365.25:.1f} year (Higher than {P_ref} hPa), \\\n",
    "{np.mean(lifetime2_1d[idx2])/365.25:.1f} year (Lower than {P_ref} hPa)\")\n",
    "\n",
    "print(f\"Particle number: { len(idx1) / (len(idx1)+len(idx2)) } year (Higher than {P_ref} hPa), \\\n",
    "{ len(idx2) / (len(idx1)+len(idx2)) } year (Lower than {P_ref} hPa)\")"
   ]
  },
  {
   "cell_type": "code",
   "execution_count": 64,
   "id": "443a4100",
   "metadata": {},
   "outputs": [
    {
     "name": "stdout",
     "output_type": "stream",
     "text": [
      "18.87 65\n",
      "Stratospheric lifetime: 3.3 year (Higher than 50 hPa), 1.5 year (Lower than 50 hPa)\n",
      "Particle number: 0.2577847222222222 year (Higher than 50 hPa), 0.7422152777777777 year (Lower than 50 hPa)\n"
     ]
    },
    {
     "data": {
      "image/png": "[encoded data removed]",
      "text/plain": [
       "<Figure size 600x400 with 1 Axes>"
      ]
     },
     "metadata": {
      "needs_background": "light"
     },
     "output_type": "display_data"
    }
   ],
   "source": [
    "# LEV1_exit = np.zeros((Nz, Ny, Nx, N_day, N_month, N_year))\n",
    "\n",
    "iz = 2\n",
    "\n",
    "P_ref = 50\n",
    "\n",
    "print(Height[iz], Pressure[iz])\n",
    "\n",
    "LEV1_exit_1d = LEV1_exit[iz,5:15,:,:,:,:].flatten()\n",
    "lifetime2_1d = lifetime2[iz,5:15,:,:,:,:].flatten()\n",
    "LAT2_sink_1d = LAT2_sink[iz,5:15,:,:,:,:].flatten()\n",
    "\n",
    "fig = plt.figure(dpi=100)\n",
    "\n",
    "plt.hist(LEV1_exit_1d, bins=40, label=\"LEV\", orientation='horizontal')\n",
    "plt.ylim(0,120)\n",
    "plt.xlim(0,35000)\n",
    "plt.gca().invert_yaxis()\n",
    "\n",
    "plt.plot([0,150000], [P_ref,P_ref],  'k--')\n",
    "\n",
    "plt.title(f\"{Height[iz]:.0f} km ({Pressure[iz]} hPa)\")\n",
    "plt.xlabel(\"Number of particle\")\n",
    "plt.ylabel(\"Tropical exiting pressure (hPa)\");\n",
    "\n",
    "\n",
    "\n",
    "idx1 = [idx for idx, val in enumerate(LEV1_exit_1d) if val < P_ref]\n",
    "idx2 = [idx for idx, val in enumerate(LEV1_exit_1d) if val >= P_ref]\n",
    "\n",
    "print(f\"Stratospheric lifetime: {np.mean(lifetime2_1d[idx1])/365.25:.1f} year (Higher than {P_ref} hPa), \\\n",
    "{np.mean(lifetime2_1d[idx2])/365.25:.1f} year (Lower than {P_ref} hPa)\")\n",
    "\n",
    "print(f\"Particle number: { len(idx1) / (len(idx1)+len(idx2)) } year (Higher than {P_ref} hPa), \\\n",
    "{ len(idx2) / (len(idx1)+len(idx2)) } year (Lower than {P_ref} hPa)\")"
   ]
  },
  {
   "cell_type": "code",
   "execution_count": 75,
   "id": "f40f5069",
   "metadata": {},
   "outputs": [
    {
     "name": "stderr",
     "output_type": "stream",
     "text": [
      "\r",
      "  0%|          | 0/12 [00:00<?, ?it/s]"
     ]
    },
    {
     "name": "stdout",
     "output_type": "stream",
     "text": [
      "[  0  10  20  30  40  50  60  70  80  90 100 110 120]\n",
      "[  5  15  25  35  45  55  65  75  85  95 105 115]\n"
     ]
    },
    {
     "name": "stderr",
     "output_type": "stream",
     "text": [
      "100%|██████████| 12/12 [00:09<00:00,  1.26it/s]\n"
     ]
    }
   ],
   "source": [
    "iz = 2\n",
    "\n",
    "Ps = np.arange(0,130,10)\n",
    "Ps_mid = np.arange(5,120,10)\n",
    "\n",
    "print(Ps)\n",
    "print(Ps_mid)\n",
    "\n",
    "LEV1_exit_1d = LEV1_exit[iz,5:15,:,:,:,:].flatten()\n",
    "lifetime2_1d = lifetime2[iz,5:15,:,:,:,:].flatten() \n",
    "\n",
    "lieftime_mean = []\n",
    "for P in tqdm(Ps_mid):\n",
    "    idx1 = [idx for idx, val in enumerate(LEV1_exit_1d) if P-5 < val < P+5]\n",
    "    lieftime_mean.append(np.mean(lifetime2_1d[idx1]))"
   ]
  },
  {
   "cell_type": "code",
   "execution_count": 76,
   "id": "5c7dceb1",
   "metadata": {},
   "outputs": [],
   "source": [
    "lieftime_mean = np.array(lieftime_mean)"
   ]
  },
  {
   "cell_type": "code",
   "execution_count": 77,
   "id": "4caa1efb",
   "metadata": {},
   "outputs": [
    {
     "data": {
      "image/png": "[encoded data removed]",
      "text/plain": [
       "<Figure size 600x400 with 1 Axes>"
      ]
     },
     "metadata": {
      "needs_background": "light"
     },
     "output_type": "display_data"
    }
   ],
   "source": [
    "# LON1_exit = np.zeros((Nz, Ny, Nx, N_day, N_month, N_year))\n",
    "\n",
    "fig = plt.figure(dpi=100)\n",
    "\n",
    "plt.plot(lieftime_mean/365.25, Ps_mid, '.');\n",
    "plt.ylabel(\"Tropical exiting pressure [hPa]\")\n",
    "plt.xlabel(\"Paricle lifetime [year]\");\n",
    "\n",
    "plt.gca().invert_yaxis()"
   ]
  },
  {
   "cell_type": "code",
   "execution_count": 18,
   "id": "6e9b0dd5",
   "metadata": {},
   "outputs": [
    {
     "data": {
      "text/plain": [
       "(21, 24, 10, 12, 10)"
      ]
     },
     "execution_count": 18,
     "metadata": {},
     "output_type": "execute_result"
    }
   ],
   "source": [
    "LEV1_exit[iz,:,:,:,:,:].shape"
   ]
  },
  {
   "cell_type": "code",
   "execution_count": 19,
   "id": "86a9c752",
   "metadata": {},
   "outputs": [
    {
     "name": "stdout",
     "output_type": "stream",
     "text": [
      "Stratospheric lifetime: 43.2 (Higher than 40 hPa), 42.9 (Lower than 40 hPa)\n"
     ]
    }
   ],
   "source": [
    "print(f\"Stratospheric lifetime: {np.mean(abs(LAT2_sink_1d[idx1])):.1f} (Higher than 40 hPa), \\\n",
    "{np.mean(abs(LAT2_sink_1d[idx2])):.1f} (Lower than 40 hPa)\")"
   ]
  },
  {
   "cell_type": "code",
   "execution_count": null,
   "id": "88d33072",
   "metadata": {},
   "outputs": [],
   "source": []
  },
  {
   "cell_type": "code",
   "execution_count": null,
   "id": "e042b22b",
   "metadata": {},
   "outputs": [],
   "source": []
  },
  {
   "cell_type": "code",
   "execution_count": null,
   "id": "2eec6a50",
   "metadata": {},
   "outputs": [],
   "source": []
  }
 ],
 "metadata": {
  "kernelspec": {
   "display_name": "Python [conda env:.conda-SUNenv]",
   "language": "python",
   "name": "conda-env-.conda-SUNenv-py"
  },
  "language_info": {
   "codemirror_mode": {
    "name": "ipython",
    "version": 3
   },
   "file_extension": ".py",
   "mimetype": "text/x-python",
   "name": "python",
   "nbconvert_exporter": "python",
   "pygments_lexer": "ipython3",
   "version": "3.8.5"
  }
 },
 "nbformat": 4,
 "nbformat_minor": 5
}
