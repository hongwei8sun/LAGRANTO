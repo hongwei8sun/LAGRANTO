{
 "cells": [
  {
   "cell_type": "code",
   "execution_count": 1,
   "id": "a2692112",
   "metadata": {},
   "outputs": [],
   "source": [
    "import numpy as np\n",
    "import math\n",
    "\n",
    "import matplotlib.pyplot as plt\n",
    "import cartopy.crs as crs\n",
    "import cartopy.feature as cfeature\n",
    "import matplotlib.colors as colors\n",
    "from matplotlib.cm import get_cmap\n",
    "from matplotlib import ticker\n",
    "import matplotlib.gridspec as gridspec\n",
    "\n",
    "from cartopy import config\n",
    "import cartopy.crs as ccrs\n",
    "from cartopy.mpl.ticker import LongitudeFormatter, LatitudeFormatter\n",
    "from cartopy.util import add_cyclic_point\n",
    "\n",
    "from IPython.display import Image\n",
    "\n",
    "from tqdm import tqdm\n",
    "import os "
   ]
  },
  {
   "cell_type": "code",
   "execution_count": 2,
   "id": "482bca84",
   "metadata": {},
   "outputs": [
    {
     "name": "stdout",
     "output_type": "stream",
     "text": [
      "['2000', '2001', '2002']\n",
      "['01', '02', '03', '04', '05', '06', '07', '08', '09', '10', '11', '12']\n",
      "['01', '04', '07', '10', '13', '16', '19', '22', '25', '28']\n"
     ]
    }
   ],
   "source": [
    "Years = [\"2000\",\"2001\",\"2002\"]\n",
    "\n",
    "Months = []\n",
    "for imon in range(1,13): ### shw\n",
    "    Months.append(str(imon).zfill(2))\n",
    "    \n",
    "Days = []\n",
    "for iday in range(1,30,3):\n",
    "    Days.append(str(iday).zfill(2))\n",
    "    \n",
    "print(Years)\n",
    "print(Months)\n",
    "print(Days)"
   ]
  },
  {
   "cell_type": "code",
   "execution_count": 3,
   "id": "b3a8ebf8",
   "metadata": {},
   "outputs": [
    {
     "name": "stdout",
     "output_type": "stream",
     "text": [
      "/n/home12/hongwei/HONGWEI/lagranto.era5/Simulation/Python_plot/Lifetime_2000/Lifetime_20000101.txt\n"
     ]
    }
   ],
   "source": [
    "N_head = 5 # first 5 lines are head lines, not include data\n",
    "N_column = 4+2\n",
    "\n",
    "Nx = 36\n",
    "Ny = 21\n",
    "Nz = 5\n",
    "N_parcel = 3780\n",
    "\n",
    "if Nx*Ny*Nz!=N_parcel: print('ERROR: parcel number is wrong!')\n",
    "\n",
    "directory = '/n/home12/hongwei/HONGWEI/lagranto.era5/Simulation/Python_plot/Lifetime_'+Years[0]+'/'\n",
    "filename = \"Lifetime_\"+Years[0]+Months[0]+Days[0]+\".txt\"\n",
    "print(directory+filename)"
   ]
  },
  {
   "cell_type": "code",
   "execution_count": 4,
   "id": "19ecb181",
   "metadata": {},
   "outputs": [
    {
     "data": {
      "text/plain": [
       "(5, 21, 36, 10, 12, 3)"
      ]
     },
     "execution_count": 4,
     "metadata": {},
     "output_type": "execute_result"
    }
   ],
   "source": [
    "N_year  = len(Years)\n",
    "N_month = len(Months)\n",
    "N_day   = len(Days)\n",
    "\n",
    "lifetime = np.zeros((Nz, Ny, Nx, N_day, N_month, N_year))\n",
    "lifetime.shape"
   ]
  },
  {
   "cell_type": "code",
   "execution_count": 29,
   "id": "f339d02b",
   "metadata": {},
   "outputs": [],
   "source": [
    "Total_num = np.zeros(366*(N_year+10))"
   ]
  },
  {
   "cell_type": "code",
   "execution_count": 30,
   "id": "d78e41b6",
   "metadata": {},
   "outputs": [],
   "source": [
    "from datetime import date"
   ]
  },
  {
   "cell_type": "code",
   "execution_count": 39,
   "id": "79049b9e",
   "metadata": {},
   "outputs": [
    {
     "name": "stderr",
     "output_type": "stream",
     "text": [
      "\r",
      "  0%|          | 0/12 [00:00<?, ?it/s]"
     ]
    },
    {
     "name": "stdout",
     "output_type": "stream",
     "text": [
      "2000 1 1\n"
     ]
    },
    {
     "name": "stderr",
     "output_type": "stream",
     "text": [
      "100%|██████████| 12/12 [00:05<00:00,  2.14it/s]\n",
      "100%|██████████| 12/12 [00:05<00:00,  2.15it/s]\n",
      "100%|██████████| 12/12 [00:05<00:00,  2.16it/s]\n"
     ]
    }
   ],
   "source": [
    "print(int(Years[0]), int(Months[0]), int(Days[0]))\n",
    "\n",
    "for i_year in range(N_year):\n",
    "    for i_month in tqdm(range(N_month)):\n",
    "        for i_day in range(N_day):\n",
    "            directory = '/n/home12/hongwei/HONGWEI/lagranto.era5/Simulation/Python_plot/Lifetime_'+Years[i_year]+'/'\n",
    "            filename = \"Lifetime_\"+Years[i_year]+Months[i_month]+Days[i_day]+\".txt\"\n",
    "            File = open(directory+filename, 'r')\n",
    "        \n",
    "            Lines = File.readlines()\n",
    "\n",
    "            \n",
    "            # For Total_num\n",
    "            f_date = date( int(Years[0]), int(Months[0]), int(Days[0]) )\n",
    "            l_date = date( int(Years[i_year]), int(Months[i_month]), int(Days[i_day]) )\n",
    "            Delta  = l_date - f_date\n",
    "            Delta_day = Delta.days\n",
    "#             print(int(Years[i_year]), int(Months[i_month]), int(Days[i_day]), Delta_day)\n",
    "                \n",
    "                \n",
    "            # Strips the newline character\n",
    "            data = []\n",
    "            data_N = []\n",
    "            for line in Lines:\n",
    "                a = line.split(',')\n",
    "                data.append(float(a[0])) # total lifetime\n",
    "#                 data_N.append(float(a[1]))\n",
    "#                 data_S.append(float(a[2]))\n",
    "\n",
    "\n",
    "                # Total_num\n",
    "                Num_1d = np.zeros(366*(N_year+10))\n",
    "                Num_1d[Delta_day:Delta_day+int(float(a[0]))] = 1\n",
    "                \n",
    "                Total_num = Total_num + Num_1d\n",
    "    \n",
    "    \n",
    "            i = 0\n",
    "            for ix in range(Nx):\n",
    "                for iy in range(Ny):\n",
    "                    for iz in range(Nz):\n",
    "                        lifetime[iz,iy,ix,i_day,i_month,i_year] = data[i]\n",
    "                        \n",
    "                        i = i+1\n",
    "# Life10_mean = np.mean(lifetime_10, axis=(1,2,3))"
   ]
  },
  {
   "cell_type": "code",
   "execution_count": 40,
   "id": "6bcdb497",
   "metadata": {},
   "outputs": [],
   "source": [
    "f_date = date( int(Years[0]), int(Months[0]), int(Days[0]) )\n",
    "l_date = date( int(Years[-1]), int(Months[-1]), int(Days[-1]) )\n",
    "Delta  = l_date - f_date\n",
    "Delta_day = Delta.days\n",
    "\n",
    "End_injection_day = Delta_day     "
   ]
  },
  {
   "cell_type": "code",
   "execution_count": 50,
   "id": "7548642f",
   "metadata": {},
   "outputs": [
    {
     "data": {
      "text/plain": [
       "Text(0, 0.5, 'Total number of injected particle in the stratosphere')"
      ]
     },
     "execution_count": 50,
     "metadata": {},
     "output_type": "execute_result"
    },
    {
     "data": {
      "image/png": "[encoded data removed]",
      "text/plain": [
       "<Figure size 1000x500 with 1 Axes>"
      ]
     },
     "metadata": {
      "needs_background": "light"
     },
     "output_type": "display_data"
    }
   ],
   "source": [
    "fig = plt.figure(figsize=(10,5), dpi=100)\n",
    "\n",
    "plt.plot(Total_num)\n",
    "\n",
    "plt.axvline(x=End_injection_day, c='orange')\n",
    "\n",
    "plt.xlabel(\"Day\")\n",
    "plt.ylabel(\"Total number of injected particle in the stratosphere\")\n",
    "\n",
    "# plt.xlim()\n",
    "\n",
    "# plt.xscale(\"log\")\n",
    "# plt.yscale(\"log\")"
   ]
  },
  {
   "cell_type": "code",
   "execution_count": null,
   "id": "81cd262f",
   "metadata": {},
   "outputs": [],
   "source": []
  }
 ],
 "metadata": {
  "kernelspec": {
   "display_name": "Python [conda env:.conda-SUNenv]",
   "language": "python",
   "name": "conda-env-.conda-SUNenv-py"
  },
  "language_info": {
   "codemirror_mode": {
    "name": "ipython",
    "version": 3
   },
   "file_extension": ".py",
   "mimetype": "text/x-python",
   "name": "python",
   "nbconvert_exporter": "python",
   "pygments_lexer": "ipython3",
   "version": "3.8.5"
  }
 },
 "nbformat": 4,
 "nbformat_minor": 5
}
