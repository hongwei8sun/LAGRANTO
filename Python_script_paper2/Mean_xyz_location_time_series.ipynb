{
 "cells": [
  {
   "cell_type": "code",
   "execution_count": 26,
   "id": "d441b6b5",
   "metadata": {},
   "outputs": [],
   "source": [
    "import numpy as np\n",
    "import math\n",
    "\n",
    "import xarray as xr\n",
    "\n",
    "\n",
    "import matplotlib.pyplot as plt\n",
    "import cartopy.crs as crs\n",
    "import cartopy.feature as cfeature\n",
    "import matplotlib.colors as colors\n",
    "from matplotlib.cm import get_cmap\n",
    "from matplotlib import ticker\n",
    "import matplotlib.gridspec as gridspec\n",
    "\n",
    "from cartopy import config\n",
    "import cartopy.crs as ccrs\n",
    "from cartopy.mpl.ticker import LongitudeFormatter, LatitudeFormatter\n",
    "from cartopy.util import add_cyclic_point\n",
    "\n",
    "from IPython.display import Image\n",
    "\n",
    "from tqdm import tqdm\n",
    "import os \n",
    "\n",
    "g = 9.8"
   ]
  },
  {
   "cell_type": "code",
   "execution_count": 27,
   "id": "b993c64b",
   "metadata": {},
   "outputs": [
    {
     "name": "stdout",
     "output_type": "stream",
     "text": [
      "['2000']\n",
      "['01', '02', '03', '04', '05', '06', '07', '08', '09', '10', '11', '12']\n",
      "['01', '04', '07', '10', '13', '16', '19', '22', '25', '28']\n"
     ]
    }
   ],
   "source": [
    "Years = [\"2000\"]\n",
    "\n",
    "Months = []\n",
    "for imon in range(1,13): ### shw\n",
    "    Months.append(str(imon).zfill(2))\n",
    "    \n",
    "Days = []\n",
    "for iday in range(1,30,3):\n",
    "    Days.append(str(iday).zfill(2))\n",
    "    \n",
    "print(Years)\n",
    "print(Months)\n",
    "print(Days)"
   ]
  },
  {
   "cell_type": "code",
   "execution_count": 28,
   "id": "4f65ea6c",
   "metadata": {},
   "outputs": [],
   "source": [
    "# Months = ['12']\n",
    "# Days = ['28']"
   ]
  },
  {
   "cell_type": "code",
   "execution_count": 29,
   "id": "f250ed50",
   "metadata": {},
   "outputs": [],
   "source": [
    "# directory = '/n/home12/hongwei/HONGWEI/lagranto_era5_0.2um/Simulation_0.2um/'+Year+'/'\n",
    "directory = '/n/home12/hongwei/Hongwei_holyscratch01/Simulation_0.2um/'+Years[0]+'/'\n",
    "\n",
    "\n",
    "N_head = 5 # first 5 lines are head lines, not include data\n",
    "N_column = 4 # time, lon, lat, lev\n",
    "\n",
    "# Nx = 36\n",
    "# Ny = 21\n",
    "# Nz = 5\n",
    "# N_parcel = 3780\n",
    "\n",
    "Nx = 24\n",
    "Ny = 21\n",
    "Nz = 6\n",
    "N_parcel = Nx*Ny*Nz\n",
    "\n",
    "if Nx*Ny*Nz!=N_parcel: print('ERROR: parcel number is wrong!')\n",
    "    \n",
    "    \n",
    "# filename = \"traj_\"+Year+Months[0]+Days[0]+\"_trace.1\"\n",
    "# file1 = open(directory+filename, 'r')\n",
    "# Lines = file1.readlines()\n",
    "# print(Nt,\"days\")\n",
    "\n",
    "\n",
    "# for DT/DZ compare:\n",
    "# Criterion = -2.0"
   ]
  },
  {
   "cell_type": "code",
   "execution_count": null,
   "id": "a075db42",
   "metadata": {},
   "outputs": [],
   "source": []
  },
  {
   "cell_type": "code",
   "execution_count": 38,
   "id": "b77497f0",
   "metadata": {},
   "outputs": [
    {
     "name": "stderr",
     "output_type": "stream",
     "text": [
      "100%|██████████| 10/10 [06:15<00:00, 37.56s/it]\n",
      "100%|██████████| 10/10 [06:17<00:00, 37.74s/it]\n",
      " 50%|█████     | 5/10 [03:28<03:28, 41.78s/it]\n"
     ]
    },
    {
     "ename": "KeyboardInterrupt",
     "evalue": "",
     "output_type": "error",
     "traceback": [
      "\u001b[0;31m---------------------------------------------------------------------------\u001b[0m",
      "\u001b[0;31mKeyboardInterrupt\u001b[0m                         Traceback (most recent call last)",
      "\u001b[0;32m<ipython-input-38-a270e033447f>\u001b[0m in \u001b[0;36m<module>\u001b[0;34m\u001b[0m\n\u001b[1;32m     34\u001b[0m \u001b[0;34m\u001b[0m\u001b[0m\n\u001b[1;32m     35\u001b[0m                         \u001b[0mdata\u001b[0m\u001b[0;34m[\u001b[0m\u001b[0mi_parcel\u001b[0m\u001b[0;34m,\u001b[0m\u001b[0mi_t\u001b[0m\u001b[0;34m-\u001b[0m\u001b[0;36m1\u001b[0m\u001b[0;34m,\u001b[0m\u001b[0;36m0\u001b[0m\u001b[0;34m]\u001b[0m \u001b[0;34m=\u001b[0m \u001b[0mfloat\u001b[0m\u001b[0;34m(\u001b[0m\u001b[0ma\u001b[0m\u001b[0;34m[\u001b[0m\u001b[0;36m0\u001b[0m\u001b[0;34m]\u001b[0m\u001b[0;34m)\u001b[0m \u001b[0;31m# t [h]\u001b[0m\u001b[0;34m\u001b[0m\u001b[0;34m\u001b[0m\u001b[0m\n\u001b[0;32m---> 36\u001b[0;31m                         \u001b[0mdata\u001b[0m\u001b[0;34m[\u001b[0m\u001b[0mi_parcel\u001b[0m\u001b[0;34m,\u001b[0m\u001b[0mi_t\u001b[0m\u001b[0;34m-\u001b[0m\u001b[0;36m1\u001b[0m\u001b[0;34m,\u001b[0m\u001b[0;36m1\u001b[0m\u001b[0;34m]\u001b[0m \u001b[0;34m=\u001b[0m \u001b[0mfloat\u001b[0m\u001b[0;34m(\u001b[0m\u001b[0ma\u001b[0m\u001b[0;34m[\u001b[0m\u001b[0;36m1\u001b[0m\u001b[0;34m]\u001b[0m\u001b[0;34m)\u001b[0m \u001b[0;31m# lon\u001b[0m\u001b[0;34m\u001b[0m\u001b[0;34m\u001b[0m\u001b[0m\n\u001b[0m\u001b[1;32m     37\u001b[0m                         \u001b[0mdata\u001b[0m\u001b[0;34m[\u001b[0m\u001b[0mi_parcel\u001b[0m\u001b[0;34m,\u001b[0m\u001b[0mi_t\u001b[0m\u001b[0;34m-\u001b[0m\u001b[0;36m1\u001b[0m\u001b[0;34m,\u001b[0m\u001b[0;36m2\u001b[0m\u001b[0;34m]\u001b[0m \u001b[0;34m=\u001b[0m \u001b[0mfloat\u001b[0m\u001b[0;34m(\u001b[0m\u001b[0ma\u001b[0m\u001b[0;34m[\u001b[0m\u001b[0;36m2\u001b[0m\u001b[0;34m]\u001b[0m\u001b[0;34m)\u001b[0m \u001b[0;31m# lat\u001b[0m\u001b[0;34m\u001b[0m\u001b[0;34m\u001b[0m\u001b[0m\n\u001b[1;32m     38\u001b[0m                         \u001b[0mdata\u001b[0m\u001b[0;34m[\u001b[0m\u001b[0mi_parcel\u001b[0m\u001b[0;34m,\u001b[0m\u001b[0mi_t\u001b[0m\u001b[0;34m-\u001b[0m\u001b[0;36m1\u001b[0m\u001b[0;34m,\u001b[0m\u001b[0;36m3\u001b[0m\u001b[0;34m]\u001b[0m \u001b[0;34m=\u001b[0m \u001b[0mfloat\u001b[0m\u001b[0;34m(\u001b[0m\u001b[0ma\u001b[0m\u001b[0;34m[\u001b[0m\u001b[0;36m3\u001b[0m\u001b[0;34m]\u001b[0m\u001b[0;34m)\u001b[0m \u001b[0;31m# lev\u001b[0m\u001b[0;34m\u001b[0m\u001b[0;34m\u001b[0m\u001b[0m\n",
      "\u001b[0;31mKeyboardInterrupt\u001b[0m: "
     ]
    }
   ],
   "source": [
    "# loop for all traj files\n",
    "\n",
    "\n",
    "for year in Years:\n",
    "    directory = '/n/home12/hongwei/Hongwei_holyscratch01/Simulation_0.2um/'+year+'/'\n",
    "    for month in Months:\n",
    "        for day in tqdm(Days):\n",
    "            \n",
    "            \n",
    "            # (1) read original data from traj files\n",
    "            filename = \"traj_\"+year+month+day+\".1\"\n",
    "            file1 = open(directory+filename, 'r')\n",
    "            Lines = file1.readlines()\n",
    "\n",
    "            Nt = int( (len(Lines)-4)/N_parcel - 1 )\n",
    "                \n",
    "            data = np.zeros((N_parcel, Nt, N_column))\n",
    "\n",
    "            count = 0\n",
    "            # Strips the newline character\n",
    "            for line in Lines:\n",
    "                count += 1\n",
    "    \n",
    "                if count>=5:\n",
    "                    i = count-5\n",
    "                    i_parcel = math.floor( i / (Nt+1) ) # Nt time lines plue 1 empty line\n",
    "                    i_t = i%(Nt+1)\n",
    "        \n",
    "                    if i_t!=0:\n",
    "                        a = line.split()\n",
    "\n",
    "                        if i_t==1:\n",
    "                            if float(a[0])!=0.0: print('ERROR: first time is not 0 !!!')\n",
    "                \n",
    "                        data[i_parcel,i_t-1,0] = float(a[0]) # t [h]\n",
    "                        data[i_parcel,i_t-1,1] = float(a[1]) # lon\n",
    "                        data[i_parcel,i_t-1,2] = float(a[2]) # lat\n",
    "                        data[i_parcel,i_t-1,3] = float(a[3]) # lev\n",
    "        \n",
    "            file1.close()\n",
    "            \n",
    "            \n",
    "            # (2) re-shape data(N_parcel, Nt, N_column) to data2(Nz,Ny,Nx,Nt,N_column)\n",
    "            data2 = np.zeros((Nz,Ny,Nx,Nt,N_column))\n",
    "\n",
    "            for ix in range(Nx):\n",
    "                for iy in range(Ny):\n",
    "                    for iz in range(Nz):\n",
    "                        i_parcel = ix*(Ny*Nz) + iy*Nz + iz\n",
    "                        data2[iz,iy,ix,:,:] = data[i_parcel,:,:]\n",
    "            \n",
    "            \n",
    "            # (3) save mean lat\n",
    "            with open('./Mean_lat/Mean_lat_'+year+month+day+'.txt', 'w') as f:\n",
    "                for it in range(Nt):\n",
    "                    \n",
    "                    # abs(lat)\n",
    "                    f.write(  str( data2[0,0,0,it,0] ) + ',' \\\n",
    "                            + str( np.mean( abs(data2[0,:,:,it,2]) ) ) + ',' \\\n",
    "                            + str( np.mean( abs(data2[1,:,:,it,2]) ) ) + ',' \\\n",
    "                            + str( np.mean( abs(data2[2,:,:,it,2]) ) ) + ',' \\\n",
    "                            + str( np.mean( abs(data2[3,:,:,it,2]) ) ) + ',' \\\n",
    "                            + str( np.mean( abs(data2[4,:,:,it,2]) ) ) + ',' \\\n",
    "                            + str( np.mean( abs(data2[5,:,:,it,2]) ) )  )\n",
    "                            \n",
    "                    f.write('\\n')\n",
    "            f.close()\n",
    "\n",
    "            \n",
    "            # (4) save mean lev\n",
    "            with open('./Mean_lev/Mean_lev_'+year+month+day+'.txt', 'w') as f:\n",
    "                for it in range(Nt):\n",
    "                    \n",
    "                    # abs(lev)\n",
    "                    f.write(  str( data2[0,0,0,it,0] ) + ',' \\\n",
    "                            + str( np.mean( data2[0,:,:,it,3] ) ) + ',' \\\n",
    "                            + str( np.mean( data2[1,:,:,it,3] ) ) + ',' \\\n",
    "                            + str( np.mean( data2[2,:,:,it,3] ) ) + ',' \\\n",
    "                            + str( np.mean( data2[3,:,:,it,3] ) ) + ',' \\\n",
    "                            + str( np.mean( data2[4,:,:,it,3] ) ) + ',' \\\n",
    "                            + str( np.mean( data2[5,:,:,it,3] ) )  )\n",
    "                            \n",
    "                    f.write('\\n')\n",
    "            f.close()"
   ]
  },
  {
   "cell_type": "code",
   "execution_count": null,
   "id": "9021f5c6",
   "metadata": {},
   "outputs": [],
   "source": [
    "print('./Lifetime/Lifetime_'+year+month+day+'.txt')"
   ]
  },
  {
   "cell_type": "code",
   "execution_count": null,
   "id": "e5742696",
   "metadata": {},
   "outputs": [],
   "source": []
  },
  {
   "cell_type": "code",
   "execution_count": null,
   "id": "6049b322",
   "metadata": {},
   "outputs": [],
   "source": []
  }
 ],
 "metadata": {
  "kernelspec": {
   "display_name": "Python [conda env:.conda-SUNenv]",
   "language": "python",
   "name": "conda-env-.conda-SUNenv-py"
  },
  "language_info": {
   "codemirror_mode": {
    "name": "ipython",
    "version": 3
   },
   "file_extension": ".py",
   "mimetype": "text/x-python",
   "name": "python",
   "nbconvert_exporter": "python",
   "pygments_lexer": "ipython3",
   "version": "3.8.5"
  }
 },
 "nbformat": 4,
 "nbformat_minor": 5
}
