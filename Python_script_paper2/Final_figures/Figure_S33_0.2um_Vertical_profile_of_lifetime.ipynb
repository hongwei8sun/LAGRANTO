{
 "cells": [
  {
   "cell_type": "code",
   "execution_count": 1,
   "id": "9b95bd9a",
   "metadata": {},
   "outputs": [],
   "source": [
    "import numpy as np\n",
    "import math\n",
    "\n",
    "import matplotlib.pyplot as plt\n",
    "import cartopy.crs as crs\n",
    "import cartopy.feature as cfeature\n",
    "import matplotlib.colors as colors\n",
    "from matplotlib.cm import get_cmap\n",
    "from matplotlib import ticker\n",
    "import matplotlib.gridspec as gridspec\n",
    "\n",
    "from cartopy import config\n",
    "import cartopy.crs as ccrs\n",
    "from cartopy.mpl.ticker import LongitudeFormatter, LatitudeFormatter\n",
    "from cartopy.util import add_cyclic_point\n",
    "\n",
    "from IPython.display import Image\n",
    "\n",
    "from tqdm import tqdm\n",
    "import os "
   ]
  },
  {
   "cell_type": "code",
   "execution_count": 2,
   "id": "2919fb14",
   "metadata": {},
   "outputs": [
    {
     "name": "stdout",
     "output_type": "stream",
     "text": [
      "['2000']\n",
      "['01', '02', '03', '04', '05', '06', '07', '08', '09', '10', '11', '12']\n",
      "['01', '04', '07', '10', '13', '16', '19', '22', '25', '28']\n"
     ]
    }
   ],
   "source": [
    "Years = [\"2000\"]\n",
    "\n",
    "Months = []\n",
    "for imon in range(1,13): ### shw\n",
    "    Months.append(str(imon).zfill(2))\n",
    "    \n",
    "Days = []\n",
    "for iday in range(1,30,3):\n",
    "    Days.append(str(iday).zfill(2))\n",
    "    \n",
    "print(Years)\n",
    "print(Months)\n",
    "print(Days)"
   ]
  },
  {
   "cell_type": "code",
   "execution_count": 3,
   "id": "581c4456",
   "metadata": {},
   "outputs": [],
   "source": [
    "Pressure = [100, 75, 65, 55, 47, 40, 30] # hPa\n",
    "Height   = [16,  17.92, 18.87, 20, 21.05, 22.1, 24] # km\n",
    "\n",
    "Season = [\"Winter\", \"Spring\", \"Summer\", \"Autumn\"]"
   ]
  },
  {
   "cell_type": "code",
   "execution_count": 4,
   "id": "96d7103c",
   "metadata": {},
   "outputs": [
    {
     "name": "stdout",
     "output_type": "stream",
     "text": [
      "(7, 21, 24, 10, 12, 1)\n"
     ]
    }
   ],
   "source": [
    "N_head = 5 # first 5 lines are head lines, not include data\n",
    "N_column = 4 + 2\n",
    "\n",
    "# Nx = 36\n",
    "# Ny = 21\n",
    "# Nz = 5\n",
    "# N_parcel = 3780\n",
    "\n",
    "Nx = 24\n",
    "Ny = 21\n",
    "Nz = 6+1\n",
    "N_parcel = Nx*Ny*Nz\n",
    "\n",
    "# if Nx*Ny*Nz!=N_parcel: print('ERROR: parcel number is wrong!')\n",
    "    \n",
    "\n",
    "N_year  = len(Years)\n",
    "N_month = len(Months)\n",
    "N_day   = len(Days)\n",
    "\n",
    "\n",
    "lifetime   = np.zeros((Nz, Ny, Nx, N_day, N_month, N_year))\n",
    "lifetime_N = np.zeros((Nz, Ny, Nx, N_day, N_month, N_year))\n",
    "lifetime_S = np.zeros((Nz, Ny, Nx, N_day, N_month, N_year))\n",
    "Lon = np.zeros((Nz, Ny, Nx, N_day, N_month, N_year))\n",
    "Lat = np.zeros((Nz, Ny, Nx, N_day, N_month, N_year))\n",
    "Lev = np.zeros((Nz, Ny, Nx, N_day, N_month, N_year))\n",
    "\n",
    "print(lifetime.shape)\n",
    "\n",
    "\n",
    "Nz1 = 6\n",
    "lifetime1   = np.zeros((Nz1, Ny, Nx, N_day, N_month, N_year))\n",
    "lifetime1_N = np.zeros((Nz1, Ny, Nx, N_day, N_month, N_year))\n",
    "lifetime1_S = np.zeros((Nz1, Ny, Nx, N_day, N_month, N_year))\n",
    "Lon1 = np.zeros((Nz1, Ny, Nx, N_day, N_month, N_year))\n",
    "Lat1 = np.zeros((Nz1, Ny, Nx, N_day, N_month, N_year))\n",
    "Lev1 = np.zeros((Nz1, Ny, Nx, N_day, N_month, N_year)) \n",
    "\n",
    "\n",
    "Nz2 = 1\n",
    "lifetime2   = np.zeros((Nz2, Ny, Nx, N_day, N_month, N_year))\n",
    "lifetime2_N = np.zeros((Nz2, Ny, Nx, N_day, N_month, N_year))\n",
    "lifetime2_S = np.zeros((Nz2, Ny, Nx, N_day, N_month, N_year))\n",
    "Lon2 = np.zeros((Nz2, Ny, Nx, N_day, N_month, N_year))\n",
    "Lat2 = np.zeros((Nz2, Ny, Nx, N_day, N_month, N_year))\n",
    "Lev2 = np.zeros((Nz2, Ny, Nx, N_day, N_month, N_year)) \n",
    "\n",
    "if Nz!=(Nz1+Nz2): print(\"Error: Nz=Nz1+Nz2!!!\")"
   ]
  },
  {
   "cell_type": "code",
   "execution_count": null,
   "id": "574bddd0",
   "metadata": {},
   "outputs": [],
   "source": []
  },
  {
   "cell_type": "code",
   "execution_count": 5,
   "id": "b010a456",
   "metadata": {},
   "outputs": [
    {
     "name": "stderr",
     "output_type": "stream",
     "text": [
      "\r",
      "  0%|          | 0/12 [00:00<?, ?it/s]"
     ]
    },
    {
     "name": "stdout",
     "output_type": "stream",
     "text": [
      "../Lifetime/Lifetime_20000101.txt\n"
     ]
    },
    {
     "name": "stderr",
     "output_type": "stream",
     "text": [
      "100%|██████████| 12/12 [00:03<00:00,  3.89it/s]\n"
     ]
    }
   ],
   "source": [
    "# for first 6 altitude injections\n",
    "\n",
    "directory1 = '../Lifetime/'\n",
    "filename1 = \"Lifetime_\"+Years[0]+Months[0]+Days[0]+\".txt\"\n",
    "print(directory1+filename1)\n",
    "\n",
    "\n",
    "for i_year in range(N_year):\n",
    "    for i_month in tqdm(range(N_month)):\n",
    "        for i_day in range(N_day):\n",
    "            filename1 = \"Lifetime_\"+Years[i_year]+Months[i_month]+Days[i_day]+\".txt\"\n",
    "            File1 = open(directory1+filename1, 'r')\n",
    "        \n",
    "            Lines1 = File1.readlines()\n",
    "\n",
    "            # Strips the newline character\n",
    "            data = []\n",
    "            data_N = []\n",
    "            data_S = []\n",
    "            data_x = []\n",
    "            data_y = []\n",
    "            data_z = []\n",
    "            for line1 in Lines1:\n",
    "                a = line1.split(',')\n",
    "                data.append(float(a[0])) # total lifetime\n",
    "                data_N.append(float(a[1])) # total N lifetime\n",
    "                data_S.append(float(a[2])) # total S lifetime\n",
    "                data_x.append(float(a[3])) # lon\n",
    "                data_y.append(float(a[4])) # lat\n",
    "                data_z.append(float(a[5])) # p\n",
    "    \n",
    "            i = 0\n",
    "            for ix in range(Nx):\n",
    "                for iy in range(Ny):\n",
    "                    for iz in range(Nz1):\n",
    "                        lifetime1[iz,iy,ix,i_day,i_month,i_year]   = data[i]\n",
    "                        lifetime1_N[iz,iy,ix,i_day,i_month,i_year] = data_N[i]\n",
    "                        lifetime1_S[iz,iy,ix,i_day,i_month,i_year] = data_S[i]\n",
    "                        Lon1[iz,iy,ix,i_day,i_month,i_year] = data_x[i]\n",
    "                        Lat1[iz,iy,ix,i_day,i_month,i_year] = data_y[i]\n",
    "                        Lev1[iz,iy,ix,i_day,i_month,i_year] = data_z[i]\n",
    "\n",
    "                        i = i+1\n",
    "                        "
   ]
  },
  {
   "cell_type": "code",
   "execution_count": 6,
   "id": "d8e1a2af",
   "metadata": {},
   "outputs": [
    {
     "name": "stderr",
     "output_type": "stream",
     "text": [
      " 17%|█▋        | 2/12 [00:00<00:00, 12.40it/s]"
     ]
    },
    {
     "name": "stdout",
     "output_type": "stream",
     "text": [
      "../21km_post_process/Lifetime_21km/Lifetime_20000101_21km.txt\n"
     ]
    },
    {
     "name": "stderr",
     "output_type": "stream",
     "text": [
      "100%|██████████| 12/12 [00:00<00:00, 13.35it/s]\n"
     ]
    }
   ],
   "source": [
    "# for 21-km injection\n",
    "\n",
    "directory2 = '../21km_post_process/Lifetime_21km/'\n",
    "filename2 = \"Lifetime_\"+Years[0]+Months[0]+Days[0]+\"_21km.txt\"\n",
    "print(directory2+filename2)\n",
    "\n",
    "\n",
    "for i_year in range(N_year):\n",
    "    for i_month in tqdm(range(N_month)):\n",
    "        for i_day in range(N_day):\n",
    "            filename2 = \"Lifetime_\"+Years[i_year]+Months[i_month]+Days[i_day]+\"_21km.txt\"\n",
    "            File2 = open(directory2+filename2, 'r')\n",
    "        \n",
    "            Lines2 = File2.readlines()\n",
    "\n",
    "            # Strips the newline character\n",
    "            data = []\n",
    "            data_N = []\n",
    "            data_S = []\n",
    "            data_x = []\n",
    "            data_y = []\n",
    "            data_z = []\n",
    "            for line2 in Lines2:\n",
    "                a = line2.split(',')\n",
    "                data.append(float(a[0])) # total lifetime\n",
    "                data_N.append(float(a[1])) # total N lifetime\n",
    "                data_S.append(float(a[2])) # total S lifetime\n",
    "                data_x.append(float(a[3])) # lon\n",
    "                data_y.append(float(a[4])) # lat\n",
    "                data_z.append(float(a[5])) # p\n",
    "    \n",
    "            i = 0\n",
    "            for ix in range(Nx):\n",
    "                for iy in range(Ny):\n",
    "                    for iz in range(Nz2):\n",
    "                        lifetime2[iz,iy,ix,i_day,i_month,i_year]   = data[i]\n",
    "                        lifetime2_N[iz,iy,ix,i_day,i_month,i_year] = data_N[i]\n",
    "                        lifetime2_S[iz,iy,ix,i_day,i_month,i_year] = data_S[i]\n",
    "                        Lon2[iz,iy,ix,i_day,i_month,i_year] = data_x[i]\n",
    "                        Lat2[iz,iy,ix,i_day,i_month,i_year] = data_y[i]\n",
    "                        Lev2[iz,iy,ix,i_day,i_month,i_year] = data_z[i]\n",
    "\n",
    "                        i = i+1"
   ]
  },
  {
   "cell_type": "code",
   "execution_count": 7,
   "id": "a6a833ca",
   "metadata": {},
   "outputs": [],
   "source": [
    "# Combine (1) 6 altitude injections and (2) 21-km injection\n",
    "\n",
    "# Pressure = [100, 75, 65, 55, 47, 40, 30] # hPa\n",
    "# Height   = [16,  18, 19, 20, 21, 22, 24] # km\n",
    "\n",
    "lifetime[0:4,:,:,:,:,:]   = lifetime1[0:4,:,:,:,:,:]\n",
    "lifetime_N[0:4,:,:,:,:,:] = lifetime1_N[0:4,:,:,:,:,:]\n",
    "lifetime_S[0:4,:,:,:,:,:] = lifetime1_S[0:4,:,:,:,:,:]\n",
    "Lon[0:4,:,:,:,:,:] = Lon1[0:4,:,:,:,:,:]\n",
    "Lat[0:4,:,:,:,:,:] = Lat1[0:4,:,:,:,:,:]\n",
    "Lev[0:4,:,:,:,:,:] = Lev1[0:4,:,:,:,:,:]\n",
    "\n",
    "# 21-km\n",
    "lifetime[4,:,:,:,:,:]   = lifetime2[0,:,:,:,:,:]\n",
    "lifetime_N[4,:,:,:,:,:] = lifetime2_N[0,:,:,:,:,:]\n",
    "lifetime_S[4,:,:,:,:,:] = lifetime2_S[0,:,:,:,:,:]\n",
    "Lon[4,:,:,:,:,:] = Lon2[0,:,:,:,:,:]\n",
    "Lat[4,:,:,:,:,:] = Lat2[0,:,:,:,:,:]\n",
    "Lev[4,:,:,:,:,:] = Lev2[0,:,:,:,:,:]\n",
    "\n",
    "\n",
    "lifetime[5:7,:,:,:,:,:]   = lifetime1[4:6,:,:,:,:,:]\n",
    "lifetime_N[5:7,:,:,:,:,:] = lifetime1_N[4:6,:,:,:,:,:]\n",
    "lifetime_S[5:7,:,:,:,:,:] = lifetime1_S[4:6,:,:,:,:,:]\n",
    "Lon[5:7,:,:,:,:,:] = Lon1[4:6,:,:,:,:,:]\n",
    "Lat[5:7,:,:,:,:,:] = Lat1[4:6,:,:,:,:,:]\n",
    "Lev[5:7,:,:,:,:,:] = Lev1[4:6,:,:,:,:,:]"
   ]
  },
  {
   "cell_type": "code",
   "execution_count": null,
   "id": "5921f6a4",
   "metadata": {},
   "outputs": [],
   "source": []
  },
  {
   "cell_type": "markdown",
   "id": "a74c5884",
   "metadata": {},
   "source": [
    "### Change the Lon and Lat order, and change the lifetime data order in corresponding to the Lon/Lat order"
   ]
  },
  {
   "cell_type": "code",
   "execution_count": 8,
   "id": "d99a85c2",
   "metadata": {},
   "outputs": [],
   "source": [
    "LON_1d = Lon[0,0,:,0,0,0]\n",
    "LAT_1d = Lat[0,:,0,0,0,0]"
   ]
  },
  {
   "cell_type": "code",
   "execution_count": 9,
   "id": "0a5f1259",
   "metadata": {},
   "outputs": [],
   "source": [
    "# First for LON: change (0,360) to (-180,180)\n",
    "\n",
    "#################\n",
    "# correst method 1:\n",
    "#################\n",
    "# lifetime_season_mean_new = np.zeros((Nz, Ny, Nx, N_season))\n",
    "# lifetime_N_season_mean_new = np.zeros((Nz, Ny, Nx, N_season))\n",
    "# lifetime_S_season_mean_new = np.zeros((Nz, Ny, Nx, N_season))\n",
    "\n",
    "# print(\"LON Before: \", LON_1d)\n",
    "\n",
    "# for i in range(len(LON_1d)):\n",
    "#     if LON_1d[i]>=180: LON_1d[i] = LON_1d[i]-360\n",
    "\n",
    "# # sort\n",
    "# idx = np.argsort(LON_1d)\n",
    "# # print(idx)\n",
    "\n",
    "# LON_1d = LON_1d[idx]\n",
    "# lifetime_season_mean_new = lifetime_season_mean[:,:,idx,:]\n",
    "# lifetime_N_season_mean_new = lifetime_N_season_mean[:,:,idx,:]\n",
    "# lifetime_S_season_mean_new = lifetime_S_season_mean[:,:,idx,:]\n",
    "\n",
    "# print(\"LON After: \", LON_1d)\n",
    "\n",
    "# print(\"\")\n",
    "# print(lifetime_season_mean_new.shape)\n",
    "\n",
    "\n",
    "#################\n",
    "# wrong method 2:\n",
    "#################\n",
    "\n",
    "lifetime_new = np.zeros((Nz, Ny, Nx, N_day, N_month, N_year))\n",
    "lifetime_N_new = np.zeros((Nz, Ny, Nx, N_day, N_month, N_year))\n",
    "lifetime_S_new = np.zeros((Nz, Ny, Nx, N_day, N_month, N_year))\n",
    "\n",
    "LON_1d = LON_1d - 180 ### shw ???\n",
    "\n",
    "\n",
    "Lon_new = Lon - 180\n",
    "Lat_new = Lat\n",
    "\n",
    "lifetime_new = lifetime[:,:,:,:,:,:]\n",
    "lifetime_N_new = lifetime_N[:,:,:,:,:,:]\n",
    "lifetime_S_new = lifetime_S[:,:,:,:,:,:]"
   ]
  },
  {
   "cell_type": "code",
   "execution_count": 10,
   "id": "853933f8",
   "metadata": {},
   "outputs": [
    {
     "name": "stdout",
     "output_type": "stream",
     "text": [
      "LAT Before:  [-30. -27. -24. -21. -18. -15. -12.  -9.  -6.  -3.   0.   3.   6.   9.\n",
      "  12.  15.  18.  21.  24.  27.  30.]\n",
      "LAT After:  [ 30.  27.  24.  21.  18.  15.  12.   9.   6.   3.   0.  -3.  -6.  -9.\n",
      " -12. -15. -18. -21. -24. -27. -30.]\n",
      "\n",
      "(7, 21, 24, 10, 12, 1)\n"
     ]
    }
   ],
   "source": [
    "# Second for LAT: change (-20,20) to (20,-20)\n",
    "\n",
    "Lon_new2 = np.zeros((Nz, Ny, Nx, N_day, N_month, N_year))\n",
    "Lat_new2 = np.zeros((Nz, Ny, Nx, N_day, N_month, N_year))\n",
    "\n",
    "lifetime_new2 = np.zeros((Nz, Ny, Nx, N_day, N_month, N_year))\n",
    "lifetime_N_new2 = np.zeros((Nz, Ny, Nx, N_day, N_month, N_year))\n",
    "lifetime_S_new2 = np.zeros((Nz, Ny, Nx, N_day, N_month, N_year))\n",
    "\n",
    "\n",
    "print(\"LAT Before: \", LAT_1d)\n",
    "LAT_1d = LAT_1d[::-1]\n",
    "print(\"LAT After: \", LAT_1d)\n",
    "\n",
    "Lon_new2 = Lon_new[:,::-1,:,:,:,:]\n",
    "Lat_new2 = Lat_new[:,::-1,:,:,:,:]\n",
    "\n",
    "lifetime_new2 = lifetime_new[:,::-1,:,:,:,:]\n",
    "lifetime_N_new2 = lifetime_N_new[:,::-1,:,:,:,:]\n",
    "lifetime_S_new2 = lifetime_S_new[:,::-1,:,:,:,:]\n",
    "\n",
    "print(\"\")\n",
    "print(lifetime_new.shape)"
   ]
  },
  {
   "cell_type": "code",
   "execution_count": null,
   "id": "6bf9c0d7",
   "metadata": {},
   "outputs": [],
   "source": []
  },
  {
   "cell_type": "markdown",
   "id": "9dc6737c",
   "metadata": {},
   "source": [
    "## Seasonal mean"
   ]
  },
  {
   "cell_type": "code",
   "execution_count": 11,
   "id": "714937ec",
   "metadata": {},
   "outputs": [
    {
     "name": "stdout",
     "output_type": "stream",
     "text": [
      "1 2 5\n",
      "2 5 8\n",
      "3 8 11\n"
     ]
    },
    {
     "data": {
      "text/plain": [
       "(7, 21, 24, 4)"
      ]
     },
     "execution_count": 11,
     "metadata": {},
     "output_type": "execute_result"
    }
   ],
   "source": [
    "\n",
    "\n",
    "# lifetime(Nz, Ny, Nx, N_day, N_month, N_year)\n",
    "\n",
    "lifetime_mon = np.mean(lifetime_new, axis=(3,5))\n",
    "lifetime_N_mon = np.mean(lifetime_N_new, axis=(3,5))\n",
    "lifetime_S_mon = np.mean(lifetime_S_new, axis=(3,5))\n",
    "\n",
    "\n",
    "# lifetime_mon(Nz, Ny, Nx, N_month)\n",
    "N_season = 4\n",
    "\n",
    "lifetime_season = np.zeros((Nz, Ny, Nx, N_season))\n",
    "lifetime_N_season = np.zeros((Nz, Ny, Nx, N_season))\n",
    "lifetime_S_season = np.zeros((Nz, Ny, Nx, N_season))\n",
    "\n",
    "\n",
    "# for Winter\n",
    "lifetime_season[:,:,:,0]   = np.mean(lifetime_mon[:,:,:,[0,1,11]], axis=3)\n",
    "lifetime_N_season[:,:,:,0] = np.mean(lifetime_N_mon[:,:,:,[0,1,11]], axis=3)\n",
    "lifetime_S_season[:,:,:,0] = np.mean(lifetime_S_mon[:,:,:,[0,1,11]], axis=3)\n",
    "    \n",
    "# for Spring, Summer and Autumn\n",
    "for i in range(1,N_season):\n",
    "    print(i,i*3-1,(i+1)*3-1)\n",
    "    lifetime_season[:,:,:,i]   = np.mean(  lifetime_mon[:,:,:,i*3-1:(i+1)*3-1], axis=3)\n",
    "    lifetime_N_season[:,:,:,i] = np.mean(lifetime_N_mon[:,:,:,i*3-1:(i+1)*3-1], axis=3)\n",
    "    lifetime_S_season[:,:,:,i] = np.mean(lifetime_S_mon[:,:,:,i*3-1:(i+1)*3-1], axis=3)\n",
    "    \n",
    "lifetime_season.shape"
   ]
  },
  {
   "cell_type": "markdown",
   "id": "7c17f3ac",
   "metadata": {},
   "source": [
    "## Strategy_Uni"
   ]
  },
  {
   "cell_type": "code",
   "execution_count": 12,
   "id": "426fa1a8",
   "metadata": {},
   "outputs": [],
   "source": [
    "Inject_Percent_Uni = np.zeros((Nz, Ny, Nx, N_season))\n",
    "Inject_Percent_Uni[:,:,:,:] = 1/(Nx*Ny)*100 # (unit: %)\n",
    "\n",
    "D_lifetime_uniform = lifetime_N_season[:,:,:,:] - lifetime_S_season[:,:,:,:]"
   ]
  },
  {
   "cell_type": "code",
   "execution_count": 13,
   "id": "20d0ab8e",
   "metadata": {},
   "outputs": [
    {
     "data": {
      "text/plain": [
       "504"
      ]
     },
     "execution_count": 13,
     "metadata": {},
     "output_type": "execute_result"
    }
   ],
   "source": [
    "Nx*Ny"
   ]
  },
  {
   "cell_type": "code",
   "execution_count": 14,
   "id": "cf9053b0",
   "metadata": {},
   "outputs": [],
   "source": [
    "# Inject_Percent_Uni"
   ]
  },
  {
   "cell_type": "markdown",
   "id": "a1d84732",
   "metadata": {},
   "source": [
    "## Strategy_LP"
   ]
  },
  {
   "cell_type": "code",
   "execution_count": 15,
   "id": "ffdbeb27",
   "metadata": {},
   "outputs": [
    {
     "name": "stdout",
     "output_type": "stream",
     "text": [
      "0\n",
      "1\n",
      "2\n",
      "3\n",
      "4\n",
      "5\n",
      "6\n",
      "(7, 21, 24, 4) (21, 24, 4)\n"
     ]
    }
   ],
   "source": [
    "# LP solver\n",
    "\n",
    "# https://docs.scipy.org/doc/scipy/reference/generated/scipy.optimize.linprog.html\n",
    "\n",
    "# (Nz, Ny, Nx, N_season)\n",
    "\n",
    "Inject_Percent_LP = np.zeros((Nz, Ny, Nx, N_season))\n",
    "\n",
    "Result_season  = lifetime_season[0,:,:,:]*0.0\n",
    "Lifetime_LP    = lifetime_season[:,:,:,:]*0.0\n",
    "Lifetime_LP_N  = lifetime_season[:,:,:,:]*0.0\n",
    "Lifetime_LP_S  = lifetime_season[:,:,:,:]*0.0\n",
    "D_lifetime_LP  = lifetime_season[:,:,:,:]*0.0\n",
    "\n",
    "iz = 1\n",
    "\n",
    "Diff_NS = 0.01\n",
    "\n",
    "# for LP solve: max lifetime under the interhemispheric balance\n",
    "for iz in range(Nz):\n",
    "    print(iz)\n",
    "    for iseason in range(N_season):\n",
    "        Life   = lifetime_season[iz,:,:,iseason].flatten()\n",
    "        Life_S = lifetime_N_season[iz,:,:,iseason].flatten()\n",
    "        Life_N = lifetime_S_season[iz,:,:,iseason].flatten()\n",
    "\n",
    "        if sum(Life_S)+sum(Life_N)-sum(Life)>0.01: print(\"ERROR!!!\")\n",
    "    \n",
    "        N = len(Life)\n",
    "\n",
    "        #\n",
    "        c = -1*Life\n",
    "\n",
    "        Xs_bounds = []\n",
    "        A1 = []\n",
    "        A3 = []\n",
    "        A4 = []\n",
    "        A  = []\n",
    "        for i in range(N):\n",
    "            Xs_bounds.append((0, N))\n",
    "            A1.append(1)\n",
    "            A3.append( Life_N[i] -Life_S[i] -Diff_NS*Life[i] )\n",
    "            A4.append( -1*(Life_N[i] -Life_S[i] +Diff_NS*Life[i]) )\n",
    "\n",
    "        Aub = [A3,A4]\n",
    "        Aeq = [A1]   \n",
    "\n",
    "        b_ub = [0,0]\n",
    "        b_eq = [N]\n",
    "\n",
    "        from scipy.optimize import linprog\n",
    "        res = linprog(c, A_eq=Aeq, b_eq=b_eq, A_ub=Aub, b_ub=b_ub, bounds=Xs_bounds)\n",
    "    \n",
    "        # post-process, calculate the injection percentage\n",
    "        Result1d = np.round(res.x)\n",
    "        Result2d = Result1d.reshape(Ny,Nx)\n",
    "        Result2d = Result2d/np.sum(Result2d)*100\n",
    "    \n",
    "        Result_season[:,:,iseason] = Result2d\n",
    "    \n",
    "    Inject_Percent_LP[iz,:,:,:] = Result_season # (unit: %)\n",
    "    \n",
    "    Lifetime_LP[iz,:,:,:] = lifetime_season[iz,:,:,:]* (Result_season/100)\n",
    "\n",
    "    Lifetime_LP_N[iz,:,:,:] = lifetime_N_season[iz,:,:,:]* (Result_season/100)\n",
    "    Lifetime_LP_S[iz,:,:,:] = lifetime_S_season[iz,:,:,:]* (Result_season/100)\n",
    "    D_lifetime_LP[iz,:,:,:] = Lifetime_LP_N[iz,:,:,:] - Lifetime_LP_S[iz,:,:,:]\n",
    "\n",
    "print(lifetime_season[:,:,:,:].shape, Result_season.shape)\n"
   ]
  },
  {
   "cell_type": "markdown",
   "id": "55ee6afe",
   "metadata": {},
   "source": [
    "## Stratege_Y"
   ]
  },
  {
   "cell_type": "code",
   "execution_count": 16,
   "id": "fc2a02ac",
   "metadata": {},
   "outputs": [
    {
     "name": "stdout",
     "output_type": "stream",
     "text": [
      "(7, 21, 4)\n",
      "(7, 21, 4)\n"
     ]
    }
   ],
   "source": [
    "# get max lifetime by only selecting LAT (averaged over all LON)\n",
    "\n",
    "Inject_Percent_Y = np.zeros((Nz, Ny, Nx, N_season))\n",
    "\n",
    "lifetime_season_Xmean   = np.mean(lifetime_season, axis=2)\n",
    "lifetime_N_season_Xmean = np.mean(lifetime_N_season, axis=2)\n",
    "lifetime_S_season_Xmean = np.mean(lifetime_S_season, axis=2)\n",
    "print(lifetime_season_Xmean.shape)\n",
    "\n",
    "Inject_percent    = np.zeros((Nz, Ny, N_season))\n",
    "Lifetime_MaxLat   = np.zeros((Nz, Ny, N_season))\n",
    "Lifetime_MaxLat_N = np.zeros((Nz, Ny, N_season))\n",
    "Lifetime_MaxLat_S = np.zeros((Nz, Ny, N_season))\n",
    "D_lifetime_MaxLat = np.zeros((Nz, Ny, N_season))\n",
    "print(Inject_percent.shape)\n",
    "\n",
    "for iz in range(Nz):\n",
    "    for i_season in range(N_season):\n",
    "        a   = np.mean(lifetime_season[iz,:,:,i_season], axis=1)\n",
    "        idx = np.unravel_index(np.argmax(a, axis=None), a.shape)\n",
    "#         print(iz,idx[0],i_season)\n",
    "        Inject_percent[iz,idx[0],i_season] = 100\n",
    "        Inject_Percent_Y[iz,idx[0],:,i_season] = 1.0/Nx*100 # (unit:%)\n",
    "\n",
    "    Lifetime_MaxLat[iz,:,:] = lifetime_season_Xmean[iz,:,:]* (Inject_percent[iz,:,:]/100)\n",
    "\n",
    "    Lifetime_MaxLat_N[iz,:,:] = lifetime_N_season_Xmean[iz,:,:]* (Inject_percent[iz,:,:]/100)\n",
    "    Lifetime_MaxLat_S[iz,:,:] = lifetime_S_season_Xmean[iz,:,:]* (Inject_percent[iz,:,:]/100)\n",
    "    D_lifetime_MaxLat[iz,:,:] = Lifetime_MaxLat_N[iz,:,:] - Lifetime_MaxLat_S[iz,:,:]"
   ]
  },
  {
   "cell_type": "code",
   "execution_count": 17,
   "id": "d335b755",
   "metadata": {},
   "outputs": [],
   "source": [
    "# Inject_Percent_Y[1,:,:,0]"
   ]
  },
  {
   "cell_type": "markdown",
   "id": "1affe4c0",
   "metadata": {},
   "source": [
    "## Strategy_XY"
   ]
  },
  {
   "cell_type": "code",
   "execution_count": 18,
   "id": "35752443",
   "metadata": {},
   "outputs": [
    {
     "name": "stdout",
     "output_type": "stream",
     "text": [
      "(7, 21, 24, 4)\n"
     ]
    }
   ],
   "source": [
    "# get the max lifetime by selecting both LON and LAT\n",
    "\n",
    "Inject_Percent_XY = np.zeros((Nz, Ny, Nx, N_season))\n",
    "\n",
    "Inject_percent = np.zeros((Nz, Ny, Nx, N_season))\n",
    "Lifetime_max   = np.zeros((Nz, Ny, Nx, N_season))\n",
    "Lifetime_max_N = np.zeros((Nz, Ny, Nx, N_season))\n",
    "Lifetime_max_S = np.zeros((Nz, Ny, Nx, N_season))\n",
    "D_lifetime_max = np.zeros((Nz, Ny, Nx, N_season))\n",
    "\n",
    "print(Inject_percent.shape)\n",
    "\n",
    "for iz in range(Nz):\n",
    "    for i_season in range(N_season):\n",
    "        a   = lifetime_season[iz,:,:,i_season]\n",
    "        # Converts a flat index or array of flat indices into a tuple of coordinate arrays\n",
    "        idx = np.unravel_index(np.argmax(a, axis=None), a.shape) \n",
    "#         print(iz,idx[0],idx[1],i_season)\n",
    "        Inject_percent[iz,idx[0],idx[1],i_season] = 100\n",
    "        Inject_Percent_XY[iz,idx[0],idx[1],i_season] = 100 # (unit:%)\n",
    "\n",
    "    Lifetime_max[iz,:,:,:] = lifetime_season[iz,:,:,:]* (Inject_percent[iz,:,:,:]/100)\n",
    "\n",
    "    Lifetime_max_N[iz,:,:,:] = lifetime_N_season[iz,:,:,:]* (Inject_percent[iz,:,:,:]/100)\n",
    "    Lifetime_max_S[iz,:,:,:] = lifetime_S_season[iz,:,:,:]* (Inject_percent[iz,:,:,:]/100)\n",
    "    D_lifetime_max[iz,:,:,:] = Lifetime_max_N[iz,:,:,:] - Lifetime_max_S[iz,:,:,:]\n",
    "    "
   ]
  },
  {
   "cell_type": "code",
   "execution_count": 19,
   "id": "36feac10",
   "metadata": {},
   "outputs": [
    {
     "data": {
      "image/png": "[encoded data removed]",
      "text/plain": [
       "<Figure size 900x600 with 2 Axes>"
      ]
     },
     "metadata": {
      "needs_background": "light"
     },
     "output_type": "display_data"
    }
   ],
   "source": [
    "Pressure = [100, 75, 65, 55, 47, 40, 30] # hPa\n",
    "Height   = [16,  17.92, 18.87, 20, 21.05, 22.1, 24] # km\n",
    "\n",
    "Life_LP_season = np.sum(Lifetime_LP[:,:,:,:], axis=(1,2))/365.25\n",
    "Life_MaxLat_season = np.sum(Lifetime_MaxLat[:,:,:], axis=(1))/365.25\n",
    "Life_max_season = np.sum(Lifetime_max[:,:,:,:], axis=(1,2))/365.25\n",
    "Life_uniform_season = np.mean(lifetime_season[:,:,:,:],axis=(1,2))/365.25\n",
    "\n",
    "Life_LP_z  = np.mean(Life_LP_season[:,:],axis=1)\n",
    "Life_MaxLat_z = np.mean(Life_MaxLat_season[:,:],axis=1)\n",
    "Life_max_z = np.mean(Life_max_season[:,:],axis=1)\n",
    "Life_uniform_z = np.mean(Life_uniform_season[:,:],axis=1)\n",
    "\n",
    "### plot\n",
    "fig, ax1 = plt.subplots(figsize=(6,4), dpi=150)\n",
    "\n",
    "###\n",
    "# ax1.plot([Life_uniform_z, 1.9*Life_uniform_z], [Height, Height], '--', label='Strategy_Uni')\n",
    "ax1.plot(Life_uniform_z, Height, 'wo', label='Strategy_Uni')\n",
    "\n",
    "ax1.set_xlim(0,3.5)\n",
    "\n",
    "ax1.set_xlabel('Lifetime [year]', fontsize=12)\n",
    "ax1.set_ylabel('Height [km]', fontsize=12)\n",
    "# ax1.legend(loc='center left', fontsize=12);\n",
    "\n",
    "###\n",
    "ax2 = ax1.twinx()\n",
    "ax2.plot(Life_uniform_z, Pressure, 'mo', label='$Uniform$')\n",
    "ax2.plot(Life_MaxLat_z, Pressure, 'bX', label='$Max$_$LAT$')\n",
    "ax2.plot(Life_max_z, Pressure, 'kH', label='$Max$_$LAT$_$LON$')\n",
    "ax2.plot(Life_LP_z, Pressure, 'r*', label='$Constrained$_$LAT$_$LON$')\n",
    "\n",
    "\n",
    "ax2.set_ylabel('Pressure [hPa]', fontsize=12)\n",
    "ax2.set_yscale('log')\n",
    "ax2.invert_yaxis()\n",
    "ax2.legend(loc=\"upper left\", fontsize=12);\n",
    "\n",
    "###\n",
    "# ax3 = ax1.twinx()\n",
    "# ax3.plot(Life_LP_z, Pressure, 'b*', label='LP solver lifetime')\n",
    "\n",
    "# ax3.set_ylabel('Pressure [hPa]', fontsize=12)\n",
    "# ax3.set_yscale('log')\n",
    "# ax3.invert_yaxis()\n",
    "# ax3.legend(loc=\"upper left\", fontsize=12);\n",
    "\n",
    "\n",
    "# plt.title('Lifetime at different height (seasonal data)', fontsize=14);"
   ]
  },
  {
   "cell_type": "code",
   "execution_count": 20,
   "id": "58f04d6b",
   "metadata": {},
   "outputs": [
    {
     "data": {
      "text/plain": [
       "array([0.40699419, 1.22505858, 1.67137212, 2.11941239, 2.33850012,\n",
       "       2.42194676, 2.46246075])"
      ]
     },
     "execution_count": 20,
     "metadata": {},
     "output_type": "execute_result"
    }
   ],
   "source": [
    "Life_uniform_z"
   ]
  },
  {
   "cell_type": "code",
   "execution_count": null,
   "id": "3e8e4956",
   "metadata": {},
   "outputs": [],
   "source": []
  },
  {
   "cell_type": "code",
   "execution_count": 21,
   "id": "e3bbfd77",
   "metadata": {},
   "outputs": [
    {
     "data": {
      "text/plain": [
       "3.7080994752452656"
      ]
     },
     "execution_count": 21,
     "metadata": {},
     "output_type": "execute_result"
    }
   ],
   "source": [
    "np.max(Life_max_z)"
   ]
  },
  {
   "cell_type": "code",
   "execution_count": 22,
   "id": "d5a1e31a",
   "metadata": {},
   "outputs": [
    {
     "data": {
      "image/png": "[encoded data removed]",
      "text/plain": [
       "<Figure size 900x600 with 2 Axes>"
      ]
     },
     "metadata": {
      "needs_background": "light"
     },
     "output_type": "display_data"
    }
   ],
   "source": [
    "### plot\n",
    "fig, ax1 = plt.subplots(figsize=(6,4), dpi=150)\n",
    "\n",
    "Maximum = np.max(Life_max_z)\n",
    "\n",
    "###\n",
    "ax1.plot(Life_uniform_z/Maximum, Height, 'wo', label='Strategy_Uni')\n",
    "\n",
    "ax1.set_xlim(0,1.1)\n",
    "\n",
    "ax1.set_xlabel('lifetime scaled by max lifetime (Strategy_XY at 24 km)', fontsize=12)\n",
    "ax1.set_ylabel('Height [km]', fontsize=12)\n",
    "# ax1.legend(loc='center left', fontsize=12);\n",
    "\n",
    "###\n",
    "ax2 = ax1.twinx()\n",
    "ax2.plot(Life_uniform_z/Maximum, Pressure, 'mo', label='$Uniform$')\n",
    "ax2.plot(Life_MaxLat_z/Maximum, Pressure, 'bX', label='$Max$_$LAT$')\n",
    "ax2.plot(Life_max_z/Maximum, Pressure, 'kH', label='$Max$_$LAT$_$LON$')\n",
    "ax2.plot(Life_LP_z/Maximum, Pressure, 'r*', label='$Constrained$_$LAT$_$LON$')\n",
    "\n",
    "\n",
    "ax2.set_ylabel('Pressure [hPa]', fontsize=12)\n",
    "ax2.set_yscale('log')\n",
    "ax2.invert_yaxis()\n",
    "ax2.legend(loc=\"upper left\", fontsize=12);"
   ]
  },
  {
   "cell_type": "markdown",
   "id": "7e9209bd",
   "metadata": {},
   "source": [
    "### Table. Three metrics for different injection strategies:"
   ]
  },
  {
   "cell_type": "code",
   "execution_count": 31,
   "id": "6e9d0e99",
   "metadata": {},
   "outputs": [],
   "source": [
    "\n",
    "# Life_max_AllMean = np.mean(Life_max_z)\n",
    "# Life_LP_AllMean = np.mean(Life_LP_z)\n",
    "# Life_MaxLat_AllMean = np.mean(Life_MaxLat_z)\n",
    "# Life_uniform_AllMean = np.mean(Life_uniform_z)\n",
    "\n",
    "# Life_max_AllMean, Life_LP_AllMean, Life_MaxLat_AllMean, Life_uniform_AllMean"
   ]
  },
  {
   "cell_type": "code",
   "execution_count": 30,
   "id": "45234373",
   "metadata": {},
   "outputs": [
    {
     "data": {
      "text/plain": [
       "(2.119412394207054, 2.888200623621568, 3.5844855122062516, 3.5044184964273946)"
      ]
     },
     "execution_count": 30,
     "metadata": {},
     "output_type": "execute_result"
    }
   ],
   "source": [
    "Life_uniform_z[3], Life_MaxLat_z[3], Life_max_z[3], Life_LP_z[3]"
   ]
  },
  {
   "cell_type": "code",
   "execution_count": 24,
   "id": "0f30c310",
   "metadata": {},
   "outputs": [
    {
     "data": {
      "text/plain": [
       "((7, 21, 24, 4), (7, 21, 24, 4), (7, 21, 4), (7, 21, 24, 4))"
      ]
     },
     "execution_count": 24,
     "metadata": {},
     "output_type": "execute_result"
    }
   ],
   "source": [
    "D_lifetime_LP.shape, D_lifetime_max.shape, D_lifetime_MaxLat.shape, D_lifetime_uniform.shape"
   ]
  },
  {
   "cell_type": "code",
   "execution_count": 25,
   "id": "73d4043a",
   "metadata": {},
   "outputs": [
    {
     "data": {
      "text/plain": [
       "((7, 4), (7, 4), (7, 4), (7, 4))"
      ]
     },
     "execution_count": 25,
     "metadata": {},
     "output_type": "execute_result"
    }
   ],
   "source": [
    "# use np.sum if a injection percent is applied to the variable before\n",
    "\n",
    "D_lifetime_LP_XYmean      = np.sum(D_lifetime_LP, axis=(1,2))\n",
    "D_lifetime_MaxLat_XYmean  = np.sum(D_lifetime_MaxLat, axis=(1))\n",
    "D_lifetime_max_XYmean     = np.sum(D_lifetime_max, axis=(1,2))\n",
    "D_lifetime_uniform_XYmean = np.mean(D_lifetime_uniform, axis=(1,2))\n",
    "\n",
    "D_lifetime_LP_XYmean.shape, D_lifetime_max_XYmean.shape, D_lifetime_MaxLat_XYmean.shape, D_lifetime_uniform_XYmean.shape"
   ]
  },
  {
   "cell_type": "code",
   "execution_count": 33,
   "id": "e0f0c22d",
   "metadata": {},
   "outputs": [
    {
     "name": "stdout",
     "output_type": "stream",
     "text": [
      "[0.07003556 0.12614847 0.11675834 0.09824013 0.05950905 0.08850949\n",
      " 0.10283808]\n",
      "[0.55668967 0.74123983 0.66858696 0.51144193 0.76401342 0.5204835\n",
      " 0.26658301]\n",
      "[0.7425964  1.13143965 0.72769792 0.98183892 0.62340862 0.81355236\n",
      " 0.44371435]\n",
      "[0.01006296 0.02067381 0.02884757 0.03547862 0.03712518 0.03527192\n",
      " 0.0361768 ]\n"
     ]
    }
   ],
   "source": [
    "print(np.mean(abs(D_lifetime_uniform_XYmean), axis=1)/365.25)\n",
    "print(np.mean(abs(D_lifetime_MaxLat_XYmean), axis=1)/365.25)\n",
    "print(np.mean(abs(D_lifetime_max_XYmean), axis=1)/365.25)\n",
    "print(np.mean(abs(D_lifetime_LP_XYmean), axis=1)/365.25)\n"
   ]
  },
  {
   "cell_type": "markdown",
   "id": "0fa49b60",
   "metadata": {},
   "source": [
    "### Table. Three metrics for different injection strategies:"
   ]
  },
  {
   "cell_type": "code",
   "execution_count": 27,
   "id": "889bb2f8",
   "metadata": {},
   "outputs": [
    {
     "name": "stdout",
     "output_type": "stream",
     "text": [
      "0.02909097740548805\n",
      "0.7806068902578145\n",
      "0.5755769042730029\n",
      "0.09457701705672766\n"
     ]
    }
   ],
   "source": [
    "print(np.mean(abs(D_lifetime_LP_XYmean), axis=(0,1))/365.25)\n",
    "print(np.mean(abs(D_lifetime_max_XYmean), axis=(0,1))/365.25)\n",
    "print(np.mean(abs(D_lifetime_MaxLat_XYmean), axis=(0,1))/365.25)\n",
    "print(np.mean(abs(D_lifetime_uniform_XYmean), axis=(0,1))/365.25)"
   ]
  },
  {
   "cell_type": "code",
   "execution_count": null,
   "id": "5bdd2da8",
   "metadata": {},
   "outputs": [],
   "source": []
  },
  {
   "cell_type": "code",
   "execution_count": null,
   "id": "418757c1",
   "metadata": {},
   "outputs": [],
   "source": []
  },
  {
   "cell_type": "code",
   "execution_count": null,
   "id": "82c5d5be",
   "metadata": {},
   "outputs": [],
   "source": []
  },
  {
   "cell_type": "code",
   "execution_count": null,
   "id": "1a2502ec",
   "metadata": {},
   "outputs": [],
   "source": []
  },
  {
   "cell_type": "code",
   "execution_count": null,
   "id": "59f6585a",
   "metadata": {},
   "outputs": [],
   "source": []
  }
 ],
 "metadata": {
  "kernelspec": {
   "display_name": "Python [conda env:.conda-SUNenv]",
   "language": "python",
   "name": "conda-env-.conda-SUNenv-py"
  },
  "language_info": {
   "codemirror_mode": {
    "name": "ipython",
    "version": 3
   },
   "file_extension": ".py",
   "mimetype": "text/x-python",
   "name": "python",
   "nbconvert_exporter": "python",
   "pygments_lexer": "ipython3",
   "version": "3.8.5"
  }
 },
 "nbformat": 4,
 "nbformat_minor": 5
}
