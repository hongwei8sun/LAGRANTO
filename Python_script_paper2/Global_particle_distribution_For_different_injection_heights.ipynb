{
 "cells": [
  {
   "cell_type": "code",
   "execution_count": 1,
   "id": "7d95265a",
   "metadata": {},
   "outputs": [],
   "source": [
    "import numpy as np\n",
    "import math\n",
    "\n",
    "import matplotlib.pyplot as plt\n",
    "import cartopy.crs as crs\n",
    "import cartopy.feature as cfeature\n",
    "import matplotlib.colors as colors\n",
    "from matplotlib.cm import get_cmap\n",
    "from matplotlib import ticker\n",
    "import matplotlib.gridspec as gridspec\n",
    "\n",
    "from cartopy import config\n",
    "import cartopy.crs as ccrs\n",
    "from cartopy.mpl.ticker import LongitudeFormatter, LatitudeFormatter\n",
    "from cartopy.util import add_cyclic_point\n",
    "\n",
    "from IPython.display import Image\n",
    "\n",
    "from tqdm import tqdm\n",
    "import os \n",
    "from datetime import date\n",
    "\n",
    "g = 9.8"
   ]
  },
  {
   "cell_type": "code",
   "execution_count": 2,
   "id": "25518793",
   "metadata": {},
   "outputs": [
    {
     "name": "stdout",
     "output_type": "stream",
     "text": [
      "2000\n",
      "['01']\n",
      "['07', '10', '13', '16', '19', '22', '25']\n"
     ]
    }
   ],
   "source": [
    "Year = \"2000\"\n",
    "\n",
    "Months = []\n",
    "for imon in range(1,2): ### shw\n",
    "    Months.append(str(imon).zfill(2))\n",
    "    \n",
    "Days = []\n",
    "for iday in range(7,26,3):\n",
    "    Days.append(str(iday).zfill(2))\n",
    "    \n",
    "print(Year)\n",
    "print(Months)\n",
    "print(Days)"
   ]
  },
  {
   "cell_type": "code",
   "execution_count": 3,
   "id": "a7e6c874",
   "metadata": {},
   "outputs": [],
   "source": [
    "directory = '/n/home12/hongwei/HONGWEI/lagranto_era5_0.2um/Simulation_0.2um/'+Year+'_01/'\n",
    "\n",
    "\n",
    "N_head = 5 # first 5 lines are head lines, not include data\n",
    "N_column = 4+2\n",
    "\n",
    "Nx = 36\n",
    "Ny = 21\n",
    "Nz = 5\n",
    "N_parcel = 3780\n",
    "\n",
    "if Nx*Ny*Nz!=N_parcel: print('ERROR: parcel number is wrong!')\n",
    "    \n",
    "    \n",
    "# filename = \"traj_\"+Year+Months[0]+Days[0]+\"_trace.1\"\n",
    "# file1 = open(directory+filename, 'r')\n",
    "# Lines = file1.readlines()\n",
    "# print(Nt,\"days\")\n",
    "\n",
    "\n",
    "# for DT/DZ compare:\n",
    "Criterion = 0.0"
   ]
  },
  {
   "cell_type": "code",
   "execution_count": 4,
   "id": "5618183e",
   "metadata": {},
   "outputs": [
    {
     "data": {
      "text/plain": [
       "(array([-90, -84, -78, -72, -66, -60, -54, -48, -42, -36, -30, -24, -18,\n",
       "        -12,  -6,   0,   6,  12,  18,  24,  30,  36,  42,  48,  54,  60,\n",
       "         66,  72,  78,  84,  90]),\n",
       " array([-180, -170, -160, -150, -140, -130, -120, -110, -100,  -90,  -80,\n",
       "         -70,  -60,  -50,  -40,  -30,  -20,  -10,    0,   10,   20,   30,\n",
       "          40,   50,   60,   70,   80,   90,  100,  110,  120,  130,  140,\n",
       "         150,  160,  170,  180]),\n",
       " array([-87, -81, -75, -69, -63, -57, -51, -45, -39, -33, -27, -21, -15,\n",
       "         -9,  -3,   3,   9,  15,  21,  27,  33,  39,  45,  51,  57,  63,\n",
       "         69,  75,  81,  87]),\n",
       " array([-175, -165, -155, -145, -135, -125, -115, -105,  -95,  -85,  -75,\n",
       "         -65,  -55,  -45,  -35,  -25,  -15,   -5,    5,   15,   25,   35,\n",
       "          45,   55,   65,   75,   85,   95,  105,  115,  125,  135,  145,\n",
       "         155,  165,  175]),\n",
       " 30,\n",
       " 36,\n",
       " 180)"
      ]
     },
     "execution_count": 4,
     "metadata": {},
     "output_type": "execute_result"
    }
   ],
   "source": [
    "Lats_edge = np.arange(-90,91,6)\n",
    "Lons_edge = np.arange(-180,181,10)\n",
    "\n",
    "Lats_mid = np.arange(-87,90,6)\n",
    "Lons_mid = np.arange(-175,180,10)\n",
    "Levs = [100, 75, 55, 40, 30]\n",
    "\n",
    "\n",
    "N_lat = len(Lats_mid)\n",
    "N_lon = len(Lons_mid)\n",
    "N_lev = 5 # 16, 18, 20, 22, 24 km\n",
    "\n",
    "Lats_edge, Lons_edge, Lats_mid, Lons_mid, N_lat, N_lon, Lons_edge[-1]"
   ]
  },
  {
   "cell_type": "code",
   "execution_count": 5,
   "id": "c3e80541",
   "metadata": {},
   "outputs": [],
   "source": [
    "\n",
    "def find_i_LON(lon):\n",
    "    if lon<Lons_edge[0]:  lon = lon+360\n",
    "    if lon>=Lons_edge[-1]: lon = lon-360\n",
    "    return int( np.floor( (lon - Lons_edge[0]) / (Lons_edge[1]-Lons_edge[0]) ) )\n",
    "\n",
    "\n",
    "def find_i_LAT(lat):\n",
    "    return int( np.floor( (lat - Lats_edge[0]) / (Lats_edge[1]-Lats_edge[0]) ) )\n",
    "\n",
    "\n",
    "def find_i_LEV(lev):\n",
    "    if lev==Levs[0]: i=0\n",
    "    if lev==Levs[1]: i=1\n",
    "    if lev==Levs[2]: i=2\n",
    "    if lev==Levs[3]: i=3\n",
    "    if lev==Levs[4]: i=4\n",
    "    return i\n"
   ]
  },
  {
   "cell_type": "code",
   "execution_count": 6,
   "id": "6bfed3b9",
   "metadata": {},
   "outputs": [
    {
     "name": "stderr",
     "output_type": "stream",
     "text": [
      "100%|██████████| 7/7 [09:07<00:00, 78.18s/it]\n"
     ]
    }
   ],
   "source": [
    "# loop for all traj files\n",
    "\n",
    "# count the particle (injected at different height) number in each grid cell\n",
    "N_day = 20*366\n",
    "Num_2D = np.zeros((N_lon, N_lat, N_lev, N_day)) \n",
    "        \n",
    "for month in Months:\n",
    "    for day in tqdm(Days):\n",
    "        \n",
    "        \n",
    "        f_date = date(2000, 1, 1)\n",
    "        l_date = date(int(Year), int(month), int(day))\n",
    "        Delta  = l_date - f_date\n",
    "        i_day = Delta.days\n",
    "\n",
    "        \n",
    "        # (1) read original data from traj files\n",
    "        filename = \"traj_\"+Year+month+day+\"_trace.1\"\n",
    "        file1 = open(directory+filename, 'r')\n",
    "        Lines = file1.readlines()\n",
    "\n",
    "        Nt = int( (len(Lines)-4)/N_parcel - 1 )   \n",
    "        data = np.zeros((N_parcel, Nt, N_column))\n",
    "        \n",
    "        \n",
    "        count = 0\n",
    "        # Strips the newline character\n",
    "        for line in Lines:\n",
    "            count += 1\n",
    "    \n",
    "            if count>=5:\n",
    "                i = count-5\n",
    "                i_parcel = math.floor( i / (Nt+1) ) # Nt time lines plue 1 empty line\n",
    "                i_t = i%(Nt+1)\n",
    "        \n",
    "                if i_t!=0:\n",
    "                    a = line.split()\n",
    "\n",
    "                    if i_t==1:\n",
    "                        if float(a[0])!=0.0: print('ERROR: first time is not 0 !!!')\n",
    "                \n",
    "                    data[i_parcel,i_t-1,0] = float(a[0]) # t [h]\n",
    "                    data[i_parcel,i_t-1,1] = float(a[1]) # lon\n",
    "                    data[i_parcel,i_t-1,2] = float(a[2]) # lat\n",
    "                    data[i_parcel,i_t-1,3] = float(a[3]) # lev\n",
    "                    data[i_parcel,i_t-1,4] = float(a[4]) # RHO\n",
    "                    data[i_parcel,i_t-1,5] = float(a[5]) # DTDP\n",
    "                \n",
    "                \n",
    "        # (2) calculate injected tracer lifetime in the stratosphere\n",
    "        \n",
    "        for i_parcel in range(N_parcel):\n",
    "            In_strat = 1\n",
    "            for it in range(Nt-4):\n",
    "                    \n",
    "                RHO_1 = data[i_parcel,it,4]   # [kg/m3]\n",
    "                RHO_2 = data[i_parcel,it+1,4] # \n",
    "                RHO_3 = data[i_parcel,it+2,4] # \n",
    "                RHO_4 = data[i_parcel,it+3,4] # \n",
    "                RHO_5 = data[i_parcel,it+4,4] # \n",
    "                    \n",
    "                DTDP_1 = data[i_parcel,it,5]   # [K/Pa]\n",
    "                DTDP_2 = data[i_parcel,it+1,5] # [K/Pa]\n",
    "                DTDP_3 = data[i_parcel,it+2,5] # [K/Pa]\n",
    "                DTDP_4 = data[i_parcel,it+3,5] # [K/Pa]\n",
    "                DTDP_5 = data[i_parcel,it+4,5] # [K/Pa]\n",
    "                    \n",
    "                DTDZ_1 = -1*DTDP_1 *g*RHO_1 * 1000.0 # [K/km]\n",
    "                DTDZ_2 = -1*DTDP_2 *g*RHO_2 * 1000.0\n",
    "                DTDZ_3 = -1*DTDP_3 *g*RHO_3 * 1000.0\n",
    "                DTDZ_4 = -1*DTDP_4 *g*RHO_4 * 1000.0\n",
    "                DTDZ_5 = -1*DTDP_5 *g*RHO_5 * 1000.0\n",
    "                    \n",
    "                P_1 = data[i_parcel,it,3]\n",
    "                P_2 = data[i_parcel,it+1,3]\n",
    "                P_3 = data[i_parcel,it+2,3]\n",
    "                    \n",
    "                if P_1>400.0: # directly identified as tropopause\n",
    "                    In_strat = 0\n",
    "                    break \n",
    "                            \n",
    "                elif P_1>70.0: # the particle is lower than 70 hPa level\n",
    "                    if DTDZ_1<Criterion and DTDZ_2<Criterion and DTDZ_3<Criterion \\\n",
    "                                        and DTDZ_4<Criterion and DTDZ_5<Criterion: \n",
    "                        if P_1<P_2 and P_2<P_3: # keep dropping down\n",
    "                            In_strat = 0                            \n",
    "                            break \n",
    "                    \n",
    "                # count number of particle in the stratosphere in each grid cell\n",
    "                if In_strat ==1:\n",
    "                    LON = data[i_parcel,it,1]\n",
    "                    LAT = data[i_parcel,it,2]\n",
    "                    LEV = data[i_parcel,0,3] # consider the initial injection height\n",
    "                        \n",
    "                    i_LON = find_i_LON(LON)\n",
    "                    i_LAT = find_i_LAT(LAT)\n",
    "                    i_LEV = find_i_LEV(LEV)\n",
    "                          \n",
    "#                     print(LON, LAT, LEV, i_LON, i_LAT, i_LEV, it)\n",
    "                    Num_2D[i_LON, i_LAT, i_LEV, i_day+it] = Num_2D[i_LON, i_LAT, i_LEV, i_day+it] + 1\n",
    "    \n",
    "        file1.close()\n",
    "        "
   ]
  },
  {
   "cell_type": "code",
   "execution_count": 7,
   "id": "85816dbe",
   "metadata": {},
   "outputs": [],
   "source": [
    "        \n",
    "with open('./Num_Concnt_1st/Num_Concnt_2000_'+Year+'.txt', 'w') as f:\n",
    "    for it in range(N_day):\n",
    "            for ix in range(N_lon):\n",
    "                for iy in range(N_lat):\n",
    "                    f.write(  str(it) + ',' \\\n",
    "                            + str(Lons_mid[ix]) + ',' \\\n",
    "                            + str(Lats_mid[iy]) + ',' \\\n",
    "                        \n",
    "                            + str(Num_2D[ix, iy, 0, it])  + ',' \\\n",
    "                            + str(Num_2D[ix, iy, 1, it])  + ',' \\\n",
    "                            + str(Num_2D[ix, iy, 2, it])  + ',' \\\n",
    "                            + str(Num_2D[ix, iy, 3, it])  + ',' \\\n",
    "                            + str(Num_2D[ix, iy, 4, it])   )\n",
    "                        \n",
    "                    f.write('\\n')\n",
    "f.close()"
   ]
  },
  {
   "cell_type": "code",
   "execution_count": 8,
   "id": "98e9e6b1",
   "metadata": {},
   "outputs": [
    {
     "data": {
      "text/plain": [
       "3654"
      ]
     },
     "execution_count": 8,
     "metadata": {},
     "output_type": "execute_result"
    }
   ],
   "source": [
    "Nt"
   ]
  },
  {
   "cell_type": "code",
   "execution_count": null,
   "id": "9463ad57",
   "metadata": {},
   "outputs": [],
   "source": []
  }
 ],
 "metadata": {
  "kernelspec": {
   "display_name": "Python [conda env:.conda-SUNenv]",
   "language": "python",
   "name": "conda-env-.conda-SUNenv-py"
  },
  "language_info": {
   "codemirror_mode": {
    "name": "ipython",
    "version": 3
   },
   "file_extension": ".py",
   "mimetype": "text/x-python",
   "name": "python",
   "nbconvert_exporter": "python",
   "pygments_lexer": "ipython3",
   "version": "3.8.5"
  }
 },
 "nbformat": 4,
 "nbformat_minor": 5
}
