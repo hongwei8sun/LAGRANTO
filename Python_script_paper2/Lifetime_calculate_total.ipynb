{
 "cells": [
  {
   "cell_type": "code",
   "execution_count": 4,
   "id": "d441b6b5",
   "metadata": {},
   "outputs": [],
   "source": [
    "import numpy as np\n",
    "import math\n",
    "\n",
    "import matplotlib.pyplot as plt\n",
    "import cartopy.crs as crs\n",
    "import cartopy.feature as cfeature\n",
    "import matplotlib.colors as colors\n",
    "from matplotlib.cm import get_cmap\n",
    "from matplotlib import ticker\n",
    "import matplotlib.gridspec as gridspec\n",
    "\n",
    "from cartopy import config\n",
    "import cartopy.crs as ccrs\n",
    "from cartopy.mpl.ticker import LongitudeFormatter, LatitudeFormatter\n",
    "from cartopy.util import add_cyclic_point\n",
    "\n",
    "from IPython.display import Image\n",
    "\n",
    "from tqdm import tqdm\n",
    "import os \n",
    "\n",
    "g = 9.8"
   ]
  },
  {
   "cell_type": "code",
   "execution_count": 15,
   "id": "b993c64b",
   "metadata": {},
   "outputs": [
    {
     "name": "stdout",
     "output_type": "stream",
     "text": [
      "2000\n",
      "['01']\n",
      "['07', '10', '13', '16', '19', '22', '25']\n"
     ]
    }
   ],
   "source": [
    "Year = \"2000\"\n",
    "\n",
    "Months = []\n",
    "for imon in range(1,2): ### shw\n",
    "    Months.append(str(imon).zfill(2))\n",
    "    \n",
    "Days = []\n",
    "for iday in range(7,28,3):\n",
    "    Days.append(str(iday).zfill(2))\n",
    "    \n",
    "print(Year)\n",
    "print(Months)\n",
    "print(Days)"
   ]
  },
  {
   "cell_type": "code",
   "execution_count": 16,
   "id": "4f65ea6c",
   "metadata": {},
   "outputs": [],
   "source": [
    "# Months = ['12']\n",
    "# Days = ['28']"
   ]
  },
  {
   "cell_type": "code",
   "execution_count": 17,
   "id": "f250ed50",
   "metadata": {},
   "outputs": [],
   "source": [
    "directory = '/n/home12/hongwei/HONGWEI/lagranto_era5_0.2um/Simulation_0.2um/2000_01/'\n",
    "\n",
    "\n",
    "N_head = 5 # first 5 lines are head lines, not include data\n",
    "N_column = 4+2\n",
    "\n",
    "Nx = 36\n",
    "Ny = 21\n",
    "Nz = 5\n",
    "N_parcel = 3780\n",
    "\n",
    "if Nx*Ny*Nz!=N_parcel: print('ERROR: parcel number is wrong!')\n",
    "    \n",
    "    \n",
    "# filename = \"traj_\"+Year+Months[0]+Days[0]+\"_trace.1\"\n",
    "# file1 = open(directory+filename, 'r')\n",
    "# Lines = file1.readlines()\n",
    "# print(Nt,\"days\")\n",
    "\n",
    "\n",
    "# for DT/DZ compare:\n",
    "Criterion = -2.0"
   ]
  },
  {
   "cell_type": "code",
   "execution_count": null,
   "id": "a075db42",
   "metadata": {},
   "outputs": [],
   "source": []
  },
  {
   "cell_type": "code",
   "execution_count": 18,
   "id": "b77497f0",
   "metadata": {},
   "outputs": [
    {
     "name": "stderr",
     "output_type": "stream",
     "text": [
      "100%|██████████| 7/7 [09:04<00:00, 77.73s/it]\n"
     ]
    }
   ],
   "source": [
    "# loop for all traj files\n",
    "\n",
    "for month in Months:\n",
    "    for day in tqdm(Days):\n",
    "    \n",
    "        # (1) read original data from traj files\n",
    "        filename = \"traj_\"+Year+month+day+\"_trace.1\"\n",
    "        file1 = open(directory+filename, 'r')\n",
    "        Lines = file1.readlines()\n",
    "\n",
    "        Nt = int( (len(Lines)-4)/N_parcel - 1 )\n",
    "                \n",
    "        data = np.zeros((N_parcel, Nt, N_column))\n",
    "\n",
    "        count = 0\n",
    "        # Strips the newline character\n",
    "        for line in Lines:\n",
    "            count += 1\n",
    "    \n",
    "            if count>=5:\n",
    "                i = count-5\n",
    "                i_parcel = math.floor( i / (Nt+1) ) # Nt time lines plue 1 empty line\n",
    "                i_t = i%(Nt+1)\n",
    "        \n",
    "                if i_t!=0:\n",
    "                    a = line.split()\n",
    "\n",
    "                    if i_t==1:\n",
    "                        if float(a[0])!=0.0: print('ERROR: first time is not 0 !!!')\n",
    "                \n",
    "                    data[i_parcel,i_t-1,0] = float(a[0]) # t [h]\n",
    "                    data[i_parcel,i_t-1,1] = float(a[1]) # lon\n",
    "                    data[i_parcel,i_t-1,2] = float(a[2]) # lat\n",
    "                    data[i_parcel,i_t-1,3] = float(a[3]) # lev\n",
    "                    data[i_parcel,i_t-1,4] = float(a[4]) # RHO\n",
    "                    data[i_parcel,i_t-1,5] = float(a[5]) # DTDP\n",
    "                \n",
    "        # (2) re-shape data(N_parcel, Nt, N_column) to data2(Nz,Ny,Nx,Nt,N_column)\n",
    "        data2 = np.zeros((Nz,Ny,Nx,Nt,N_column))\n",
    "\n",
    "        for ix in range(Nx):\n",
    "            for iy in range(Ny):\n",
    "                for iz in range(Nz):\n",
    "                    i_parcel = ix*(Ny*Nz) + iy*Nz + iz\n",
    "                    data2[iz,iy,ix,:,:] = data[i_parcel,:,:]\n",
    "                \n",
    "                \n",
    "        # (3) calculate injected tracer lifetime in the stratosphere\n",
    "        lifetime   = np.zeros((Nz,Ny,Nx))\n",
    "        lifetime_N = np.zeros((Nz,Ny,Nx))\n",
    "        lifetime_S = np.zeros((Nz,Ny,Nx))\n",
    "\n",
    "        \n",
    "        Lon_sink = np.zeros((Nz,Ny,Nx))\n",
    "        Lat_sink = np.zeros((Nz,Ny,Nx))\n",
    "        Lev_sink = np.zeros((Nz,Ny,Nx))\n",
    "                \n",
    "        # select the min pressure that the injected particle reaches overal\n",
    "        P_min = np.zeros((Nz,Ny,Nx))\n",
    "        \n",
    "        for iy in range(Ny):\n",
    "            for iz in range(Nz):\n",
    "                for ix in range(Nx):\n",
    "                    Num = 0\n",
    "                    Num_N = 0\n",
    "                    Num_S = 0\n",
    "                    for it in range(Nt-4):\n",
    "                        Num = Num+1\n",
    "                    \n",
    "                        if data2[iz,iy,ix,it,2]>=0: # lat>=0\n",
    "                            Num_N = Num_N + 1\n",
    "                        else:\n",
    "                            Num_S = Num_S + 1\n",
    "                    \n",
    "                    \n",
    "                        RHO_1 = data2[iz,iy,ix,it,4]   # [kg/m3]\n",
    "                        RHO_2 = data2[iz,iy,ix,it+1,4] # \n",
    "                        RHO_3 = data2[iz,iy,ix,it+2,4] # \n",
    "                        RHO_4 = data2[iz,iy,ix,it+3,4] # \n",
    "                        RHO_5 = data2[iz,iy,ix,it+4,4] # \n",
    "                    \n",
    "                        DTDP_1 = data2[iz,iy,ix,it,5]   # [K/Pa]\n",
    "                        DTDP_2 = data2[iz,iy,ix,it+1,5] # [K/Pa]\n",
    "                        DTDP_3 = data2[iz,iy,ix,it+2,5] # [K/Pa]\n",
    "                        DTDP_4 = data2[iz,iy,ix,it+3,5] # [K/Pa]\n",
    "                        DTDP_5 = data2[iz,iy,ix,it+4,5] # [K/Pa]\n",
    "                    \n",
    "                        DTDZ_1 = -1*DTDP_1 *g*RHO_1 * 1000.0 # [K/km]\n",
    "                        DTDZ_2 = -1*DTDP_2 *g*RHO_2 * 1000.0\n",
    "                        DTDZ_3 = -1*DTDP_3 *g*RHO_3 * 1000.0\n",
    "                        DTDZ_4 = -1*DTDP_4 *g*RHO_4 * 1000.0\n",
    "                        DTDZ_5 = -1*DTDP_5 *g*RHO_5 * 1000.0\n",
    "                    \n",
    "                    \n",
    "                        P_1 = data2[iz,iy,ix,it,3]\n",
    "                        P_2 = data2[iz,iy,ix,it+1,3]\n",
    "                        P_3 = data2[iz,iy,ix,it+2,3]\n",
    "                    \n",
    "                        if P_1>400.0: # directly identified as tropopause\n",
    "                            lifetime[iz,iy,ix] = Num # [day]\n",
    "                            lifetime_N[iz,iy,ix] = Num_N\n",
    "                            lifetime_S[iz,iy,ix] = Num_S\n",
    "                            \n",
    "                            Lon_sink[iz,iy,ix] = data2[iz,iy,ix,it,1]\n",
    "                            Lat_sink[iz,iy,ix] = data2[iz,iy,ix,it,2]\n",
    "                            Lev_sink[iz,iy,ix] = data2[iz,iy,ix,it,3]\n",
    "                            \n",
    "                            P_min[iz,iy,ix] = data2[iz,iy,ix,0,3]\n",
    "                            if it>1: P_min[iz,iy,ix] = np.min(data2[iz,iy,ix,0:it,3])\n",
    "\n",
    "                            break                     \n",
    "                        elif P_1>70.0: # the particle is lower than 70 hPa level\n",
    "                            if DTDZ_1<Criterion and DTDZ_2<Criterion and DTDZ_3<Criterion \\\n",
    "                                                and DTDZ_4<Criterion and DTDZ_5<Criterion: \n",
    "                                if P_1<P_2 and P_2<P_3: # keep dropping down\n",
    "                                    lifetime[iz,iy,ix] = Num # [day]\n",
    "                                    lifetime_N[iz,iy,ix] = Num_N\n",
    "                                    lifetime_S[iz,iy,ix] = Num_S\n",
    "                                    \n",
    "                                    Lon_sink[iz,iy,ix] = data2[iz,iy,ix,it,1]\n",
    "                                    Lat_sink[iz,iy,ix] = data2[iz,iy,ix,it,2]\n",
    "                                    Lev_sink[iz,iy,ix] = data2[iz,iy,ix,it,3]\n",
    "                                    \n",
    "                                    P_min[iz,iy,ix] = data2[iz,iy,ix,0,3]\n",
    "                                    if it>1: P_min[iz,iy,ix] = np.min(data2[iz,iy,ix,0:it,3])\n",
    "                            \n",
    "                                    break \n",
    "    \n",
    "        file1.close()\n",
    "        \n",
    "        \n",
    "        # save lifetime_01[Nz,Ny,Nx,N_inject] to Lifetime01.txt\n",
    "        \n",
    "        with open('./Method_1st/Lifetime_'+Year+month+day+'.txt', 'w') as f:\n",
    "            for ix in range(Nx):\n",
    "                for iy in range(Ny):\n",
    "                    for iz in range(Nz):\n",
    "                                                \n",
    "                        f.write(  str(lifetime[iz,iy,ix])   + ',' \\\n",
    "                                + str(lifetime_N[iz,iy,ix]) + ',' \\\n",
    "                                + str(lifetime_S[iz,iy,ix]) + ',' \\\n",
    "                                \n",
    "                                + str(data2[iz,iy,ix,0,1])  + ',' \\\n",
    "                                + str(data2[iz,iy,ix,0,2])  + ',' \\\n",
    "                                + str(data2[iz,iy,ix,0,3])  + ',' \\\n",
    "                                \n",
    "                                + str(Lon_sink[iz,iy,ix])  + ',' \\\n",
    "                                + str(Lat_sink[iz,iy,ix])  + ',' \\\n",
    "                                + str(Lev_sink[iz,iy,ix])  + ',' \\\n",
    "                                \n",
    "                                + str(P_min[iz,iy,ix])  )\n",
    "                        \n",
    "                        f.write('\\n')    \n",
    "        f.close()\n"
   ]
  },
  {
   "cell_type": "code",
   "execution_count": 19,
   "id": "9021f5c6",
   "metadata": {},
   "outputs": [
    {
     "name": "stdout",
     "output_type": "stream",
     "text": [
      "./Method_1st/Lifetime_20000125.txt\n"
     ]
    }
   ],
   "source": [
    "print('./Method_1st/Lifetime_'+Year+month+day+'.txt')"
   ]
  },
  {
   "cell_type": "code",
   "execution_count": null,
   "id": "397734e4",
   "metadata": {},
   "outputs": [],
   "source": [
    "Method_1st"
   ]
  },
  {
   "cell_type": "code",
   "execution_count": 11,
   "id": "e432d44e",
   "metadata": {},
   "outputs": [
    {
     "data": {
      "text/plain": [
       "1"
      ]
     },
     "execution_count": 11,
     "metadata": {},
     "output_type": "execute_result"
    }
   ],
   "source": [
    "11%5\n"
   ]
  },
  {
   "cell_type": "code",
   "execution_count": null,
   "id": "8d51d358",
   "metadata": {},
   "outputs": [],
   "source": []
  },
  {
   "cell_type": "code",
   "execution_count": null,
   "id": "2f6fd2ca",
   "metadata": {},
   "outputs": [],
   "source": []
  }
 ],
 "metadata": {
  "kernelspec": {
   "display_name": "Python [conda env:.conda-SUNenv]",
   "language": "python",
   "name": "conda-env-.conda-SUNenv-py"
  },
  "language_info": {
   "codemirror_mode": {
    "name": "ipython",
    "version": 3
   },
   "file_extension": ".py",
   "mimetype": "text/x-python",
   "name": "python",
   "nbconvert_exporter": "python",
   "pygments_lexer": "ipython3",
   "version": "3.8.5"
  }
 },
 "nbformat": 4,
 "nbformat_minor": 5
}
