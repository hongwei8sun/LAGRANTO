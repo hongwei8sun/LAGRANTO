{
 "cells": [
  {
   "cell_type": "code",
   "execution_count": 1,
   "id": "c24a9028",
   "metadata": {},
   "outputs": [],
   "source": [
    "import numpy as np\n",
    "import math\n",
    "\n",
    "import matplotlib.pyplot as plt\n",
    "import cartopy.crs as crs\n",
    "import cartopy.feature as cfeature\n",
    "import matplotlib.colors as colors\n",
    "from matplotlib.cm import get_cmap\n",
    "from matplotlib import ticker\n",
    "import matplotlib.gridspec as gridspec\n",
    "\n",
    "from cartopy import config\n",
    "import cartopy.crs as ccrs\n",
    "from cartopy.mpl.ticker import LongitudeFormatter, LatitudeFormatter\n",
    "from cartopy.util import add_cyclic_point\n",
    "\n",
    "from IPython.display import Image\n",
    "\n",
    "from tqdm import tqdm\n",
    "import os "
   ]
  },
  {
   "cell_type": "code",
   "execution_count": 2,
   "id": "883e646b",
   "metadata": {},
   "outputs": [
    {
     "name": "stdout",
     "output_type": "stream",
     "text": [
      "['2000', '2001', '2002']\n",
      "['01', '02', '03', '04', '05', '06', '07', '08', '09', '10', '11', '12']\n",
      "['01', '04', '07', '10', '13', '16', '19', '22', '25', '28']\n"
     ]
    }
   ],
   "source": [
    "Years = [\"2000\",\"2001\",\"2002\"]\n",
    "\n",
    "Months = []\n",
    "for imon in range(1,13): ### shw\n",
    "    Months.append(str(imon).zfill(2))\n",
    "    \n",
    "Days = []\n",
    "for iday in range(1,30,3):\n",
    "    Days.append(str(iday).zfill(2))\n",
    "    \n",
    "print(Years)\n",
    "print(Months)\n",
    "print(Days)"
   ]
  },
  {
   "cell_type": "code",
   "execution_count": 3,
   "id": "a3c9a614",
   "metadata": {},
   "outputs": [
    {
     "name": "stdout",
     "output_type": "stream",
     "text": [
      "/n/home12/hongwei/HONGWEI/lagranto.era5/Simulation/Python_plot/Lifetime_2000/Lifetime_20000101.txt\n"
     ]
    }
   ],
   "source": [
    "N_head = 5 # first 5 lines are head lines, not include data\n",
    "N_column = 4+2\n",
    "\n",
    "Nx = 36\n",
    "Ny = 21\n",
    "Nz = 5\n",
    "N_parcel = 3780\n",
    "\n",
    "if Nx*Ny*Nz!=N_parcel: print('ERROR: parcel number is wrong!')\n",
    "    \n",
    "\n",
    "directory = '/n/home12/hongwei/HONGWEI/lagranto.era5/Simulation/Python_plot/Lifetime_'+Years[0]+'/'\n",
    "filename = \"Lifetime_\"+Years[0]+Months[0]+Days[0]+\".txt\"\n",
    "print(directory+filename)"
   ]
  },
  {
   "cell_type": "code",
   "execution_count": 4,
   "id": "76e0e760",
   "metadata": {},
   "outputs": [
    {
     "data": {
      "text/plain": [
       "(5, 21, 36, 10, 12, 3)"
      ]
     },
     "execution_count": 4,
     "metadata": {},
     "output_type": "execute_result"
    }
   ],
   "source": [
    "N_year  = len(Years)\n",
    "N_month = len(Months)\n",
    "N_day   = len(Days)\n",
    "\n",
    "lifetime   = np.zeros((Nz, Ny, Nx, N_day, N_month, N_year))\n",
    "lifetime_N = np.zeros((Nz, Ny, Nx, N_day, N_month, N_year))\n",
    "lifetime_S = np.zeros((Nz, Ny, Nx, N_day, N_month, N_year))\n",
    "Lon = np.zeros((Nz, Ny, Nx, N_day, N_month, N_year))\n",
    "Lat = np.zeros((Nz, Ny, Nx, N_day, N_month, N_year))\n",
    "Lev = np.zeros((Nz, Ny, Nx, N_day, N_month, N_year))\n",
    "\n",
    "lifetime.shape"
   ]
  },
  {
   "cell_type": "code",
   "execution_count": 5,
   "id": "cf0ca92c",
   "metadata": {},
   "outputs": [
    {
     "data": {
      "text/plain": [
       "0.0"
      ]
     },
     "execution_count": 5,
     "metadata": {},
     "output_type": "execute_result"
    }
   ],
   "source": [
    "Lev[1,0,0,0,0,0]"
   ]
  },
  {
   "cell_type": "code",
   "execution_count": 6,
   "id": "0a591ade",
   "metadata": {},
   "outputs": [
    {
     "name": "stderr",
     "output_type": "stream",
     "text": [
      "100%|██████████| 12/12 [00:02<00:00,  4.37it/s]\n",
      "100%|██████████| 12/12 [00:02<00:00,  4.48it/s]\n",
      "100%|██████████| 12/12 [00:02<00:00,  4.46it/s]\n"
     ]
    }
   ],
   "source": [
    "for i_year in range(N_year):\n",
    "    for i_month in tqdm(range(N_month)):\n",
    "        for i_day in range(N_day):\n",
    "            directory = '/n/home12/hongwei/HONGWEI/lagranto.era5/Simulation/Python_plot/Lifetime_'+Years[i_year]+'/'\n",
    "            filename = \"Lifetime_\"+Years[i_year]+Months[i_month]+Days[i_day]+\".txt\"\n",
    "            File = open(directory+filename, 'r')\n",
    "        \n",
    "            Lines = File.readlines()\n",
    "\n",
    "            # Strips the newline character\n",
    "            data = []\n",
    "            data_N = []\n",
    "            data_S = []\n",
    "            data_x = []\n",
    "            data_y = []\n",
    "            data_z = []\n",
    "            for line in Lines:\n",
    "                a = line.split(',')\n",
    "                data.append(float(a[0])) # total lifetime\n",
    "                data_N.append(float(a[1])) # total lifetime\n",
    "                data_S.append(float(a[2])) # total lifetime\n",
    "                data_x.append(float(a[3])) # lon\n",
    "                data_y.append(float(a[4])) # lat\n",
    "                data_z.append(float(a[5])) # p\n",
    "    \n",
    "            i = 0\n",
    "            for ix in range(Nx):\n",
    "                for iy in range(Ny):\n",
    "                    for iz in range(Nz):\n",
    "                        lifetime[iz,iy,ix,i_day,i_month,i_year] = data[i]\n",
    "                        lifetime_N[iz,iy,ix,i_day,i_month,i_year] = data_N[i]\n",
    "                        lifetime_S[iz,iy,ix,i_day,i_month,i_year] = data_S[i]\n",
    "                        Lon[iz,iy,ix,i_day,i_month,i_year] = data_x[i]\n",
    "                        Lat[iz,iy,ix,i_day,i_month,i_year] = data_y[i]\n",
    "                        Lev[iz,iy,ix,i_day,i_month,i_year] = data_z[i]\n",
    "\n",
    "                        i = i+1\n",
    "                        "
   ]
  },
  {
   "cell_type": "code",
   "execution_count": 7,
   "id": "b7cf9d14",
   "metadata": {},
   "outputs": [
    {
     "name": "stdout",
     "output_type": "stream",
     "text": [
      "1 2 5\n",
      "2 5 8\n",
      "3 8 11\n"
     ]
    },
    {
     "data": {
      "text/plain": [
       "(5, 21, 36, 4)"
      ]
     },
     "execution_count": 7,
     "metadata": {},
     "output_type": "execute_result"
    }
   ],
   "source": [
    "# season-mean\n",
    "# lifetime(Nz, Ny, Nx, N_day, N_month, N_year)\n",
    "\n",
    "lifetime_mon = np.mean(lifetime, axis=(3,5))\n",
    "lifetime_N_mon = np.mean(lifetime_N, axis=(3,5))\n",
    "lifetime_S_mon = np.mean(lifetime_S, axis=(3,5))\n",
    "\n",
    "\n",
    "# lifetime_mon(Nz, Ny, Nx, N_month)\n",
    "N_season = 4\n",
    "\n",
    "lifetime_season = np.zeros((Nz, Ny, Nx, N_season))\n",
    "lifetime_N_season = np.zeros((Nz, Ny, Nx, N_season))\n",
    "lifetime_S_season = np.zeros((Nz, Ny, Nx, N_season))\n",
    "\n",
    "\n",
    "# for Winter\n",
    "lifetime_season[:,:,:,0]   = np.mean(lifetime_mon[:,:,:,[0,1,11]], axis=3)\n",
    "lifetime_N_season[:,:,:,0] = np.mean(lifetime_N_mon[:,:,:,[0,1,11]], axis=3)\n",
    "lifetime_S_season[:,:,:,0] = np.mean(lifetime_S_mon[:,:,:,[0,1,11]], axis=3)\n",
    "    \n",
    "# for Spring, Summer and Autumn\n",
    "for i in range(1,N_season):\n",
    "    print(i,i*3-1,(i+1)*3-1)\n",
    "    lifetime_season[:,:,:,i]   = np.mean(  lifetime_mon[:,:,:,i*3-1:(i+1)*3-1], axis=3)\n",
    "    lifetime_N_season[:,:,:,i] = np.mean(lifetime_N_mon[:,:,:,i*3-1:(i+1)*3-1], axis=3)\n",
    "    lifetime_S_season[:,:,:,i] = np.mean(lifetime_S_mon[:,:,:,i*3-1:(i+1)*3-1], axis=3)\n",
    "    \n",
    "lifetime_season.shape"
   ]
  },
  {
   "cell_type": "code",
   "execution_count": 8,
   "id": "92a8d426",
   "metadata": {},
   "outputs": [
    {
     "data": {
      "text/plain": [
       "((5, 7, 12, 4), (7, 12))"
      ]
     },
     "execution_count": 8,
     "metadata": {},
     "output_type": "execute_result"
    }
   ],
   "source": [
    "# regrid (lon,lat) from (10,2) to (30,6)\n",
    "# combin 3x3 to 1 grid\n",
    "\n",
    "Nx3 = int(Nx/3)\n",
    "Ny3 = int(Ny/3)\n",
    "\n",
    "lifetime_season_9   = np.zeros((Nz, Ny3, Nx3, N_season))\n",
    "lifetime_N_season_9 = np.zeros((Nz, Ny3, Nx3, N_season))\n",
    "lifetime_S_season_9 = np.zeros((Nz, Ny3, Nx3, N_season))\n",
    "\n",
    "\n",
    "for ix in range(Nx3):\n",
    "    for iy in range(Ny3):\n",
    "        lifetime_season_9[:,iy,ix,:]   = np.mean(  lifetime_season[:, iy*3:(iy+1)*3, ix*3:(ix+1)*3, :], axis=(1,2))\n",
    "        lifetime_N_season_9[:,iy,ix,:] = np.mean(lifetime_N_season[:, iy*3:(iy+1)*3, ix*3:(ix+1)*3, :], axis=(1,2))\n",
    "        lifetime_S_season_9[:,iy,ix,:] = np.mean(lifetime_S_season[:, iy*3:(iy+1)*3, ix*3:(ix+1)*3, :], axis=(1,2))\n",
    "        \n",
    "Lon2d_3 = Lon[0,1:Ny:3,1:Nx:3,0,0,0]\n",
    "Lat2d_3 = Lat[0,1:Ny:3,1:Nx:3,0,0,0]\n",
    "Lev2d_3 = Lev[0,1:Ny:3,1:Nx:3,0,0,0]\n",
    "\n",
    "lifetime_season_9.shape, Lon2d_3.shape"
   ]
  },
  {
   "cell_type": "code",
   "execution_count": 12,
   "id": "b3ab944e",
   "metadata": {},
   "outputs": [
    {
     "name": "stdout",
     "output_type": "stream",
     "text": [
      "(7, 12, 4)\n"
     ]
    }
   ],
   "source": [
    "# https://docs.scipy.org/doc/scipy/reference/generated/scipy.optimize.linprog.html\n",
    "# (Nz, Ny, Nx, N_season)\n",
    "\n",
    "Result_season = lifetime_season_9[0,:,:,:]*0.0\n",
    "print(Result_season.shape)\n",
    "iz = 1\n",
    "Height = [16, 18, 20, 22, 24] # km\n",
    "\n",
    "\n",
    "for ii in range(N_season):\n",
    "\n",
    "    Life = lifetime_season_9[iz,:,:,ii].flatten()\n",
    "    Life_S = lifetime_N_season_9[iz,:,:,ii].flatten()\n",
    "    Life_N = lifetime_S_season_9[iz,:,:,ii].flatten()\n",
    "\n",
    "    if sum(Life_S)+sum(Life_N)-sum(Life)>0.01: print(\"ERROR!!!\")\n",
    "    \n",
    "    N = len(Life)\n",
    "\n",
    "\n",
    "    #\n",
    "    c = -1*Life\n",
    "\n",
    "    Xs_bounds = []\n",
    "    A1 = []\n",
    "    A3 = []\n",
    "    A4 = []\n",
    "    A  = []\n",
    "    for i in range(N):\n",
    "        Xs_bounds.append((0, N))\n",
    "        A1.append(1)\n",
    "        A3.append( Life_N[i] -Life_S[i] -0.05*Life[i] )\n",
    "        A4.append( -1*(Life_N[i] -Life_S[i] +0.05*Life[i]) )\n",
    "\n",
    "    Aub = [A3,A4]\n",
    "    Aeq = [A1]   \n",
    "\n",
    "    b_ub = [0,0]\n",
    "    b_eq = [N]\n",
    "\n",
    "    from scipy.optimize import linprog\n",
    "    res = linprog(c, A_eq=Aeq, b_eq=b_eq, A_ub=Aub, b_ub=b_ub, bounds=Xs_bounds)\n",
    "    \n",
    "    # post-process\n",
    "    Result1d = np.round(res.x)\n",
    "    Result2d = Result1d.reshape(Ny3,Nx3)\n",
    "    Result2d = Result2d/np.sum(Result2d)*100\n",
    "\n",
    "    Result_season[:,:,ii] = Result2d"
   ]
  },
  {
   "cell_type": "code",
   "execution_count": 15,
   "id": "da9d6418",
   "metadata": {},
   "outputs": [
    {
     "data": {
      "image/png": "[encoded data removed]",
      "text/plain": [
       "<Figure size 2000x1000 with 8 Axes>"
      ]
     },
     "metadata": {
      "needs_background": "light"
     },
     "output_type": "display_data"
    }
   ],
   "source": [
    "fig = plt.figure(figsize=(20,2.5*4), dpi=100)\n",
    "extent = [0 , 360 , -20 , 20]\n",
    "\n",
    "\n",
    "#\n",
    "ax1 = plt.subplot(4, 1, 1)\n",
    "ax1_pixel = plt.imshow(Result_season[:,:,0], vmin=0, vmax=100,\\\n",
    "           extent = extent, cmap='RdBu_r', interpolation='nearest')\n",
    "\n",
    "cb1 = plt.colorbar(ax1_pixel, ax=ax1)\n",
    "cb1.set_label('[%]', fontsize=12);\n",
    "\n",
    "ax1.set_title(f\"LP solver: Injection (at {Height[iz]} km) percentage strategy in Winter\", fontsize=12);\n",
    "\n",
    "\n",
    "\n",
    "#\n",
    "ax2 = plt.subplot(4, 1, 2)\n",
    "ax2_pixel = plt.imshow(Result_season[:,:,1], vmin=0, vmax=100,\\\n",
    "           extent = extent, cmap='RdBu_r', interpolation='nearest')\n",
    "\n",
    "cb2 = plt.colorbar(ax2_pixel, ax=ax2)\n",
    "cb2.set_label('[%]', fontsize=12);\n",
    "\n",
    "ax2.set_title(\"LP solver: Injection (at {Height[iz]} km) percentage strategy in Spring\", fontsize=12);\n",
    "\n",
    "\n",
    "#\n",
    "ax3 = plt.subplot(4, 1, 3)\n",
    "ax3_pixel = plt.imshow(Result_season[:,:,2], vmin=0, vmax=100,\\\n",
    "           extent = extent, cmap='RdBu_r', interpolation='nearest')\n",
    "\n",
    "cb3 = plt.colorbar(ax3_pixel, ax=ax3)\n",
    "cb3.set_label('[%]', fontsize=12);\n",
    "\n",
    "ax3.set_title(\"LP solver: Injection (at {Height[iz]} km) percentage strategy in Summer\", fontsize=12);\n",
    "\n",
    "\n",
    "#\n",
    "ax4 = plt.subplot(4, 1, 4)\n",
    "ax4_pixel = plt.imshow(Result_season[:,:,3], vmin=0, vmax=100,\\\n",
    "           extent = extent, cmap='RdBu_r', interpolation='nearest')\n",
    "\n",
    "cb4 = plt.colorbar(ax4_pixel, ax=ax4)\n",
    "cb4.set_label('[%]', fontsize=12);\n",
    "\n",
    "ax4.set_title(\"LP solver: Injection (at {Height[iz]} km) percentage strategy in Autumn\", fontsize=12);"
   ]
  },
  {
   "cell_type": "code",
   "execution_count": null,
   "id": "22d5d297",
   "metadata": {},
   "outputs": [],
   "source": []
  }
 ],
 "metadata": {
  "kernelspec": {
   "display_name": "Python [conda env:.conda-SUNenv]",
   "language": "python",
   "name": "conda-env-.conda-SUNenv-py"
  },
  "language_info": {
   "codemirror_mode": {
    "name": "ipython",
    "version": 3
   },
   "file_extension": ".py",
   "mimetype": "text/x-python",
   "name": "python",
   "nbconvert_exporter": "python",
   "pygments_lexer": "ipython3",
   "version": "3.8.5"
  }
 },
 "nbformat": 4,
 "nbformat_minor": 5
}
