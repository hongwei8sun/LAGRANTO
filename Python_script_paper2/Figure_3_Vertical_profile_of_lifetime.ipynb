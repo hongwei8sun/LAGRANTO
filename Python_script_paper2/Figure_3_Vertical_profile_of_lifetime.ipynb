{
 "cells": [
  {
   "cell_type": "code",
   "execution_count": 54,
   "id": "9b95bd9a",
   "metadata": {},
   "outputs": [],
   "source": [
    "import numpy as np\n",
    "import math\n",
    "\n",
    "import matplotlib.pyplot as plt\n",
    "import cartopy.crs as crs\n",
    "import cartopy.feature as cfeature\n",
    "import matplotlib.colors as colors\n",
    "from matplotlib.cm import get_cmap\n",
    "from matplotlib import ticker\n",
    "import matplotlib.gridspec as gridspec\n",
    "\n",
    "from cartopy import config\n",
    "import cartopy.crs as ccrs\n",
    "from cartopy.mpl.ticker import LongitudeFormatter, LatitudeFormatter\n",
    "from cartopy.util import add_cyclic_point\n",
    "\n",
    "from IPython.display import Image\n",
    "\n",
    "from tqdm import tqdm\n",
    "import os "
   ]
  },
  {
   "cell_type": "code",
   "execution_count": 55,
   "id": "2919fb14",
   "metadata": {},
   "outputs": [
    {
     "name": "stdout",
     "output_type": "stream",
     "text": [
      "['2000', '2001', '2002', '2003', '2004', '2005', '2006', '2007', '2008', '2009']\n",
      "['01', '02', '03', '04', '05', '06', '07', '08', '09', '10', '11', '12']\n",
      "['01', '04', '07', '10', '13', '16', '19', '22', '25', '28']\n"
     ]
    }
   ],
   "source": [
    "Years = [\"2000\",\"2001\",\"2002\",\"2003\",\"2004\",\"2005\",\"2006\",\"2007\",\"2008\",\"2009\"]\n",
    "\n",
    "Months = []\n",
    "for imon in range(1,13): ### shw\n",
    "    Months.append(str(imon).zfill(2))\n",
    "    \n",
    "Days = []\n",
    "for iday in range(1,30,3):\n",
    "    Days.append(str(iday).zfill(2))\n",
    "    \n",
    "print(Years)\n",
    "print(Months)\n",
    "print(Days)"
   ]
  },
  {
   "cell_type": "code",
   "execution_count": 56,
   "id": "581c4456",
   "metadata": {},
   "outputs": [],
   "source": [
    "Pressure = [100, 75, 65, 55, 40, 30] # hPa\n",
    "Height   = [16,  18, 19, 20, 22, 24] # km\n",
    "\n",
    "Season = [\"Winter\", \"Spring\", \"Summer\", \"Autumn\"]"
   ]
  },
  {
   "cell_type": "code",
   "execution_count": 57,
   "id": "96d7103c",
   "metadata": {},
   "outputs": [
    {
     "name": "stdout",
     "output_type": "stream",
     "text": [
      "./Lifetime/Lifetime_20000101.txt\n"
     ]
    }
   ],
   "source": [
    "N_head = 5 # first 5 lines are head lines, not include data\n",
    "N_column = 4 + 2\n",
    "\n",
    "# Nx = 36\n",
    "# Ny = 21\n",
    "# Nz = 5\n",
    "# N_parcel = 3780\n",
    "\n",
    "Nx = 24\n",
    "Ny = 21\n",
    "Nz = 6\n",
    "N_parcel = Nx*Ny*Nz\n",
    "\n",
    "if Nx*Ny*Nz!=N_parcel: print('ERROR: parcel number is wrong!')\n",
    "    \n",
    "\n",
    "directory = './Lifetime/'\n",
    "filename = \"Lifetime_\"+Years[0]+Months[0]+Days[0]+\".txt\"\n",
    "print(directory+filename)"
   ]
  },
  {
   "cell_type": "code",
   "execution_count": 58,
   "id": "574bddd0",
   "metadata": {},
   "outputs": [
    {
     "data": {
      "text/plain": [
       "(6, 21, 24, 10, 12, 10)"
      ]
     },
     "execution_count": 58,
     "metadata": {},
     "output_type": "execute_result"
    }
   ],
   "source": [
    "N_year  = len(Years)\n",
    "N_month = len(Months)\n",
    "N_day   = len(Days)\n",
    "\n",
    "lifetime   = np.zeros((Nz, Ny, Nx, N_day, N_month, N_year))\n",
    "lifetime_N = np.zeros((Nz, Ny, Nx, N_day, N_month, N_year))\n",
    "lifetime_S = np.zeros((Nz, Ny, Nx, N_day, N_month, N_year))\n",
    "Lon = np.zeros((Nz, Ny, Nx, N_day, N_month, N_year))\n",
    "Lat = np.zeros((Nz, Ny, Nx, N_day, N_month, N_year))\n",
    "Lev = np.zeros((Nz, Ny, Nx, N_day, N_month, N_year))\n",
    "\n",
    "lifetime.shape"
   ]
  },
  {
   "cell_type": "code",
   "execution_count": 59,
   "id": "b010a456",
   "metadata": {},
   "outputs": [
    {
     "name": "stderr",
     "output_type": "stream",
     "text": [
      "100%|██████████| 12/12 [00:02<00:00,  4.65it/s]\n",
      "100%|██████████| 12/12 [00:02<00:00,  5.20it/s]\n",
      "100%|██████████| 12/12 [00:02<00:00,  4.67it/s]\n",
      "100%|██████████| 12/12 [00:02<00:00,  4.54it/s]\n",
      "100%|██████████| 12/12 [00:02<00:00,  4.86it/s]\n",
      "100%|██████████| 12/12 [00:02<00:00,  5.51it/s]\n",
      "100%|██████████| 12/12 [00:02<00:00,  4.93it/s]\n",
      "100%|██████████| 12/12 [00:02<00:00,  4.61it/s]\n",
      "100%|██████████| 12/12 [00:02<00:00,  4.75it/s]\n",
      "100%|██████████| 12/12 [00:02<00:00,  4.80it/s]\n"
     ]
    }
   ],
   "source": [
    "for i_year in range(N_year):\n",
    "    for i_month in tqdm(range(N_month)):\n",
    "        for i_day in range(N_day):\n",
    "            directory = './Lifetime/'\n",
    "            filename = \"Lifetime_\"+Years[i_year]+Months[i_month]+Days[i_day]+\".txt\"\n",
    "            File = open(directory+filename, 'r')\n",
    "        \n",
    "            Lines = File.readlines()\n",
    "\n",
    "            # Strips the newline character\n",
    "            data = []\n",
    "            data_N = []\n",
    "            data_S = []\n",
    "            data_x = []\n",
    "            data_y = []\n",
    "            data_z = []\n",
    "            for line in Lines:\n",
    "                a = line.split(',')\n",
    "                data.append(float(a[0])) # total lifetime\n",
    "                data_N.append(float(a[1])) # total N lifetime\n",
    "                data_S.append(float(a[2])) # total S lifetime\n",
    "                data_x.append(float(a[3])) # lon\n",
    "                data_y.append(float(a[4])) # lat\n",
    "                data_z.append(float(a[5])) # p\n",
    "    \n",
    "            i = 0\n",
    "            for ix in range(Nx):\n",
    "                for iy in range(Ny):\n",
    "                    for iz in range(Nz):\n",
    "                        lifetime[iz,iy,ix,i_day,i_month,i_year]   = data[i]\n",
    "                        lifetime_N[iz,iy,ix,i_day,i_month,i_year] = data_N[i]\n",
    "                        lifetime_S[iz,iy,ix,i_day,i_month,i_year] = data_S[i]\n",
    "                        Lon[iz,iy,ix,i_day,i_month,i_year] = data_x[i]\n",
    "                        Lat[iz,iy,ix,i_day,i_month,i_year] = data_y[i]\n",
    "                        Lev[iz,iy,ix,i_day,i_month,i_year] = data_z[i]\n",
    "\n",
    "                        i = i+1\n",
    "                        \n",
    "                        "
   ]
  },
  {
   "cell_type": "code",
   "execution_count": 60,
   "id": "714937ec",
   "metadata": {},
   "outputs": [
    {
     "name": "stdout",
     "output_type": "stream",
     "text": [
      "1 2 5\n",
      "2 5 8\n",
      "3 8 11\n"
     ]
    },
    {
     "data": {
      "text/plain": [
       "(6, 21, 24, 4)"
      ]
     },
     "execution_count": 60,
     "metadata": {},
     "output_type": "execute_result"
    }
   ],
   "source": [
    "# season-mean\n",
    "\n",
    "# lifetime(Nz, Ny, Nx, N_day, N_month, N_year)\n",
    "\n",
    "lifetime_mon = np.mean(lifetime, axis=(3,5))\n",
    "lifetime_N_mon = np.mean(lifetime_N, axis=(3,5))\n",
    "lifetime_S_mon = np.mean(lifetime_S, axis=(3,5))\n",
    "\n",
    "\n",
    "# lifetime_mon(Nz, Ny, Nx, N_month)\n",
    "N_season = 4\n",
    "\n",
    "lifetime_season = np.zeros((Nz, Ny, Nx, N_season))\n",
    "lifetime_N_season = np.zeros((Nz, Ny, Nx, N_season))\n",
    "lifetime_S_season = np.zeros((Nz, Ny, Nx, N_season))\n",
    "\n",
    "\n",
    "# for Winter\n",
    "lifetime_season[:,:,:,0]   = np.mean(lifetime_mon[:,:,:,[0,1,11]], axis=3)\n",
    "lifetime_N_season[:,:,:,0] = np.mean(lifetime_N_mon[:,:,:,[0,1,11]], axis=3)\n",
    "lifetime_S_season[:,:,:,0] = np.mean(lifetime_S_mon[:,:,:,[0,1,11]], axis=3)\n",
    "    \n",
    "# for Spring, Summer and Autumn\n",
    "for i in range(1,N_season):\n",
    "    print(i,i*3-1,(i+1)*3-1)\n",
    "    lifetime_season[:,:,:,i]   = np.mean(  lifetime_mon[:,:,:,i*3-1:(i+1)*3-1], axis=3)\n",
    "    lifetime_N_season[:,:,:,i] = np.mean(lifetime_N_mon[:,:,:,i*3-1:(i+1)*3-1], axis=3)\n",
    "    lifetime_S_season[:,:,:,i] = np.mean(lifetime_S_mon[:,:,:,i*3-1:(i+1)*3-1], axis=3)\n",
    "    \n",
    "lifetime_season.shape"
   ]
  },
  {
   "cell_type": "code",
   "execution_count": 61,
   "id": "426fa1a8",
   "metadata": {},
   "outputs": [],
   "source": [
    "D_lifetime_uniform = lifetime_N_season[:,:,:,:] - lifetime_S_season[:,:,:,:]"
   ]
  },
  {
   "cell_type": "code",
   "execution_count": 77,
   "id": "ffdbeb27",
   "metadata": {},
   "outputs": [
    {
     "name": "stdout",
     "output_type": "stream",
     "text": [
      "0\n",
      "1\n",
      "2\n",
      "3\n",
      "4\n",
      "5\n",
      "(6, 21, 24, 4) (21, 24, 4)\n"
     ]
    }
   ],
   "source": [
    "# LP solver\n",
    "\n",
    "# https://docs.scipy.org/doc/scipy/reference/generated/scipy.optimize.linprog.html\n",
    "\n",
    "# (Nz, Ny, Nx, N_season)\n",
    "Result_season  = lifetime_season[0,:,:,:]*0.0\n",
    "Lifetime_LP    = lifetime_season[:,:,:,:]*0.0\n",
    "Lifetime_LP_N  = lifetime_season[:,:,:,:]*0.0\n",
    "Lifetime_LP_S  = lifetime_season[:,:,:,:]*0.0\n",
    "D_lifetime_LP  = lifetime_season[:,:,:,:]*0.0\n",
    "\n",
    "iz = 1\n",
    "\n",
    "Diff_NS = 0.01\n",
    "\n",
    "# for LP solve: max lifetime under the interhemispheric balance\n",
    "for iz in range(Nz):\n",
    "    print(iz)\n",
    "    for iseason in range(N_season):\n",
    "        Life   = lifetime_season[iz,:,:,iseason].flatten()\n",
    "        Life_S = lifetime_N_season[iz,:,:,iseason].flatten()\n",
    "        Life_N = lifetime_S_season[iz,:,:,iseason].flatten()\n",
    "\n",
    "        if sum(Life_S)+sum(Life_N)-sum(Life)>0.01: print(\"ERROR!!!\")\n",
    "    \n",
    "        N = len(Life)\n",
    "\n",
    "        #\n",
    "        c = -1*Life\n",
    "\n",
    "        Xs_bounds = []\n",
    "        A1 = []\n",
    "        A3 = []\n",
    "        A4 = []\n",
    "        A  = []\n",
    "        for i in range(N):\n",
    "            Xs_bounds.append((0, N))\n",
    "            A1.append(1)\n",
    "            A3.append( Life_N[i] -Life_S[i] -Diff_NS*Life[i] )\n",
    "            A4.append( -1*(Life_N[i] -Life_S[i] +Diff_NS*Life[i]) )\n",
    "\n",
    "        Aub = [A3,A4]\n",
    "        Aeq = [A1]   \n",
    "\n",
    "        b_ub = [0,0]\n",
    "        b_eq = [N]\n",
    "\n",
    "        from scipy.optimize import linprog\n",
    "        res = linprog(c, A_eq=Aeq, b_eq=b_eq, A_ub=Aub, b_ub=b_ub, bounds=Xs_bounds)\n",
    "    \n",
    "        # post-process, calculate the injection percentage\n",
    "        Result1d = np.round(res.x)\n",
    "        Result2d = Result1d.reshape(Ny,Nx)\n",
    "        Result2d = Result2d/np.sum(Result2d)*100\n",
    "    \n",
    "        Result_season[:,:,iseason] = Result2d\n",
    "    \n",
    "    Lifetime_LP[iz,:,:,:] = lifetime_season[iz,:,:,:]* (Result_season/100)\n",
    "\n",
    "    Lifetime_LP_N[iz,:,:,:] = lifetime_N_season[iz,:,:,:]* (Result_season/100)\n",
    "    Lifetime_LP_S[iz,:,:,:] = lifetime_S_season[iz,:,:,:]* (Result_season/100)\n",
    "    D_lifetime_LP[iz,:,:,:] = Lifetime_LP_N[iz,:,:,:] - Lifetime_LP_S[iz,:,:,:]\n",
    "\n",
    "print(lifetime_season[:,:,:,:].shape, Result_season.shape)\n"
   ]
  },
  {
   "cell_type": "code",
   "execution_count": 78,
   "id": "fc2a02ac",
   "metadata": {},
   "outputs": [
    {
     "name": "stdout",
     "output_type": "stream",
     "text": [
      "(6, 21, 4)\n",
      "(6, 21, 4)\n"
     ]
    }
   ],
   "source": [
    "# get max lifetime by only selecting LAT (averaged over all LON)\n",
    "\n",
    "lifetime_season_Xmean   = np.mean(lifetime_season, axis=2)\n",
    "lifetime_N_season_Xmean = np.mean(lifetime_N_season, axis=2)\n",
    "lifetime_S_season_Xmean = np.mean(lifetime_S_season, axis=2)\n",
    "print(lifetime_season_Xmean.shape)\n",
    "\n",
    "Inject_percent    = np.zeros((Nz, Ny, N_season))\n",
    "Lifetime_MaxLat   = np.zeros((Nz, Ny, N_season))\n",
    "Lifetime_MaxLat_N = np.zeros((Nz, Ny, N_season))\n",
    "Lifetime_MaxLat_S = np.zeros((Nz, Ny, N_season))\n",
    "D_lifetime_MaxLat = np.zeros((Nz, Ny, N_season))\n",
    "print(Inject_percent.shape)\n",
    "\n",
    "for iz in range(Nz):\n",
    "    for i_season in range(N_season):\n",
    "        a   = np.mean(lifetime_season[iz,:,:,i_season], axis=1)\n",
    "        idx = np.unravel_index(np.argmax(a, axis=None), a.shape)\n",
    "#         print(iz,idx[0],i_season)\n",
    "        Inject_percent[iz,idx[0],i_season] = 100\n",
    "\n",
    "\n",
    "    Lifetime_MaxLat[iz,:,:] = lifetime_season_Xmean[iz,:,:]* (Inject_percent[iz,:,:]/100)\n",
    "\n",
    "    Lifetime_MaxLat_N[iz,:,:] = lifetime_N_season_Xmean[iz,:,:]* (Inject_percent[iz,:,:]/100)\n",
    "    Lifetime_MaxLat_S[iz,:,:] = lifetime_S_season_Xmean[iz,:,:]* (Inject_percent[iz,:,:]/100)\n",
    "    D_lifetime_MaxLat[iz,:,:] = Lifetime_MaxLat_N[iz,:,:] - Lifetime_MaxLat_S[iz,:,:]"
   ]
  },
  {
   "cell_type": "code",
   "execution_count": 79,
   "id": "35752443",
   "metadata": {},
   "outputs": [
    {
     "name": "stdout",
     "output_type": "stream",
     "text": [
      "(6, 21, 24, 4)\n"
     ]
    }
   ],
   "source": [
    "# get the max lifetime by selecting both LON and LAT\n",
    "\n",
    "Inject_percent = np.zeros((Nz, Ny, Nx, N_season))\n",
    "Lifetime_max   = np.zeros((Nz, Ny, Nx, N_season))\n",
    "Lifetime_max_N = np.zeros((Nz, Ny, Nx, N_season))\n",
    "Lifetime_max_S = np.zeros((Nz, Ny, Nx, N_season))\n",
    "D_lifetime_max = np.zeros((Nz, Ny, Nx, N_season))\n",
    "\n",
    "print(Inject_percent.shape)\n",
    "\n",
    "for iz in range(Nz):\n",
    "    for i_season in range(N_season):\n",
    "        a   = lifetime_season[iz,:,:,i_season]\n",
    "        # Converts a flat index or array of flat indices into a tuple of coordinate arrays\n",
    "        idx = np.unravel_index(np.argmax(a, axis=None), a.shape) \n",
    "#         print(iz,idx[0],idx[1],i_season)\n",
    "        Inject_percent[iz,idx[0],idx[1],i_season] = 100\n",
    "\n",
    "\n",
    "    Lifetime_max[iz,:,:,:] = lifetime_season[iz,:,:,:]* (Inject_percent[iz,:,:,:]/100)\n",
    "\n",
    "    Lifetime_max_N[iz,:,:,:] = lifetime_N_season[iz,:,:,:]* (Inject_percent[iz,:,:,:]/100)\n",
    "    Lifetime_max_S[iz,:,:,:] = lifetime_S_season[iz,:,:,:]* (Inject_percent[iz,:,:,:]/100)\n",
    "    D_lifetime_max[iz,:,:,:] = Lifetime_max_N[iz,:,:,:] - Lifetime_max_S[iz,:,:,:]\n",
    "    "
   ]
  },
  {
   "cell_type": "code",
   "execution_count": 80,
   "id": "36feac10",
   "metadata": {},
   "outputs": [
    {
     "data": {
      "image/png": "[encoded data removed]",
      "text/plain": [
       "<Figure size 1050x600 with 2 Axes>"
      ]
     },
     "metadata": {
      "needs_background": "light"
     },
     "output_type": "display_data"
    }
   ],
   "source": [
    "Life_LP_season = np.sum(Lifetime_LP[:,:,:,:], axis=(1,2))/365.25\n",
    "Life_MaxLat_season = np.sum(Lifetime_MaxLat[:,:,:], axis=(1))/365.25\n",
    "Life_max_season = np.sum(Lifetime_max[:,:,:,:], axis=(1,2))/365.25\n",
    "Life_uniform_season = np.mean(lifetime_season[:,:,:,:],axis=(1,2))/365.25\n",
    "\n",
    "Life_LP_z  = np.mean(Life_LP_season[:,:],axis=1)\n",
    "Life_MaxLat_z = np.mean(Life_MaxLat_season[:,:],axis=1)\n",
    "Life_max_z = np.mean(Life_max_season[:,:],axis=1)\n",
    "Life_uniform_z = np.mean(Life_uniform_season[:,:],axis=1)\n",
    "\n",
    "### plot\n",
    "fig, ax1 = plt.subplots(figsize=(7,4), dpi=150)\n",
    "\n",
    "###\n",
    "ax1.plot(Life_uniform_z, Height, 'mo', label='Uniform Injection')\n",
    "\n",
    "ax1.set_xlim(0,3.5)\n",
    "\n",
    "ax1.set_xlabel('Lifetime [year]', fontsize=12)\n",
    "ax1.set_ylabel('Height [km]', fontsize=12)\n",
    "ax1.legend(loc='center left', fontsize=12);\n",
    "\n",
    "###\n",
    "ax2 = ax1.twinx()\n",
    "ax2.plot(Life_MaxLat_z, Pressure, 'bX', label='Select only Lat (averaged Lon)')\n",
    "ax2.plot(Life_max_z, Pressure, 'kH', label='Select both (Lon, Lat)')\n",
    "ax2.plot(Life_LP_z, Pressure, 'r*', label='LP solver')\n",
    "\n",
    "ax2.set_ylabel('Pressure [hPa]', fontsize=12)\n",
    "ax2.set_yscale('log')\n",
    "ax2.invert_yaxis()\n",
    "ax2.legend(loc=\"upper left\", fontsize=12);\n",
    "\n",
    "###\n",
    "# ax3 = ax1.twinx()\n",
    "# ax3.plot(Life_LP_z, Pressure, 'b*', label='LP solver lifetime')\n",
    "\n",
    "# ax3.set_ylabel('Pressure [hPa]', fontsize=12)\n",
    "# ax3.set_yscale('log')\n",
    "# ax3.invert_yaxis()\n",
    "# ax3.legend(loc=\"upper left\", fontsize=12);\n",
    "\n",
    "\n",
    "plt.title('Lifetime at different height (seasonal data)', fontsize=14);"
   ]
  },
  {
   "cell_type": "code",
   "execution_count": 86,
   "id": "6e9d0e99",
   "metadata": {},
   "outputs": [
    {
     "data": {
      "text/plain": [
       "(2.4178644763860366, 2.3356877733474817, 2.1994977754962353, 1.693630963698127)"
      ]
     },
     "execution_count": 86,
     "metadata": {},
     "output_type": "execute_result"
    }
   ],
   "source": [
    "\n",
    "Life_max_AllMean = np.mean(Life_max_z)\n",
    "Life_LP_AllMean = np.mean(Life_LP_z)\n",
    "Life_MaxLat_AllMean = np.mean(Life_MaxLat_z)\n",
    "Life_uniform_AllMean = np.mean(Life_uniform_z)\n",
    "\n",
    "Life_max_AllMean, Life_LP_AllMean, Life_MaxLat_AllMean, Life_uniform_AllMean"
   ]
  },
  {
   "cell_type": "code",
   "execution_count": 82,
   "id": "0f30c310",
   "metadata": {},
   "outputs": [
    {
     "data": {
      "text/plain": [
       "((6, 21, 24, 4), (6, 21, 24, 4), (6, 21, 4), (6, 21, 24, 4))"
      ]
     },
     "execution_count": 82,
     "metadata": {},
     "output_type": "execute_result"
    }
   ],
   "source": [
    "D_lifetime_LP.shape, D_lifetime_max.shape, D_lifetime_MaxLat.shape, D_lifetime_uniform.shape"
   ]
  },
  {
   "cell_type": "code",
   "execution_count": 83,
   "id": "73d4043a",
   "metadata": {},
   "outputs": [
    {
     "data": {
      "text/plain": [
       "((6, 4), (6, 4), (6, 4), (6, 4))"
      ]
     },
     "execution_count": 83,
     "metadata": {},
     "output_type": "execute_result"
    }
   ],
   "source": [
    "# use np.sum if a injection percent is applied to the variable before\n",
    "\n",
    "D_lifetime_LP_XYmean      = np.sum(D_lifetime_LP, axis=(1,2))\n",
    "D_lifetime_MaxLat_XYmean  = np.sum(D_lifetime_MaxLat, axis=(1))\n",
    "D_lifetime_max_XYmean     = np.sum(D_lifetime_max, axis=(1,2))\n",
    "D_lifetime_uniform_XYmean = np.mean(D_lifetime_uniform, axis=(1,2))\n",
    "\n",
    "D_lifetime_LP_XYmean.shape, D_lifetime_max_XYmean.shape, D_lifetime_MaxLat_XYmean.shape, D_lifetime_uniform_XYmean.shape"
   ]
  },
  {
   "cell_type": "code",
   "execution_count": 84,
   "id": "e0f0c22d",
   "metadata": {},
   "outputs": [
    {
     "name": "stdout",
     "output_type": "stream",
     "text": [
      "[ 2.50229497  5.97057705  8.38099868 10.4778621  11.71878307 11.89074735]\n",
      "[211.4125     243.75666667 158.7725     146.86       269.21083333\n",
      " 396.36916667]\n",
      "[186.85305556 184.46006944 210.7746875  154.93194444 205.99201389\n",
      " 292.67024306]\n",
      "[20.72166005 33.232958   34.07718254 23.45626984 20.20613922 36.78309689]\n"
     ]
    }
   ],
   "source": [
    "print(np.mean(abs(D_lifetime_LP_XYmean), axis=1))\n",
    "print(np.mean(abs(D_lifetime_max_XYmean), axis=1))\n",
    "print(np.mean(abs(D_lifetime_MaxLat_XYmean), axis=1))\n",
    "print(np.mean(abs(D_lifetime_uniform_XYmean), axis=1))"
   ]
  },
  {
   "cell_type": "code",
   "execution_count": 85,
   "id": "889bb2f8",
   "metadata": {},
   "outputs": [
    {
     "name": "stdout",
     "output_type": "stream",
     "text": [
      "0.023244929604158453\n",
      "0.650870028139022\n",
      "0.5638521623951124\n",
      "0.07687762105754918\n"
     ]
    }
   ],
   "source": [
    "print(np.mean(abs(D_lifetime_LP_XYmean), axis=(0,1))/365.25)\n",
    "print(np.mean(abs(D_lifetime_max_XYmean), axis=(0,1))/365.25)\n",
    "print(np.mean(abs(D_lifetime_MaxLat_XYmean), axis=(0,1))/365.25)\n",
    "print(np.mean(abs(D_lifetime_uniform_XYmean), axis=(0,1))/365.25)"
   ]
  },
  {
   "cell_type": "code",
   "execution_count": null,
   "id": "01b820ef",
   "metadata": {},
   "outputs": [],
   "source": []
  }
 ],
 "metadata": {
  "kernelspec": {
   "display_name": "Python [conda env:.conda-SUNenv]",
   "language": "python",
   "name": "conda-env-.conda-SUNenv-py"
  },
  "language_info": {
   "codemirror_mode": {
    "name": "ipython",
    "version": 3
   },
   "file_extension": ".py",
   "mimetype": "text/x-python",
   "name": "python",
   "nbconvert_exporter": "python",
   "pygments_lexer": "ipython3",
   "version": "3.8.5"
  }
 },
 "nbformat": 4,
 "nbformat_minor": 5
}
