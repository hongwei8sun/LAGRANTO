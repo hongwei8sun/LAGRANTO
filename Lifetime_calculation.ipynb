{
 "cells": [
  {
   "cell_type": "code",
   "execution_count": 5,
   "id": "05f96e83",
   "metadata": {},
   "outputs": [],
   "source": [
    "import numpy as np\n",
    "import math\n",
    "\n",
    "import matplotlib.pyplot as plt\n",
    "import cartopy.crs as crs\n",
    "import cartopy.feature as cfeature\n",
    "import matplotlib.colors as colors\n",
    "from matplotlib.cm import get_cmap\n",
    "from matplotlib import ticker\n",
    "import matplotlib.gridspec as gridspec\n",
    "\n",
    "from cartopy import config\n",
    "import cartopy.crs as ccrs\n",
    "from cartopy.mpl.ticker import LongitudeFormatter, LatitudeFormatter\n",
    "from cartopy.util import add_cyclic_point\n",
    "\n",
    "from IPython.display import Image\n",
    "\n",
    "from tqdm import tqdm\n",
    "import os "
   ]
  },
  {
   "cell_type": "code",
   "execution_count": 6,
   "id": "7a635736",
   "metadata": {},
   "outputs": [],
   "source": [
    "directory = '/n/home12/hongwei/HONGWEI/lagranto.ecmwf/Simulation/run_10yr_2000'\n",
    "\n",
    "filename01 = ['/traj.20000101','/traj.20000102','/traj.20000103', \\\n",
    "              '/traj.20000104','/traj.20000105','/traj.20000106', \\\n",
    "              '/traj.20000107','/traj.20000108','/traj.20000109']\n",
    "\n",
    "filename04 = ['/traj.20000401','/traj.20000402','/traj.20000403', \\\n",
    "              '/traj.20000404','/traj.20000405','/traj.20000406', \\\n",
    "              '/traj.20000407','/traj.20000408','/traj.20000409']\n",
    "\n",
    "filename07 = ['/traj.20000701','/traj.20000702','/traj.20000703', \\\n",
    "              '/traj.20000704','/traj.20000705','/traj.20000706', \\\n",
    "              '/traj.20000707','/traj.20000708','/traj.20000709']\n",
    "\n",
    "filename10 = ['/traj.20001001','/traj.20001002','/traj.20001003', \\\n",
    "              '/traj.20001004','/traj.20001005','/traj.20001006', \\\n",
    "              '/traj.20001007','/traj.20001008','/traj.20001009']"
   ]
  },
  {
   "cell_type": "code",
   "execution_count": 7,
   "id": "4b9515f0",
   "metadata": {},
   "outputs": [],
   "source": [
    "N_head = 5 # first 5 lines are head lines, not include data\n",
    "N_column = 4\n",
    "\n",
    "Nx = 36\n",
    "Ny = 21\n",
    "Nz = 5\n",
    "N_parcel = 3780\n",
    "\n",
    "if Nx*Ny*Nz!=N_parcel: print('ERROR: parcel number is wrong!')\n",
    "    \n",
    "N_inject = 9 # how many injecting times\n",
    "\n"
   ]
  },
  {
   "cell_type": "code",
   "execution_count": null,
   "id": "2dc2661c",
   "metadata": {},
   "outputs": [],
   "source": []
  },
  {
   "cell_type": "code",
   "execution_count": 8,
   "id": "da3770a1",
   "metadata": {},
   "outputs": [
    {
     "name": "stderr",
     "output_type": "stream",
     "text": [
      "\r",
      "  0%|          | 0/9 [00:00<?, ?it/s]"
     ]
    },
    {
     "name": "stdout",
     "output_type": "stream",
     "text": [
      "Begin: /traj.20000101\n"
     ]
    },
    {
     "name": "stderr",
     "output_type": "stream",
     "text": [
      "\r",
      " 11%|█         | 1/9 [04:41<37:32, 281.52s/it]"
     ]
    },
    {
     "name": "stdout",
     "output_type": "stream",
     "text": [
      "Begin: /traj.20000102\n"
     ]
    },
    {
     "name": "stderr",
     "output_type": "stream",
     "text": [
      "\r",
      " 22%|██▏       | 2/9 [09:27<33:09, 284.19s/it]"
     ]
    },
    {
     "name": "stdout",
     "output_type": "stream",
     "text": [
      "Begin: /traj.20000103\n"
     ]
    },
    {
     "name": "stderr",
     "output_type": "stream",
     "text": [
      "\r",
      " 33%|███▎      | 3/9 [14:14<28:33, 285.55s/it]"
     ]
    },
    {
     "name": "stdout",
     "output_type": "stream",
     "text": [
      "Begin: /traj.20000104\n"
     ]
    },
    {
     "name": "stderr",
     "output_type": "stream",
     "text": [
      "\r",
      " 44%|████▍     | 4/9 [19:01<23:50, 286.04s/it]"
     ]
    },
    {
     "name": "stdout",
     "output_type": "stream",
     "text": [
      "Begin: /traj.20000105\n"
     ]
    },
    {
     "name": "stderr",
     "output_type": "stream",
     "text": [
      "\r",
      " 56%|█████▌    | 5/9 [23:47<19:03, 285.87s/it]"
     ]
    },
    {
     "name": "stdout",
     "output_type": "stream",
     "text": [
      "Begin: /traj.20000106\n"
     ]
    },
    {
     "name": "stderr",
     "output_type": "stream",
     "text": [
      "\r",
      " 67%|██████▋   | 6/9 [28:33<14:18, 286.15s/it]"
     ]
    },
    {
     "name": "stdout",
     "output_type": "stream",
     "text": [
      "Begin: /traj.20000107\n"
     ]
    },
    {
     "name": "stderr",
     "output_type": "stream",
     "text": [
      "\r",
      " 78%|███████▊  | 7/9 [33:20<09:32, 286.17s/it]"
     ]
    },
    {
     "name": "stdout",
     "output_type": "stream",
     "text": [
      "Begin: /traj.20000108\n"
     ]
    },
    {
     "name": "stderr",
     "output_type": "stream",
     "text": [
      "\r",
      " 89%|████████▉ | 8/9 [38:07<04:46, 286.74s/it]"
     ]
    },
    {
     "name": "stdout",
     "output_type": "stream",
     "text": [
      "Begin: /traj.20000109\n"
     ]
    },
    {
     "name": "stderr",
     "output_type": "stream",
     "text": [
      "100%|██████████| 9/9 [42:58<00:00, 286.49s/it]\n"
     ]
    }
   ],
   "source": [
    "# loop for all traj files for month 01\n",
    "\n",
    "file1 = open(directory+filename01[0], 'r')\n",
    "Lines = file1.readlines()\n",
    "Nt = int( (len(Lines)-4)/N_parcel - 1 ) # 2928\n",
    "\n",
    "lifetime_01 = np.zeros((Nz,Ny,Nx, N_inject))\n",
    "\n",
    "for i_inject in tqdm(range(N_inject)):\n",
    "    \n",
    "    # (1) read original data from traj files\n",
    "    data = np.zeros((N_parcel, Nt, N_column))\n",
    "\n",
    "    file1 = open(directory+filename01[i_inject], 'r')\n",
    "#     print('Begin: '+filename01[i_inject])\n",
    "    Lines = file1.readlines()\n",
    "\n",
    "    count = 0\n",
    "    # Strips the newline character\n",
    "    for line in Lines:\n",
    "        count += 1\n",
    "    \n",
    "        if count>=5:\n",
    "            i = count-5\n",
    "            i_parcel = math.floor( i / (Nt+1) ) # Nt time lines plue 1 empty line\n",
    "            i_t = i%(Nt+1)\n",
    "        \n",
    "            if i_t!=0:\n",
    "                a = line.split()\n",
    "\n",
    "                if i_t==1:\n",
    "                    if float(a[0])!=0.0: print('ERROR: first time is not 0 !!!')\n",
    "                \n",
    "                data[i_parcel,i_t-1,1] = float(a[1]) # lon\n",
    "                data[i_parcel,i_t-1,2] = float(a[2]) # lat\n",
    "                data[i_parcel,i_t-1,3] = float(a[3]) # lev\n",
    "                \n",
    "                \n",
    "    # (2) re-shape data(N_parcel, Nt, N_column) to data2(Nz,Ny,Nx,Nt,N_column)\n",
    "    data2 = np.zeros((Nz,Ny,Nx,Nt,N_column))\n",
    "\n",
    "    for iy in range(Ny):\n",
    "        for iz in range(Nz):\n",
    "            for ix in range(Nx):\n",
    "                i_parcel = iy*(Nz*Nx) + iz*Nx + ix\n",
    "                data2[iz,iy,ix,:,:] = data[i_parcel,:,:]\n",
    "                \n",
    "                \n",
    "    # (3) calculate injected tracer lifetime in the stratosphere\n",
    "    P_cont = 200 # [hPa]\n",
    "    lifetime = np.zeros((Nz,Ny,Nx))\n",
    "\n",
    "    for iy in range(Ny):\n",
    "        for iz in range(Nz):\n",
    "            for ix in range(Nx):\n",
    "                Num = 0\n",
    "                Num_N = 0\n",
    "                Num_S = 0\n",
    "                for i in data2[iz,iy,ix,:,3]:\n",
    "                    Num = Num+1\n",
    "                    if i>=P_cont: \n",
    "                        lifetime[iz,iy,ix] = Num*3/24 # hour to day\n",
    "                        break\n",
    "                \n",
    "                \n",
    "    # (4) create 2-D LAT and LON\n",
    "    LON = np.zeros((Ny,Nx))\n",
    "    LAT = np.zeros((Ny,Nx))\n",
    "\n",
    "    for iy in range(Ny):\n",
    "        for ix in range(Nx):\n",
    "            LON[iy,ix] = data2[0,iy,ix,0,1]\n",
    "            LAT[iy,ix] = data2[0,iy,ix,0,2]\n",
    "\n",
    "            \n",
    "    # (5) Sort lat dimension from min to max [-20:20]\n",
    "    index = np.argsort(LAT[:,0])\n",
    "\n",
    "    LAT[:,:] = LAT[index,:]\n",
    "    LON[:,:] = LON[index,:]\n",
    "    lifetime[:,:,:] = lifetime[:,index,:]\n",
    "    data2[:,:,:,:,:] = data2[:,index,:,:,:]\n",
    "              \n",
    "    # (6) Finally, save lifetime into  lifetime_01[Nz,Ny,Nx,N_inject]\n",
    "    lifetime_01[:,:,:,i_inject] = lifetime[:,:,:]\n",
    "        \n",
    "    file1.close()"
   ]
  },
  {
   "cell_type": "code",
   "execution_count": 13,
   "id": "a2199ac7",
   "metadata": {},
   "outputs": [],
   "source": [
    "# save lifetime_01[Nz,Ny,Nx,N_inject] to Lifetime01.txt\n",
    "\n",
    "with open('Lifetime01.txt', 'w') as f:\n",
    "    for i_inject in range(N_inject):\n",
    "        for ix in range(Nx):\n",
    "            for iy in range(Ny):\n",
    "                for iz in range(Nz):\n",
    "                    f.write(str(lifetime_01[iz,iy,ix,i_inject]))\n",
    "                    f.write('\\n')    \n",
    "f.close()"
   ]
  },
  {
   "cell_type": "code",
   "execution_count": null,
   "id": "b35f464b",
   "metadata": {},
   "outputs": [],
   "source": []
  },
  {
   "cell_type": "code",
   "execution_count": 10,
   "id": "9ef8a5b5",
   "metadata": {},
   "outputs": [
    {
     "name": "stderr",
     "output_type": "stream",
     "text": [
      "100%|██████████| 9/9 [39:37<00:00, 264.19s/it]\n"
     ]
    }
   ],
   "source": [
    "# loop for all traj files for month 04\n",
    "\n",
    "file1 = open(directory+filename04[0], 'r')\n",
    "Lines = file1.readlines()\n",
    "Nt = int( (len(Lines)-4)/N_parcel - 1 ) # 2928\n",
    "\n",
    "lifetime_04 = np.zeros((Nz,Ny,Nx, N_inject))\n",
    "\n",
    "for i_inject in tqdm(range(N_inject)):\n",
    "    \n",
    "    # (1) read original data from traj files\n",
    "    data = np.zeros((N_parcel, Nt, N_column))\n",
    "\n",
    "    file1 = open(directory+filename04[i_inject], 'r')\n",
    "#     print('Begin: '+filename04[i_inject])\n",
    "    Lines = file1.readlines()\n",
    "\n",
    "    count = 0\n",
    "    # Strips the newline character\n",
    "    for line in Lines:\n",
    "        count += 1\n",
    "    \n",
    "        if count>=5:\n",
    "            i = count-5\n",
    "            i_parcel = math.floor( i / (Nt+1) ) # Nt time lines plue 1 empty line\n",
    "            i_t = i%(Nt+1)\n",
    "        \n",
    "            if i_t!=0:\n",
    "                a = line.split()\n",
    "\n",
    "                if i_t==1:\n",
    "                    if float(a[0])!=0.0: print('ERROR: first time is not 0 !!!')\n",
    "                \n",
    "                data[i_parcel,i_t-1,1] = float(a[1]) # lon\n",
    "                data[i_parcel,i_t-1,2] = float(a[2]) # lat\n",
    "                data[i_parcel,i_t-1,3] = float(a[3]) # lev\n",
    "                \n",
    "                \n",
    "    # (2) re-shape data(N_parcel, Nt, N_column) to data2(Nz,Ny,Nx,Nt,N_column)\n",
    "    data2 = np.zeros((Nz,Ny,Nx,Nt,N_column))\n",
    "\n",
    "    for iy in range(Ny):\n",
    "        for iz in range(Nz):\n",
    "            for ix in range(Nx):\n",
    "                i_parcel = iy*(Nz*Nx) + iz*Nx + ix\n",
    "                data2[iz,iy,ix,:,:] = data[i_parcel,:,:]\n",
    "                \n",
    "                \n",
    "    # (3) calculate injected tracer lifetime in the stratosphere\n",
    "    P_cont = 200 # [hPa]\n",
    "    lifetime = np.zeros((Nz,Ny,Nx))\n",
    "\n",
    "    for iy in range(Ny):\n",
    "        for iz in range(Nz):\n",
    "            for ix in range(Nx):\n",
    "                Num = 0\n",
    "                for i in data2[iz,iy,ix,:,3]:\n",
    "                    Num = Num+1\n",
    "                    if i>=P_cont: \n",
    "                        lifetime[iz,iy,ix] = Num*3/24 # hour to day\n",
    "                        break\n",
    "                \n",
    "                \n",
    "    # (4) create 2-D LAT and LON\n",
    "    LON = np.zeros((Ny,Nx))\n",
    "    LAT = np.zeros((Ny,Nx))\n",
    "\n",
    "    for iy in range(Ny):\n",
    "        for ix in range(Nx):\n",
    "            LON[iy,ix] = data2[0,iy,ix,0,1]\n",
    "            LAT[iy,ix] = data2[0,iy,ix,0,2]\n",
    "\n",
    "            \n",
    "    # (5) Sort lat dimension from min to max [-20:20]\n",
    "    index = np.argsort(LAT[:,0])\n",
    "\n",
    "    LAT[:,:] = LAT[index,:]\n",
    "    LON[:,:] = LON[index,:]\n",
    "    lifetime[:,:,:] = lifetime[:,index,:]\n",
    "    data2[:,:,:,:,:] = data2[:,index,:,:,:]\n",
    "              \n",
    "    # (6) Finally, save lifetime into  lifetime_04[Nz,Ny,Nx,N_inject]\n",
    "    lifetime_04[:,:,:,i_inject] = lifetime[:,:,:]\n",
    "        \n",
    "    file1.close()"
   ]
  },
  {
   "cell_type": "code",
   "execution_count": 11,
   "id": "b4b52529",
   "metadata": {},
   "outputs": [],
   "source": [
    "# save lifetime_04[Nz,Ny,Nx,N_inject] to Lifetime04.txt\n",
    "\n",
    "with open('Lifetime04.txt', 'w') as f:\n",
    "    for i_inject in range(N_inject):\n",
    "        for ix in range(Nx):\n",
    "            for iy in range(Ny):\n",
    "                for iz in range(Nz):\n",
    "                    f.write(str(lifetime_04[iz,iy,ix,i_inject]))\n",
    "                    f.write('\\n')    \n",
    "f.close()"
   ]
  },
  {
   "cell_type": "code",
   "execution_count": null,
   "id": "2bb584d4",
   "metadata": {},
   "outputs": [],
   "source": []
  },
  {
   "cell_type": "code",
   "execution_count": 12,
   "id": "dcd8b8a0",
   "metadata": {},
   "outputs": [
    {
     "name": "stderr",
     "output_type": "stream",
     "text": [
      "100%|██████████| 9/9 [40:51<00:00, 272.42s/it]\n"
     ]
    }
   ],
   "source": [
    "# loop for all traj files for month 07\n",
    "\n",
    "file1 = open(directory+filename07[0], 'r')\n",
    "Lines = file1.readlines()\n",
    "Nt = int( (len(Lines)-4)/N_parcel - 1 ) # 2928\n",
    "\n",
    "lifetime_07 = np.zeros((Nz,Ny,Nx, N_inject))\n",
    "\n",
    "for i_inject in tqdm(range(N_inject)):\n",
    "    \n",
    "    # (1) read original data from traj files\n",
    "    data = np.zeros((N_parcel, Nt, N_column))\n",
    "\n",
    "    file1 = open(directory+filename07[i_inject], 'r')\n",
    "#     print('Begin: '+filename07[i_inject])\n",
    "    Lines = file1.readlines()\n",
    "\n",
    "    count = 0\n",
    "    # Strips the newline character\n",
    "    for line in Lines:\n",
    "        count += 1\n",
    "    \n",
    "        if count>=5:\n",
    "            i = count-5\n",
    "            i_parcel = math.floor( i / (Nt+1) ) # Nt time lines plue 1 empty line\n",
    "            i_t = i%(Nt+1)\n",
    "        \n",
    "            if i_t!=0:\n",
    "                a = line.split()\n",
    "\n",
    "                if i_t==1:\n",
    "                    if float(a[0])!=0.0: print('ERROR: first time is not 0 !!!')\n",
    "                \n",
    "                data[i_parcel,i_t-1,1] = float(a[1]) # lon\n",
    "                data[i_parcel,i_t-1,2] = float(a[2]) # lat\n",
    "                data[i_parcel,i_t-1,3] = float(a[3]) # lev\n",
    "                \n",
    "                \n",
    "    # (2) re-shape data(N_parcel, Nt, N_column) to data2(Nz,Ny,Nx,Nt,N_column)\n",
    "    data2 = np.zeros((Nz,Ny,Nx,Nt,N_column))\n",
    "\n",
    "    for iy in range(Ny):\n",
    "        for iz in range(Nz):\n",
    "            for ix in range(Nx):\n",
    "                i_parcel = iy*(Nz*Nx) + iz*Nx + ix\n",
    "                data2[iz,iy,ix,:,:] = data[i_parcel,:,:]\n",
    "                \n",
    "                \n",
    "    # (3) calculate injected tracer lifetime in the stratosphere\n",
    "    P_cont = 200 # [hPa]\n",
    "    lifetime = np.zeros((Nz,Ny,Nx))\n",
    "\n",
    "    for iy in range(Ny):\n",
    "        for iz in range(Nz):\n",
    "            for ix in range(Nx):\n",
    "                Num = 0\n",
    "                for i in data2[iz,iy,ix,:,3]:\n",
    "                    Num = Num+1\n",
    "                    if i>=P_cont: \n",
    "                        lifetime[iz,iy,ix] = Num*3/24 # hour to day\n",
    "                        break\n",
    "                \n",
    "                \n",
    "    # (4) create 2-D LAT and LON\n",
    "    LON = np.zeros((Ny,Nx))\n",
    "    LAT = np.zeros((Ny,Nx))\n",
    "\n",
    "    for iy in range(Ny):\n",
    "        for ix in range(Nx):\n",
    "            LON[iy,ix] = data2[0,iy,ix,0,1]\n",
    "            LAT[iy,ix] = data2[0,iy,ix,0,2]\n",
    "\n",
    "            \n",
    "    # (5) Sort lat dimension from min to max [-20:20]\n",
    "    index = np.argsort(LAT[:,0])\n",
    "\n",
    "    LAT[:,:] = LAT[index,:]\n",
    "    LON[:,:] = LON[index,:]\n",
    "    lifetime[:,:,:] = lifetime[:,index,:]\n",
    "    data2[:,:,:,:,:] = data2[:,index,:,:,:]\n",
    "              \n",
    "    # (6) Finally, save lifetime into  lifetime_07[Nz,Ny,Nx,N_inject]\n",
    "    lifetime_07[:,:,:,i_inject] = lifetime[:,:,:]\n",
    "        \n",
    "    file1.close()"
   ]
  },
  {
   "cell_type": "code",
   "execution_count": 13,
   "id": "71500b49",
   "metadata": {},
   "outputs": [],
   "source": [
    "# save lifetime_07[Nz,Ny,Nx,N_inject] to Lifetime07.txt\n",
    "\n",
    "with open('Lifetime07.txt', 'w') as f:\n",
    "    for i_inject in range(N_inject):\n",
    "        for ix in range(Nx):\n",
    "            for iy in range(Ny):\n",
    "                for iz in range(Nz):\n",
    "                    f.write(str(lifetime_07[iz,iy,ix,i_inject]))\n",
    "                    f.write('\\n')    \n",
    "f.close()"
   ]
  },
  {
   "cell_type": "code",
   "execution_count": null,
   "id": "1d53faf2",
   "metadata": {},
   "outputs": [],
   "source": []
  },
  {
   "cell_type": "code",
   "execution_count": 8,
   "id": "2538fb98",
   "metadata": {},
   "outputs": [
    {
     "name": "stderr",
     "output_type": "stream",
     "text": [
      "100%|██████████| 9/9 [38:01<00:00, 253.55s/it]\n"
     ]
    }
   ],
   "source": [
    "# loop for all traj files for month 10\n",
    "\n",
    "file1 = open(directory+filename10[0], 'r')\n",
    "Lines = file1.readlines()\n",
    "Nt = int( (len(Lines)-4)/N_parcel - 1 ) # 2928\n",
    "\n",
    "lifetime_10 = np.zeros((Nz,Ny,Nx, N_inject))\n",
    "\n",
    "for i_inject in tqdm(range(N_inject)):\n",
    "    \n",
    "    # (1) read original data from traj files\n",
    "    data = np.zeros((N_parcel, Nt, N_column))\n",
    "\n",
    "    file1 = open(directory+filename10[i_inject], 'r')\n",
    "#     print('Begin: '+filename10[i_inject])\n",
    "    Lines = file1.readlines()\n",
    "\n",
    "    count = 0\n",
    "    # Strips the newline character\n",
    "    for line in Lines:\n",
    "        count += 1\n",
    "    \n",
    "        if count>=5:\n",
    "            i = count-5\n",
    "            i_parcel = math.floor( i / (Nt+1) ) # Nt time lines plue 1 empty line\n",
    "            i_t = i%(Nt+1)\n",
    "        \n",
    "            if i_t!=0:\n",
    "                a = line.split()\n",
    "\n",
    "                if i_t==1:\n",
    "                    if float(a[0])!=0.0: print('ERROR: first time is not 0 !!!')\n",
    "                \n",
    "                data[i_parcel,i_t-1,1] = float(a[1]) # lon\n",
    "                data[i_parcel,i_t-1,2] = float(a[2]) # lat\n",
    "                data[i_parcel,i_t-1,3] = float(a[3]) # lev\n",
    "                \n",
    "                \n",
    "    # (2) re-shape data(N_parcel, Nt, N_column) to data2(Nz,Ny,Nx,Nt,N_column)\n",
    "    data2 = np.zeros((Nz,Ny,Nx,Nt,N_column))\n",
    "\n",
    "    for iy in range(Ny):\n",
    "        for iz in range(Nz):\n",
    "            for ix in range(Nx):\n",
    "                i_parcel = iy*(Nz*Nx) + iz*Nx + ix\n",
    "                data2[iz,iy,ix,:,:] = data[i_parcel,:,:]\n",
    "                \n",
    "                \n",
    "    # (3) calculate injected tracer lifetime in the stratosphere\n",
    "    P_cont = 200 # [hPa]\n",
    "    lifetime = np.zeros((Nz,Ny,Nx))\n",
    "\n",
    "    for iy in range(Ny):\n",
    "        for iz in range(Nz):\n",
    "            for ix in range(Nx):\n",
    "                Num = 0\n",
    "                for i in data2[iz,iy,ix,:,3]:\n",
    "                    Num = Num+1\n",
    "                    if i>=P_cont: \n",
    "                        lifetime[iz,iy,ix] = Num*3/24 # hour to day\n",
    "                        break\n",
    "                \n",
    "                \n",
    "    # (4) create 2-D LAT and LON\n",
    "    LON = np.zeros((Ny,Nx))\n",
    "    LAT = np.zeros((Ny,Nx))\n",
    "\n",
    "    for iy in range(Ny):\n",
    "        for ix in range(Nx):\n",
    "            LON[iy,ix] = data2[0,iy,ix,0,1]\n",
    "            LAT[iy,ix] = data2[0,iy,ix,0,2]\n",
    "\n",
    "            \n",
    "    # (5) Sort lat dimension from min to max [-20:20]\n",
    "    index = np.argsort(LAT[:,0])\n",
    "\n",
    "    LAT[:,:] = LAT[index,:]\n",
    "    LON[:,:] = LON[index,:]\n",
    "    lifetime[:,:,:] = lifetime[:,index,:]\n",
    "    data2[:,:,:,:,:] = data2[:,index,:,:,:]\n",
    "              \n",
    "    # (6) Finally, save lifetime into  lifetime_10[Nz,Ny,Nx,N_inject]\n",
    "    lifetime_10[:,:,:,i_inject] = lifetime[:,:,:]\n",
    "        \n",
    "    file1.close()"
   ]
  },
  {
   "cell_type": "code",
   "execution_count": 9,
   "id": "ff4a9a0c",
   "metadata": {},
   "outputs": [],
   "source": [
    "# save lifetime_10[Nz,Ny,Nx,N_inject] to Lifetime10.txt\n",
    "\n",
    "with open('Lifetime10.txt', 'w') as f:\n",
    "    for i_inject in range(N_inject):\n",
    "        for ix in range(Nx):\n",
    "            for iy in range(Ny):\n",
    "                for iz in range(Nz):\n",
    "                    f.write(str(lifetime_10[iz,iy,ix,i_inject]))\n",
    "                    f.write('\\n')    \n",
    "f.close()"
   ]
  },
  {
   "cell_type": "code",
   "execution_count": null,
   "id": "7666e10b",
   "metadata": {},
   "outputs": [],
   "source": []
  },
  {
   "cell_type": "code",
   "execution_count": null,
   "id": "b184fadf",
   "metadata": {},
   "outputs": [],
   "source": []
  },
  {
   "cell_type": "code",
   "execution_count": null,
   "id": "94ffb35f",
   "metadata": {},
   "outputs": [],
   "source": []
  },
  {
   "cell_type": "code",
   "execution_count": null,
   "id": "7505e519",
   "metadata": {},
   "outputs": [],
   "source": []
  }
 ],
 "metadata": {
  "kernelspec": {
   "display_name": "Python [conda env:.conda-SUNenv]",
   "language": "python",
   "name": "conda-env-.conda-SUNenv-py"
  },
  "language_info": {
   "codemirror_mode": {
    "name": "ipython",
    "version": 3
   },
   "file_extension": ".py",
   "mimetype": "text/x-python",
   "name": "python",
   "nbconvert_exporter": "python",
   "pygments_lexer": "ipython3",
   "version": "3.8.5"
  }
 },
 "nbformat": 4,
 "nbformat_minor": 5
}
