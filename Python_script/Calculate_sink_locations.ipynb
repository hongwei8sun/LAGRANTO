{
 "cells": [
  {
   "cell_type": "code",
   "execution_count": 2,
   "id": "5fd9b3cd",
   "metadata": {},
   "outputs": [],
   "source": [
    "import numpy as np\n",
    "import math\n",
    "\n",
    "import xarray as xr\n",
    "\n",
    "import matplotlib.pyplot as plt\n",
    "import cartopy.crs as crs\n",
    "import cartopy.feature as cfeature\n",
    "import matplotlib.colors as colors\n",
    "from matplotlib.cm import get_cmap\n",
    "from matplotlib import ticker\n",
    "import matplotlib.gridspec as gridspec\n",
    "\n",
    "from cartopy import config\n",
    "import cartopy.crs as ccrs\n",
    "from cartopy.mpl.ticker import LongitudeFormatter, LatitudeFormatter\n",
    "from cartopy.util import add_cyclic_point\n",
    "\n",
    "from IPython.display import Image\n",
    "\n",
    "from tqdm import tqdm\n",
    "import os \n",
    "from datetime import date\n",
    "import datetime\n",
    "\n",
    "g = 9.8"
   ]
  },
  {
   "cell_type": "code",
   "execution_count": 3,
   "id": "b6f6a14a",
   "metadata": {},
   "outputs": [
    {
     "name": "stdout",
     "output_type": "stream",
     "text": [
      "['2000', '2001', '2002', '2003', '2004', '2005', '2006', '2007', '2008', '2009']\n",
      "['01', '02', '03', '04', '05', '06', '07', '08', '09', '10', '11', '12']\n",
      "['01', '04', '07', '10', '13', '16', '19', '22', '25', '28']\n"
     ]
    }
   ],
   "source": [
    "Years = [\"2000\",\"2001\",\"2002\",\"2003\",\"2004\",\"2005\",\"2006\",\"2007\",\"2008\",\"2009\"]\n",
    "\n",
    "Months = []\n",
    "for imon in range(1,13): ### shw\n",
    "    Months.append(str(imon).zfill(2))\n",
    "    \n",
    "Days = []\n",
    "for iday in range(1,30,3):\n",
    "    Days.append(str(iday).zfill(2))\n",
    "    \n",
    "print(Years)\n",
    "print(Months)\n",
    "print(Days)"
   ]
  },
  {
   "cell_type": "code",
   "execution_count": 4,
   "id": "9745f124",
   "metadata": {},
   "outputs": [],
   "source": [
    "Nx = 24\n",
    "Ny = 21\n",
    "Nz = 6\n",
    "N_parcel = Nx*Ny*Nz\n",
    "\n",
    "if Nx*Ny*Nz!=N_parcel: print('ERROR: parcel number is wrong!')\n",
    "    \n",
    "\n",
    "# directory = '../Lifetime/'\n",
    "# filename = \"Lifetime_\"+Years[0]+Months[0]+Days[0]+\".txt\"\n",
    "# print(directory+filename)"
   ]
  },
  {
   "cell_type": "code",
   "execution_count": 5,
   "id": "4dc40f7c",
   "metadata": {},
   "outputs": [
    {
     "data": {
      "text/plain": [
       "(6, 21, 24, 10, 12, 10)"
      ]
     },
     "execution_count": 5,
     "metadata": {},
     "output_type": "execute_result"
    }
   ],
   "source": [
    "N_year  = len(Years)\n",
    "N_month = len(Months)\n",
    "N_day   = len(Days)\n",
    "\n",
    "day_sink = np.zeros((Nz, Ny, Nx, N_day, N_month, N_year))\n",
    "\n",
    "Lat_init = np.zeros((Nz, Ny, Nx, N_day, N_month, N_year))\n",
    "\n",
    "Lon_sink = np.zeros((Nz, Ny, Nx, N_day, N_month, N_year))\n",
    "Lat_sink = np.zeros((Nz, Ny, Nx, N_day, N_month, N_year))\n",
    "Lev_sink = np.zeros((Nz, Ny, Nx, N_day, N_month, N_year))\n",
    "\n",
    "Lev_sink.shape"
   ]
  },
  {
   "cell_type": "code",
   "execution_count": 6,
   "id": "693a8128",
   "metadata": {},
   "outputs": [],
   "source": [
    "Pressure = [100, 75, 65, 55, 40, 30] # hPa\n",
    "Height   = [16,  18, 19, 20, 22, 24] # km"
   ]
  },
  {
   "cell_type": "code",
   "execution_count": 8,
   "id": "7d6b26d7",
   "metadata": {},
   "outputs": [
    {
     "name": "stderr",
     "output_type": "stream",
     "text": [
      "100%|██████████| 12/12 [00:10<00:00,  1.17it/s]\n",
      "100%|██████████| 12/12 [00:10<00:00,  1.11it/s]\n",
      "100%|██████████| 12/12 [00:09<00:00,  1.23it/s]\n",
      "100%|██████████| 12/12 [00:10<00:00,  1.15it/s]\n",
      "100%|██████████| 12/12 [00:10<00:00,  1.14it/s]\n",
      "100%|██████████| 12/12 [00:10<00:00,  1.18it/s]\n",
      "100%|██████████| 12/12 [00:10<00:00,  1.20it/s]\n",
      "100%|██████████| 12/12 [00:10<00:00,  1.18it/s]\n",
      "100%|██████████| 12/12 [00:10<00:00,  1.17it/s]\n",
      "100%|██████████| 12/12 [00:10<00:00,  1.11it/s]\n"
     ]
    }
   ],
   "source": [
    "for i_year in range(N_year):\n",
    "    for i_month in tqdm(range(N_month)):\n",
    "        for i_day in range(N_day):\n",
    "            \n",
    "            # \n",
    "            f_date = date(2000, 1, 1)\n",
    "            l_date = date(int(Years[i_year]), int(Months[i_month]), int(Days[i_day]))\n",
    "            Delta  = l_date - f_date\n",
    "        \n",
    "        \n",
    "            directory = '/n/home12/hongwei/Paper_3_QBO/Lifetime_New_Tropopause/Lifetime/'\n",
    "            filename = \"Lifetime_\"+Years[i_year]+Months[i_month]+Days[i_day]+\".txt\"\n",
    "            File = open(directory+filename, 'r')\n",
    "        \n",
    "            Lines = File.readlines()\n",
    "\n",
    "            # Strips the newline character\n",
    "            data = []\n",
    "            \n",
    "            Lat_0 = []\n",
    "            \n",
    "            Longitude = []\n",
    "            Latitude = []\n",
    "            Pressure = []\n",
    "            for line in Lines:\n",
    "                a = line.split(',')\n",
    "                data.append(float(a[0])) # lifetime\n",
    "                \n",
    "                Lat_0.append(float(a[4]))\n",
    "                \n",
    "                Longitude.append(float(a[6]))\n",
    "                Latitude.append(float(a[7]))\n",
    "                Pressure.append(float(a[8]))\n",
    "    \n",
    "    \n",
    "            i = 0\n",
    "            for ix in range(Nx):\n",
    "                for iy in range(Ny):\n",
    "                    for iz in range(Nz):\n",
    "                        day_sink[iz,iy,ix,i_day,i_month,i_year] = data[i] + Delta.days  \n",
    "                        \n",
    "                        Lat_init[iz,iy,ix,i_day,i_month,i_year] = Lat_0[i]\n",
    "                        \n",
    "                        Lon_sink[iz,iy,ix,i_day,i_month,i_year] = Longitude[i]\n",
    "                        Lat_sink[iz,iy,ix,i_day,i_month,i_year] = Latitude[i]\n",
    "                        Lev_sink[iz,iy,ix,i_day,i_month,i_year] = Pressure[i]\n",
    "\n",
    "                        i = i+1"
   ]
  },
  {
   "cell_type": "code",
   "execution_count": null,
   "id": "49402097",
   "metadata": {},
   "outputs": [],
   "source": []
  },
  {
   "cell_type": "code",
   "execution_count": 9,
   "id": "c1a4e088",
   "metadata": {},
   "outputs": [
    {
     "data": {
      "text/plain": [
       "(array([-90, -84, -78, -72, -66, -60, -54, -48, -42, -36, -30, -24, -18,\n",
       "        -12,  -6,   0,   6,  12,  18,  24,  30,  36,  42,  48,  54,  60,\n",
       "         66,  72,  78,  84,  90]),\n",
       " array([-180, -170, -160, -150, -140, -130, -120, -110, -100,  -90,  -80,\n",
       "         -70,  -60,  -50,  -40,  -30,  -20,  -10,    0,   10,   20,   30,\n",
       "          40,   50,   60,   70,   80,   90,  100,  110,  120,  130,  140,\n",
       "         150,  160,  170,  180]),\n",
       " array([ 75, 125, 175, 225, 275, 325, 375, 425]),\n",
       " array([-87, -81, -75, -69, -63, -57, -51, -45, -39, -33, -27, -21, -15,\n",
       "         -9,  -3,   3,   9,  15,  21,  27,  33,  39,  45,  51,  57,  63,\n",
       "         69,  75,  81,  87]),\n",
       " array([-175, -165, -155, -145, -135, -125, -115, -105,  -95,  -85,  -75,\n",
       "         -65,  -55,  -45,  -35,  -25,  -15,   -5,    5,   15,   25,   35,\n",
       "          45,   55,   65,   75,   85,   95,  105,  115,  125,  135,  145,\n",
       "         155,  165,  175]),\n",
       " array([100, 150, 200, 250, 300, 350, 400]),\n",
       " 30,\n",
       " 36,\n",
       " 180)"
      ]
     },
     "execution_count": 9,
     "metadata": {},
     "output_type": "execute_result"
    }
   ],
   "source": [
    "Lats_edge = np.arange(-90,91,6)\n",
    "Lons_edge = np.arange(-180,181,10)\n",
    "Levs_edge = np.arange(75,450,50)\n",
    "\n",
    "Lats_mid = np.arange(-87,90,6)\n",
    "Lons_mid = np.arange(-175,180,10)\n",
    "Levs_mid = np.arange(100,450,50)\n",
    "\n",
    "\n",
    "N_lat = len(Lats_mid)\n",
    "N_lon = len(Lons_mid)\n",
    "N_lev = len(Levs_mid) # 16, 18, 20, 22, 24 km\n",
    "\n",
    "Lats_edge, Lons_edge, Levs_edge, Lats_mid, Lons_mid, Levs_mid, N_lat, N_lon, Lons_edge[-1]"
   ]
  },
  {
   "cell_type": "code",
   "execution_count": 10,
   "id": "2707dc1d",
   "metadata": {},
   "outputs": [],
   "source": [
    "def find_i_LON(lon):\n",
    "    if lon<Lons_edge[0]:  lon = lon+360\n",
    "    if lon>=Lons_edge[-1]: lon = lon-360\n",
    "    return int( np.floor( (lon - Lons_edge[0]) / (Lons_edge[1]-Lons_edge[0]) ) )\n",
    "\n",
    "\n",
    "def find_i_LAT(lat):\n",
    "    return int( np.floor( (lat - Lats_edge[0]) / (Lats_edge[1]-Lats_edge[0]) ) )\n",
    "\n",
    "\n",
    "def find_i_LEV(lev):\n",
    "    if lev<Levs_edge[0]:  lev = Levs_mid[0]\n",
    "    if lev>=Levs_edge[-1]: lev = Levs_mid[-1]\n",
    "    return int( np.floor( (lev - Levs_edge[0]) / (Levs_edge[1]-Levs_edge[0]) ) )"
   ]
  },
  {
   "cell_type": "code",
   "execution_count": 11,
   "id": "b66dd48d",
   "metadata": {},
   "outputs": [
    {
     "data": {
      "text/plain": [
       "(array([ 75, 125, 175, 225, 275, 325, 375, 425]), 425)"
      ]
     },
     "execution_count": 11,
     "metadata": {},
     "output_type": "execute_result"
    }
   ],
   "source": [
    "Levs_edge, Levs_edge[N_lev]"
   ]
  },
  {
   "cell_type": "code",
   "execution_count": 12,
   "id": "0cfbfb89",
   "metadata": {},
   "outputs": [],
   "source": [
    "Total_Mon = 20*12\n",
    "Sink_num = np.zeros((N_lon, N_lat, N_lev, Total_Mon))\n"
   ]
  },
  {
   "cell_type": "code",
   "execution_count": 13,
   "id": "5844b460",
   "metadata": {},
   "outputs": [
    {
     "name": "stderr",
     "output_type": "stream",
     "text": [
      "100%|██████████| 10/10 [00:06<00:00,  1.51it/s]\n"
     ]
    }
   ],
   "source": [
    "# Lon_sink = np.zeros((Nz, Ny, Nx, N_day, N_month, N_year))\n",
    "\n",
    "for iyear in tqdm(range(N_year)):\n",
    "    for imon in range(N_month):\n",
    "        for iday in range(N_day):\n",
    "            for ix in range(Nx):\n",
    "                for iy in range(Ny):\n",
    "                    iz=2\n",
    "                    \n",
    "                    if abs(Lat_init[iz, iy, ix, iday, imon, iyear])<=15.0:\n",
    "                    \n",
    "                        i_LON = find_i_LON(Lon_sink[iz, iy, ix, iday, imon, iyear])\n",
    "                        i_LAT = find_i_LAT(Lat_sink[iz, iy, ix, iday, imon, iyear])\n",
    "                        i_LEV = find_i_LEV(Lev_sink[iz, iy, ix, iday, imon, iyear])\n",
    "                    \n",
    "                        start_date = datetime.datetime.strptime(\"01/01/00\", \"%m/%d/%y\")\n",
    "                        end_date = start_date + datetime.timedelta(days=day_sink[iz, iy, ix, iday, imon, iyear])\n",
    "                        i_MON = 12*(end_date.year-2000) +end_date.month -1\n",
    "                          \n",
    "#                     print(LON, LAT, LEV, i_LON, i_LAT, i_LEV, it)\n",
    "                        Sink_num[i_LON, i_LAT, i_LEV, i_MON] = Sink_num[i_LON, i_LAT, i_LEV, i_MON] + 1"
   ]
  },
  {
   "cell_type": "code",
   "execution_count": 14,
   "id": "bd588a52",
   "metadata": {},
   "outputs": [
    {
     "data": {
      "text/plain": [
       "(6, 23, 4, 158, 1.0)"
      ]
     },
     "execution_count": 14,
     "metadata": {},
     "output_type": "execute_result"
    }
   ],
   "source": [
    "i_LON, i_LAT, i_LEV, i_MON, Sink_num[i_LON, i_LAT, i_LEV, i_MON]"
   ]
  },
  {
   "cell_type": "markdown",
   "id": "adb4fec9",
   "metadata": {},
   "source": [
    "### The unit is: particles per month"
   ]
  },
  {
   "cell_type": "code",
   "execution_count": 15,
   "id": "bd7d5bd8",
   "metadata": {},
   "outputs": [
    {
     "data": {
      "text/plain": [
       "[16, 18, 19, 20, 22, 24]"
      ]
     },
     "execution_count": 15,
     "metadata": {},
     "output_type": "execute_result"
    }
   ],
   "source": [
    "Height[:]"
   ]
  },
  {
   "cell_type": "code",
   "execution_count": 16,
   "id": "b5fd8879",
   "metadata": {},
   "outputs": [],
   "source": [
    "# Sink_num = np.zeros((N_lon, N_lat, N_lev, Total_Mon))\n",
    "\n",
    "with open(f'./Num_Sinks_Within_15deg_{Height[iz]:.0f}km.txt', 'w') as f:\n",
    "    for i_MON in range(Total_Mon):\n",
    "            for ix in range(N_lon):\n",
    "                for iy in range(N_lat):\n",
    "                    f.write(  str(i_MON) + ',' \\\n",
    "                            + str(Lons_mid[ix]) + ',' \\\n",
    "                            + str(Lats_mid[iy]) + ',' \\\n",
    "                        \n",
    "                            + str(Sink_num[ix, iy, 0, i_MON])  + ',' \\\n",
    "                            + str(Sink_num[ix, iy, 1, i_MON])  + ',' \\\n",
    "                            + str(Sink_num[ix, iy, 2, i_MON])  + ',' \\\n",
    "                            + str(Sink_num[ix, iy, 3, i_MON])  + ',' \\\n",
    "                            + str(Sink_num[ix, iy, 4, i_MON])  + ',' \\\n",
    "                            + str(Sink_num[ix, iy, 5, i_MON])  + ',' \\\n",
    "                            + str(Sink_num[ix, iy, 6, i_MON])   )\n",
    "                        \n",
    "                    f.write('\\n')\n",
    "f.close()"
   ]
  },
  {
   "cell_type": "code",
   "execution_count": 17,
   "id": "377c9867",
   "metadata": {},
   "outputs": [
    {
     "data": {
      "text/plain": [
       "(0.5238095238095238, 3024)"
      ]
     },
     "execution_count": 17,
     "metadata": {},
     "output_type": "execute_result"
    }
   ],
   "source": [
    "# Check whether the total number of sinks are same as the total number of injected particles\n",
    "\n",
    "np.sum(Sink_num)/(10*(360/3)*Nx*Ny), Nx*Ny*Nz"
   ]
  },
  {
   "cell_type": "code",
   "execution_count": null,
   "id": "d678a4bd",
   "metadata": {},
   "outputs": [],
   "source": []
  },
  {
   "cell_type": "code",
   "execution_count": 18,
   "id": "7a001028",
   "metadata": {},
   "outputs": [],
   "source": [
    "###\n",
    "# fig = plt.figure(figsize=(12,10), dpi=150)\n",
    "# projection = crs.PlateCarree()\n",
    "\n",
    "# ax1 = fig.add_subplot(4,1,1, projection=projection)\n",
    "\n",
    "# ax1.set_global()\n",
    "# # ax1.set_extent(extent, crs=projection) ## Important\n",
    "# ax1.add_feature(cfeature.COASTLINE, edgecolor=\"gray\")\n",
    "\n",
    "# ax1_pixel = plt.imshow(lifetime_season_mean_new2[iz,:,:,0]/365.25, vmin=Day_min, vmax=Day_max,\\\n",
    "#            extent = extent, cmap='RdBu_r', interpolation='nearest')\n",
    "\n",
    "# cb1 = plt.colorbar(ax1_pixel, ax=ax1)\n",
    "# cb1.set_label('[year]', fontsize=12);\n",
    "\n",
    "# ax1.set_xticks(np.linspace(-180, 180, 13), crs=projection)\n",
    "# ax1.set_yticks(np.linspace(-30, 30, 5), crs=projection)\n",
    "\n",
    "# ax1.set_title(f\"Max: {int(np.max(lifetime_season_mean_new2[iz,:,:,0]))/365.25:.1f} years\", loc='right', fontsize=12);\n",
    "# ax1.set_title(f\"Min: {int(np.min(lifetime_season_mean_new2[iz,:,:,0]))/365.25:.1f} years\", loc='left', fontsize=12);\n",
    "# ax1.set_title(f\"Lifetime of particles (injected at {np.round(Height[iz])} km) in Winter\")\n",
    "\n"
   ]
  },
  {
   "cell_type": "code",
   "execution_count": null,
   "id": "ebef362e",
   "metadata": {},
   "outputs": [],
   "source": []
  },
  {
   "cell_type": "code",
   "execution_count": 19,
   "id": "c74f7ce6",
   "metadata": {},
   "outputs": [
    {
     "data": {
      "text/plain": [
       "datetime.datetime(2000, 1, 11, 0, 0)"
      ]
     },
     "execution_count": 19,
     "metadata": {},
     "output_type": "execute_result"
    }
   ],
   "source": [
    "import datetime\n",
    "\n",
    "date_1 = datetime.datetime.strptime('01/01/00', \"%m/%d/%y\")\n",
    "\n",
    "end_date = date_1 + datetime.timedelta(days=10)\n",
    "\n",
    "end_date"
   ]
  },
  {
   "cell_type": "code",
   "execution_count": null,
   "id": "76da34b3-e122-4eba-b40f-34c1f58c72e7",
   "metadata": {},
   "outputs": [],
   "source": []
  },
  {
   "cell_type": "code",
   "execution_count": null,
   "id": "5122c841-4294-473d-a586-dfb29c7a805d",
   "metadata": {},
   "outputs": [],
   "source": []
  }
 ],
 "metadata": {
  "kernelspec": {
   "display_name": "Python [conda env:.conda-SUNenv]",
   "language": "python",
   "name": "conda-env-.conda-SUNenv-py"
  },
  "language_info": {
   "codemirror_mode": {
    "name": "ipython",
    "version": 3
   },
   "file_extension": ".py",
   "mimetype": "text/x-python",
   "name": "python",
   "nbconvert_exporter": "python",
   "pygments_lexer": "ipython3",
   "version": "3.8.5"
  }
 },
 "nbformat": 4,
 "nbformat_minor": 5
}
