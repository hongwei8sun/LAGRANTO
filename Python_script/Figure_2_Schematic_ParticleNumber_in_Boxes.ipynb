{
 "cells": [
  {
   "cell_type": "code",
   "execution_count": 1,
   "id": "db53f9b2",
   "metadata": {},
   "outputs": [],
   "source": [
    "import numpy as np\n",
    "import math\n",
    "\n",
    "import matplotlib.pyplot as plt\n",
    "import cartopy.crs as crs\n",
    "import cartopy.feature as cfeature\n",
    "import matplotlib.colors as colors\n",
    "from matplotlib.cm import get_cmap\n",
    "from matplotlib import ticker\n",
    "import matplotlib.gridspec as gridspec\n",
    "\n",
    "from cartopy import config\n",
    "import cartopy.crs as ccrs\n",
    "from cartopy.mpl.ticker import LongitudeFormatter, LatitudeFormatter\n",
    "from cartopy.util import add_cyclic_point\n",
    "\n",
    "from IPython.display import Image\n",
    "from datetime import date\n",
    "\n",
    "from tqdm import tqdm\n",
    "import os "
   ]
  },
  {
   "cell_type": "code",
   "execution_count": 2,
   "id": "222be199",
   "metadata": {},
   "outputs": [
    {
     "name": "stdout",
     "output_type": "stream",
     "text": [
      "['2000', '2001', '2002', '2003', '2004', '2005', '2006', '2007', '2008', '2009']\n",
      "['01', '02', '03', '04', '05', '06', '07', '08', '09', '10', '11', '12']\n",
      "['01', '04', '07', '10', '13', '16', '19', '22', '25', '28']\n"
     ]
    }
   ],
   "source": [
    "Years = [\"2000\",\"2001\",\"2002\",\"2003\",\"2004\",\"2005\",\"2006\",\"2007\",\"2008\",\"2009\"]\n",
    "N_year = len(Years)\n",
    "\n",
    "Months = []\n",
    "for imon in range(1,13): ### shw\n",
    "    Months.append(str(imon).zfill(2))\n",
    "    \n",
    "Days = []\n",
    "for iday in range(1,30,3):\n",
    "    Days.append(str(iday).zfill(2))\n",
    "    \n",
    "print(Years)\n",
    "print(Months)\n",
    "print(Days)"
   ]
  },
  {
   "cell_type": "code",
   "execution_count": 3,
   "id": "f5957308",
   "metadata": {},
   "outputs": [
    {
     "data": {
      "text/plain": [
       "(array([-90, -84, -78, -72, -66, -60, -54, -48, -42, -36, -30, -24, -18,\n",
       "        -12,  -6,   0,   6,  12,  18,  24,  30,  36,  42,  48,  54,  60,\n",
       "         66,  72,  78,  84,  90]),\n",
       " array([-180, -170, -160, -150, -140, -130, -120, -110, -100,  -90,  -80,\n",
       "         -70,  -60,  -50,  -40,  -30,  -20,  -10,    0,   10,   20,   30,\n",
       "          40,   50,   60,   70,   80,   90,  100,  110,  120,  130,  140,\n",
       "         150,  160,  170,  180]),\n",
       " array([-87, -81, -75, -69, -63, -57, -51, -45, -39, -33, -27, -21, -15,\n",
       "         -9,  -3,   3,   9,  15,  21,  27,  33,  39,  45,  51,  57,  63,\n",
       "         69,  75,  81,  87]),\n",
       " array([-175, -165, -155, -145, -135, -125, -115, -105,  -95,  -85,  -75,\n",
       "         -65,  -55,  -45,  -35,  -25,  -15,   -5,    5,   15,   25,   35,\n",
       "          45,   55,   65,   75,   85,   95,  105,  115,  125,  135,  145,\n",
       "         155,  165,  175]),\n",
       " 30,\n",
       " 36,\n",
       " 180)"
      ]
     },
     "execution_count": 3,
     "metadata": {},
     "output_type": "execute_result"
    }
   ],
   "source": [
    "Lats_edge = np.arange(-90,91,6)\n",
    "Lons_edge = np.arange(-180,181,10)\n",
    "\n",
    "Lats_mid = np.arange(-87,90,6)\n",
    "Lons_mid = np.arange(-175,180,10)\n",
    "\n",
    "# Levs    = [100, 75, 65, 55, 40, 30]\n",
    "# Heights = [16, 18, 19, 20, 22, 24]\n",
    "Levs    = [100, 75, 65, 55, 47, 40, 30] # hPa\n",
    "Heights = [16,  17.92, 18.87, 20, 21.05, 22.1, 24] # km\n",
    "# [100, 75, 55, 40, 30]\n",
    "\n",
    "\n",
    "N_lat = len(Lats_mid)\n",
    "N_lon = len(Lons_mid)\n",
    "N_lev = len(Levs) # 16, 18, 20, 22, 24 km\n",
    "\n",
    "Lats_edge, Lons_edge, Lats_mid, Lons_mid, N_lat, N_lon, Lons_edge[-1]"
   ]
  },
  {
   "cell_type": "code",
   "execution_count": 4,
   "id": "24a558c2",
   "metadata": {},
   "outputs": [],
   "source": [
    "# count the particle (injected at different height) number in each grid cell\n",
    "N_day  = 20*366\n",
    "Num_2D = np.zeros((N_lat, N_lon, N_lev, N_day)) \n"
   ]
  },
  {
   "cell_type": "code",
   "execution_count": 5,
   "id": "98b707e7",
   "metadata": {},
   "outputs": [
    {
     "name": "stderr",
     "output_type": "stream",
     "text": [
      "100%|██████████| 10/10 [03:40<00:00, 22.07s/it]"
     ]
    },
    {
     "name": "stdout",
     "output_type": "stream",
     "text": [
      "7905599\n"
     ]
    },
    {
     "name": "stderr",
     "output_type": "stream",
     "text": [
      "\n"
     ]
    }
   ],
   "source": [
    "for i_year in tqdm(range(N_year)):\n",
    "    \n",
    "    NUMs = np.zeros((N_lon*N_lat*N_day, N_lev))\n",
    "    \n",
    "    \n",
    "    # 6 injection altitudes\n",
    "    \n",
    "    # total\n",
    "#     File1 = open('/n/home12/hongwei/Paper_2/Plot_python/Num_Concnt/Num_Concnt_2000_'+Years[i_year]+'.txt', 'r')\n",
    "    \n",
    "    # lower stratosphere: below 50hPa\n",
    "#     File1 = open('/n/home12/hongwei/Paper_3_QBO/Finals/Num_Concnt_data/Num_Concnt_lower_2000_'+Years[i_year]+'.txt', 'r')\n",
    "\n",
    "    # higher stratosphere: below 50hPa\n",
    "    File1 = open('/n/home12/hongwei/Paper_3_QBO/Finals/Num_Concnt_data/Num_Concnt_upper_2000_'+Years[i_year]+'.txt', 'r')\n",
    "    \n",
    "    Lines1 = File1.readlines()\n",
    "    \n",
    "    ii = 0\n",
    "    for line1 in Lines1:\n",
    "        a1 = line1.split(',')\n",
    "        NUMs[ii,0] = float(a1[3])\n",
    "        NUMs[ii,1] = float(a1[4])\n",
    "        NUMs[ii,2] = float(a1[5])\n",
    "        NUMs[ii,3] = float(a1[6])\n",
    "        NUMs[ii,5] = float(a1[7])\n",
    "        NUMs[ii,6] = float(a1[8])\n",
    "        ii = ii+1\n",
    "\n",
    "        \n",
    "    # 21-km injection\n",
    "    File2 = open('/n/home12/hongwei/Paper_2/Plot_python/21km_post_process/Num_Concnt_21km/Num_Concnt_2000_'+Years[i_year]+'_21km.txt', 'r')\n",
    "    Lines2 = File2.readlines()\n",
    "    \n",
    "    ii = 0\n",
    "    for line2 in Lines2:\n",
    "        a2 = line2.split(',')\n",
    "        NUMs[ii,4] = float(a2[3])\n",
    "        ii = ii+1        \n",
    "\n",
    "        \n",
    "    # remap to global (Lon,Lat) mesh\n",
    "    Num_2D_temp = np.zeros((N_lat, N_lon, N_lev, N_day)) \n",
    "    for i_day in range(N_day):\n",
    "        for ix in range(N_lon):\n",
    "            for iy in range(N_lat):\n",
    "                ii = i_day*(N_lat*N_lon) + ix*N_lat + iy\n",
    "                Num_2D_temp[iy, ix, :, i_day] = NUMs[ii,:]\n",
    "               \n",
    "            \n",
    "    Num_2D = Num_2D + Num_2D_temp            \n",
    "    \n",
    "print(ii)\n"
   ]
  },
  {
   "cell_type": "code",
   "execution_count": 6,
   "id": "791022d3",
   "metadata": {},
   "outputs": [
    {
     "name": "stdout",
     "output_type": "stream",
     "text": [
      "LAT Before:  [-87 -81 -75 -69 -63 -57 -51 -45 -39 -33 -27 -21 -15  -9  -3   3   9  15\n",
      "  21  27  33  39  45  51  57  63  69  75  81  87]\n",
      "LAT After:  [ 87  81  75  69  63  57  51  45  39  33  27  21  15   9   3  -3  -9 -15\n",
      " -21 -27 -33 -39 -45 -51 -57 -63 -69 -75 -81 -87]\n"
     ]
    }
   ],
   "source": [
    "# change (-20,20) to (20,-20)\n",
    "\n",
    "print(\"LAT Before: \", Lats_mid)\n",
    "\n",
    "if Lats_mid[0]<Lats_mid[-1]:\n",
    "    Lats_edge = Lats_edge[::-1]\n",
    "    Lats_mid = Lats_mid[::-1]\n",
    "    Num_2D[:, :, :, :] = Num_2D[::-1, :, :, :]\n",
    "\n",
    "print(\"LAT After: \", Lats_mid)"
   ]
  },
  {
   "cell_type": "code",
   "execution_count": 7,
   "id": "77a2d30e",
   "metadata": {},
   "outputs": [
    {
     "data": {
      "text/plain": [
       "(30, 36, 7, 240)"
      ]
     },
     "execution_count": 7,
     "metadata": {},
     "output_type": "execute_result"
    }
   ],
   "source": [
    "# monthly data\n",
    "# To simplify, assume all months have 30 days\n",
    "\n",
    "N_month = 20*12\n",
    "\n",
    "Num_2D_month = np.zeros((N_lat, N_lon, N_lev, N_month))\n",
    "\n",
    "for i_mon in range(N_month):\n",
    "    Num_2D_month[:,:,:,i_mon] = np.mean(Num_2D[:,:,:,i_mon*30:(i_mon+1)*30], axis=3)\n",
    "\n",
    "Num_2D_month.shape"
   ]
  },
  {
   "cell_type": "markdown",
   "id": "5a020590",
   "metadata": {},
   "source": [
    "# Be careful about mean() and sum()!!!\n",
    "## the unit should be [particles] in the steady state"
   ]
  },
  {
   "cell_type": "code",
   "execution_count": 8,
   "id": "8de0122b",
   "metadata": {},
   "outputs": [
    {
     "data": {
      "text/plain": [
       "(18.87, 65)"
      ]
     },
     "execution_count": 8,
     "metadata": {},
     "output_type": "execute_result"
    }
   ],
   "source": [
    "iz = 2\n",
    "Heights[iz], Levs[iz]"
   ]
  },
  {
   "cell_type": "code",
   "execution_count": 9,
   "id": "19573a27",
   "metadata": {},
   "outputs": [
    {
     "name": "stdout",
     "output_type": "stream",
     "text": [
      "(30, 36)\n",
      "[ 87  81  75  69  63 -63 -69 -75 -81 -87] [ 57  51  45  39  33 -33 -39 -45 -51 -57] [ 27  21  15   9   3  -3  -9 -15 -21 -27]\n",
      "0.0 0.0 0.0\n"
     ]
    }
   ],
   "source": [
    "# select 2005.1-2009.12\n",
    "Num_month_steady = np.mean(Num_2D_month[:,:,iz,5*12:10*12], axis=2)\n",
    "print(Num_month_steady.shape)\n",
    "\n",
    "\n",
    "# select lat index for tropics, mid-lat, and polar regions\n",
    "iy_polar = list(np.arange(0,5,1))+list(np.arange(25,30,1))\n",
    "iy_midlat = list(np.arange(5,10,1))+list(np.arange(20,25,1))\n",
    "iy_tropic = list(np.arange(10,20,1))\n",
    "\n",
    "print(Lats_mid[iy_polar], Lats_mid[iy_midlat], Lats_mid[iy_tropic])\n",
    "\n",
    "# get particle number sinking in the three regions\n",
    "Num_month_tropic = np.sum(Num_month_steady[iy_tropic,:])\n",
    "Num_month_midlat = np.sum(Num_month_steady[iy_midlat,:])\n",
    "Num_month_polar = np.sum(Num_month_steady[iy_polar,:])\n",
    "\n",
    "print(Num_month_tropic, Num_month_midlat, Num_month_polar)\n"
   ]
  },
  {
   "cell_type": "code",
   "execution_count": null,
   "id": "3be727d2",
   "metadata": {},
   "outputs": [],
   "source": []
  },
  {
   "cell_type": "code",
   "execution_count": null,
   "id": "cb2fc468",
   "metadata": {},
   "outputs": [],
   "source": [
    "\n"
   ]
  },
  {
   "cell_type": "code",
   "execution_count": null,
   "id": "cb585086",
   "metadata": {},
   "outputs": [],
   "source": []
  },
  {
   "cell_type": "code",
   "execution_count": 10,
   "id": "0ac4ea7f",
   "metadata": {},
   "outputs": [
    {
     "data": {
      "text/plain": [
       "(0.0, 0.0)"
      ]
     },
     "execution_count": 10,
     "metadata": {},
     "output_type": "execute_result"
    }
   ],
   "source": [
    "Num_month_tropic/3, Num_month_tropic/3*2"
   ]
  },
  {
   "cell_type": "code",
   "execution_count": 11,
   "id": "ba3b03aa",
   "metadata": {},
   "outputs": [],
   "source": [
    "total = Num_month_tropic + Num_month_midlat + Num_month_polar"
   ]
  },
  {
   "cell_type": "code",
   "execution_count": 12,
   "id": "f29d5979",
   "metadata": {},
   "outputs": [
    {
     "data": {
      "text/plain": [
       "(0.0, 0.0)"
      ]
     },
     "execution_count": 12,
     "metadata": {},
     "output_type": "execute_result"
    }
   ],
   "source": [
    "total/(21*24*10), total"
   ]
  },
  {
   "cell_type": "code",
   "execution_count": 13,
   "id": "4eca4edc",
   "metadata": {},
   "outputs": [
    {
     "ename": "SyntaxError",
     "evalue": "invalid syntax (<ipython-input-13-9affefd6226f>, line 1)",
     "output_type": "error",
     "traceback": [
      "\u001b[0;36m  File \u001b[0;32m\"<ipython-input-13-9affefd6226f>\"\u001b[0;36m, line \u001b[0;32m1\u001b[0m\n\u001b[0;31m    43200.42166666666 37701.49444444444 16287.704444444445\u001b[0m\n\u001b[0m                      ^\u001b[0m\n\u001b[0;31mSyntaxError\u001b[0m\u001b[0;31m:\u001b[0m invalid syntax\n"
     ]
    }
   ],
   "source": [
    "43200.42166666666 37701.49444444444 16287.704444444445\n"
   ]
  }
 ],
 "metadata": {
  "kernelspec": {
   "display_name": "Python [conda env:.conda-SUNenv]",
   "language": "python",
   "name": "conda-env-.conda-SUNenv-py"
  },
  "language_info": {
   "codemirror_mode": {
    "name": "ipython",
    "version": 3
   },
   "file_extension": ".py",
   "mimetype": "text/x-python",
   "name": "python",
   "nbconvert_exporter": "python",
   "pygments_lexer": "ipython3",
   "version": "3.8.5"
  }
 },
 "nbformat": 4,
 "nbformat_minor": 5
}
