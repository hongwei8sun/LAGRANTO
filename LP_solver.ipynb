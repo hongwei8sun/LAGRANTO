{
 "cells": [
  {
   "cell_type": "code",
   "execution_count": 1,
   "id": "99c7a04b",
   "metadata": {},
   "outputs": [],
   "source": [
    "import numpy as np\n",
    "import math\n",
    "\n",
    "import matplotlib.pyplot as plt\n",
    "import cartopy.crs as crs\n",
    "import cartopy.feature as cfeature\n",
    "import matplotlib.colors as colors\n",
    "from matplotlib.cm import get_cmap\n",
    "from matplotlib import ticker\n",
    "import matplotlib.gridspec as gridspec\n",
    "\n",
    "from cartopy import config\n",
    "import cartopy.crs as ccrs\n",
    "from cartopy.mpl.ticker import LongitudeFormatter, LatitudeFormatter\n",
    "from cartopy.util import add_cyclic_point\n",
    "\n",
    "from IPython.display import Image\n",
    "\n",
    "from tqdm import tqdm\n",
    "import os "
   ]
  },
  {
   "cell_type": "code",
   "execution_count": 2,
   "id": "de567169",
   "metadata": {},
   "outputs": [],
   "source": [
    "N_head = 5 # first 5 lines are head lines, not include data\n",
    "N_column = 4\n",
    "\n",
    "# Injection location\n",
    "Nx = 36\n",
    "Ny = 21\n",
    "Nz = 5\n",
    "N_parcel = 3780\n",
    "\n",
    "if Nx*Ny*Nz!=N_parcel: print('ERROR: parcel number is wrong!')\n",
    "    \n",
    "N_inject = 9 # how many injecting times"
   ]
  },
  {
   "cell_type": "code",
   "execution_count": 3,
   "id": "ddc286a9",
   "metadata": {},
   "outputs": [
    {
     "name": "stderr",
     "output_type": "stream",
     "text": [
      "100%|██████████| 34020/34020 [00:00<00:00, 717981.57it/s]\n",
      "100%|██████████| 9/9 [00:00<00:00, 412.35it/s]\n"
     ]
    }
   ],
   "source": [
    "# 01\n",
    "\n",
    "file01 = open(\"Lifetime01.txt\", 'r')\n",
    "Lines = file01.readlines()\n",
    "\n",
    "# Strips the newline character\n",
    "data = []\n",
    "for line in tqdm(Lines):\n",
    "    a = line.split()\n",
    "    data.append(float(a[0]))\n",
    "    \n",
    "    \n",
    "i = 0\n",
    "lifetime_01 = np.zeros((Nz,Ny,Nx, N_inject))\n",
    "for i_inject in tqdm(range(N_inject)):\n",
    "    for ix in range(Nx):\n",
    "        for iy in range(Ny):\n",
    "            for iz in range(Nz):\n",
    "                lifetime_01[iz,iy,ix,i_inject] = data[i]\n",
    "                \n",
    "                i = i+1"
   ]
  },
  {
   "cell_type": "code",
   "execution_count": 6,
   "id": "0d6861fe",
   "metadata": {},
   "outputs": [],
   "source": [
    "# first test: one time injection\n",
    "\n",
    "Life = lifetime_01[0,:,:,0].flatten()\n",
    "Life_S = lifetime_S_01[0,:,:,0].flatten()\n",
    "Life_N = lifetime_N_01[0,:,:,0].flatten()\n",
    "\n",
    "if sum(Life_S)+sum(Life_N)!=sum(Life): print(\"ERROR!!!\")"
   ]
  },
  {
   "cell_type": "code",
   "execution_count": 7,
   "id": "fd4b6518",
   "metadata": {},
   "outputs": [
    {
     "data": {
      "text/plain": [
       "(756,)"
      ]
     },
     "execution_count": 7,
     "metadata": {},
     "output_type": "execute_result"
    }
   ],
   "source": [
    "N = Life.shape"
   ]
  },
  {
   "cell_type": "code",
   "execution_count": null,
   "id": "c1f21b70",
   "metadata": {},
   "outputs": [],
   "source": [
    "# https://docs.scipy.org/doc/scipy/reference/generated/scipy.optimize.linprog.html\n",
    "\n",
    "c = -1*Life\n",
    "A = [[-3, 1], [1, 2]]\n",
    "b = [756, -756, 0]\n",
    "\n",
    "Xs_bounds = []\n",
    "A = []\n",
    "for i in range(N):\n",
    "    Xs_bounds.append((None, None))\n",
    "    A.append([1,-1,abs(Life_N[i]-Life_S[i])-0.05*Life[i]])\n",
    "\n",
    "from scipy.optimize import linprog\n",
    "res = linprog(c, A_ub=A, b_ub=b, bounds=Xs_bounds)"
   ]
  }
 ],
 "metadata": {
  "kernelspec": {
   "display_name": "Python [conda env:.conda-SUNenv]",
   "language": "python",
   "name": "conda-env-.conda-SUNenv-py"
  },
  "language_info": {
   "codemirror_mode": {
    "name": "ipython",
    "version": 3
   },
   "file_extension": ".py",
   "mimetype": "text/x-python",
   "name": "python",
   "nbconvert_exporter": "python",
   "pygments_lexer": "ipython3",
   "version": "3.8.5"
  }
 },
 "nbformat": 4,
 "nbformat_minor": 5
}
